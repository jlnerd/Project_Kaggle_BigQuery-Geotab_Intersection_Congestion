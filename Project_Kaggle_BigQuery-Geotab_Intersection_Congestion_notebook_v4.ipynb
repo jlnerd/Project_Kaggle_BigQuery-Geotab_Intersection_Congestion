{
 "cells": [
  {
   "cell_type": "markdown",
   "metadata": {},
   "source": [
    "# Install Libs"
   ]
  },
  {
   "cell_type": "code",
   "execution_count": 1,
   "metadata": {},
   "outputs": [],
   "source": [
    "!pip install --upgrade JLpyUtils \n",
    "import IPython.display\n",
    "IPython.display.clear_output()"
   ]
  },
  {
   "cell_type": "markdown",
   "metadata": {},
   "source": [
    "# Import Libs"
   ]
  },
  {
   "cell_type": "code",
   "execution_count": 1,
   "metadata": {
    "ExecuteTime": {
     "end_time": "2019-10-04T16:18:49.360746Z",
     "start_time": "2019-10-04T16:18:48.366669Z"
    }
   },
   "outputs": [],
   "source": [
    "import numpy as np\n",
    "import pandas as pd\n",
    "import sys, os, importlib, gc\n",
    "import matplotlib as mpl\n",
    "import matplotlib.pyplot as plt\n",
    "import warnings\n",
    "\n",
    "import dask, dask.dataframe"
   ]
  },
  {
   "cell_type": "code",
   "execution_count": 2,
   "metadata": {
    "ExecuteTime": {
     "end_time": "2019-10-04T16:18:50.278229Z",
     "start_time": "2019-10-04T16:18:50.274663Z"
    }
   },
   "outputs": [],
   "source": [
    "pd.options.display.max_columns = 1000\n",
    "mpl.rcParams['font.size']=14"
   ]
  },
  {
   "cell_type": "code",
   "execution_count": 3,
   "metadata": {
    "ExecuteTime": {
     "end_time": "2019-10-04T16:18:50.640450Z",
     "start_time": "2019-10-04T16:18:50.637560Z"
    }
   },
   "outputs": [],
   "source": [
    "dev = True"
   ]
  },
  {
   "cell_type": "code",
   "execution_count": 4,
   "metadata": {
    "ExecuteTime": {
     "end_time": "2019-10-04T16:18:55.216455Z",
     "start_time": "2019-10-04T16:18:51.425124Z"
    }
   },
   "outputs": [
    {
     "name": "stdout",
     "output_type": "stream",
     "text": [
      "Running in dev mode. Using local copy of JLpyUtils\n"
     ]
    },
    {
     "name": "stderr",
     "output_type": "stream",
     "text": [
      "/Users/johnleonard/anaconda3/lib/python3.6/site-packages/tensorflow/python/framework/dtypes.py:523: FutureWarning: Passing (type, 1) or '1type' as a synonym of type is deprecated; in a future version of numpy, it will be understood as (type, (1,)) / '(1,)type'.\n",
      "  _np_qint8 = np.dtype([(\"qint8\", np.int8, 1)])\n",
      "/Users/johnleonard/anaconda3/lib/python3.6/site-packages/tensorflow/python/framework/dtypes.py:524: FutureWarning: Passing (type, 1) or '1type' as a synonym of type is deprecated; in a future version of numpy, it will be understood as (type, (1,)) / '(1,)type'.\n",
      "  _np_quint8 = np.dtype([(\"quint8\", np.uint8, 1)])\n",
      "/Users/johnleonard/anaconda3/lib/python3.6/site-packages/tensorflow/python/framework/dtypes.py:525: FutureWarning: Passing (type, 1) or '1type' as a synonym of type is deprecated; in a future version of numpy, it will be understood as (type, (1,)) / '(1,)type'.\n",
      "  _np_qint16 = np.dtype([(\"qint16\", np.int16, 1)])\n",
      "/Users/johnleonard/anaconda3/lib/python3.6/site-packages/tensorflow/python/framework/dtypes.py:526: FutureWarning: Passing (type, 1) or '1type' as a synonym of type is deprecated; in a future version of numpy, it will be understood as (type, (1,)) / '(1,)type'.\n",
      "  _np_quint16 = np.dtype([(\"quint16\", np.uint16, 1)])\n",
      "/Users/johnleonard/anaconda3/lib/python3.6/site-packages/tensorflow/python/framework/dtypes.py:527: FutureWarning: Passing (type, 1) or '1type' as a synonym of type is deprecated; in a future version of numpy, it will be understood as (type, (1,)) / '(1,)type'.\n",
      "  _np_qint32 = np.dtype([(\"qint32\", np.int32, 1)])\n",
      "/Users/johnleonard/anaconda3/lib/python3.6/site-packages/tensorflow/python/framework/dtypes.py:532: FutureWarning: Passing (type, 1) or '1type' as a synonym of type is deprecated; in a future version of numpy, it will be understood as (type, (1,)) / '(1,)type'.\n",
      "  np_resource = np.dtype([(\"resource\", np.ubyte, 1)])\n",
      "I1004 09:18:55.107663 4667090368 file_utils.py:39] PyTorch version 1.0.1.post2 available.\n",
      "I1004 09:18:55.158745 4667090368 modeling_xlnet.py:194] Better speed can be achieved with apex installed from https://www.github.com/nvidia/apex .\n"
     ]
    },
    {
     "data": {
      "text/plain": [
       "'0.2.17'"
      ]
     },
     "execution_count": 4,
     "metadata": {},
     "output_type": "execute_result"
    }
   ],
   "source": [
    "path_desktop = os.path.abspath('..')\n",
    "if dev:\n",
    "    print('Running in dev mode. Using local copy of JLpyUtils')\n",
    "    path_dev_repo = os.path.join(path_desktop,'JLpyUtils')\n",
    "    sys.path.insert(0, path_dev_repo)\n",
    "\n",
    "import JLpyUtils\n",
    "JLpyUtils.__version__"
   ]
  },
  {
   "cell_type": "markdown",
   "metadata": {},
   "source": [
    "# Build Report Dir"
   ]
  },
  {
   "cell_type": "code",
   "execution_count": 5,
   "metadata": {
    "ExecuteTime": {
     "end_time": "2019-10-04T16:18:55.281704Z",
     "start_time": "2019-10-04T16:18:55.275234Z"
    }
   },
   "outputs": [
    {
     "name": "stdout",
     "output_type": "stream",
     "text": [
      "path_report_dir:\n",
      " /Users/johnleonard/Desktop/Data_Science_Projects/outputs/Project_Kaggle_BigQuery-Geotab_Intersection_Congestion\n"
     ]
    }
   ],
   "source": [
    "path_report_dir = os.path.join(path_desktop,'outputs','Project_Kaggle_BigQuery-Geotab_Intersection_Congestion')\n",
    "\n",
    "if os.path.isdir(path_report_dir)==False:\n",
    "    os.makedirs(path_report_dir)\n",
    "    \n",
    "print('path_report_dir:\\n',path_report_dir)"
   ]
  },
  {
   "cell_type": "markdown",
   "metadata": {},
   "source": [
    "# Download Data"
   ]
  },
  {
   "cell_type": "code",
   "execution_count": 6,
   "metadata": {
    "ExecuteTime": {
     "end_time": "2019-10-04T16:18:55.357532Z",
     "start_time": "2019-10-04T16:18:55.352858Z"
    },
    "scrolled": true
   },
   "outputs": [
    {
     "data": {
      "text/plain": [
       "['BigQuery-Dataset-Access.md',\n",
       " 'test.csv',\n",
       " 'train.csv',\n",
       " 'submission_metric_map.json',\n",
       " 'sample_submission.csv']"
      ]
     },
     "execution_count": 6,
     "metadata": {},
     "output_type": "execute_result"
    }
   ],
   "source": [
    "importlib.reload(JLpyUtils.kaggle)\n",
    "\n",
    "competition = 'bigquery-geotab-intersection-congestion'\n",
    "\n",
    "# JLpyUtils.kaggle.setup_config_dir(username='jtleona01', key = 'foo')\n",
    "# JLpyUtils.kaggle.competition_download_files(competition,\n",
    "#                                             path_report_dir=path_report_dir)\n",
    "path_competition_data = os.path.join(path_report_dir,competition)\n",
    "os.listdir(path_competition_data)"
   ]
  },
  {
   "cell_type": "markdown",
   "metadata": {},
   "source": [
    "# Load Data"
   ]
  },
  {
   "cell_type": "code",
   "execution_count": 7,
   "metadata": {
    "ExecuteTime": {
     "end_time": "2019-10-04T16:18:59.051503Z",
     "start_time": "2019-10-04T16:18:55.425508Z"
    }
   },
   "outputs": [],
   "source": [
    "df_train = dask.dataframe.read_csv(os.path.join(path_competition_data,'train.csv'))\n",
    "df_train = df_train.set_index('RowId')\n",
    "\n",
    "df_field = dask.dataframe.read_csv(os.path.join(path_competition_data,'test.csv'))\n",
    "df_field = df_field.set_index('RowId')"
   ]
  },
  {
   "cell_type": "code",
   "execution_count": 8,
   "metadata": {
    "ExecuteTime": {
     "end_time": "2019-10-04T16:19:03.425943Z",
     "start_time": "2019-10-04T16:18:59.605344Z"
    }
   },
   "outputs": [
    {
     "name": "stdout",
     "output_type": "stream",
     "text": [
      "n_train_samples: 857409\n",
      "n_field_samples: 1920335\n"
     ]
    }
   ],
   "source": [
    "n_train_samples = df_train.iloc[:,0].compute().shape[0]\n",
    "n_field_samples = df_field.iloc[:,0].compute().shape[0]\n",
    "\n",
    "print('n_train_samples:',n_train_samples)\n",
    "print('n_field_samples:',n_field_samples)"
   ]
  },
  {
   "cell_type": "code",
   "execution_count": 9,
   "metadata": {
    "ExecuteTime": {
     "end_time": "2019-10-04T16:19:05.044297Z",
     "start_time": "2019-10-04T16:19:03.977229Z"
    }
   },
   "outputs": [
    {
     "data": {
      "text/html": [
       "<div>\n",
       "<style scoped>\n",
       "    .dataframe tbody tr th:only-of-type {\n",
       "        vertical-align: middle;\n",
       "    }\n",
       "\n",
       "    .dataframe tbody tr th {\n",
       "        vertical-align: top;\n",
       "    }\n",
       "\n",
       "    .dataframe thead th {\n",
       "        text-align: right;\n",
       "    }\n",
       "</style>\n",
       "<table border=\"1\" class=\"dataframe\">\n",
       "  <thead>\n",
       "    <tr style=\"text-align: right;\">\n",
       "      <th></th>\n",
       "      <th>IntersectionId</th>\n",
       "      <th>Latitude</th>\n",
       "      <th>Longitude</th>\n",
       "      <th>EntryStreetName</th>\n",
       "      <th>ExitStreetName</th>\n",
       "      <th>EntryHeading</th>\n",
       "      <th>ExitHeading</th>\n",
       "      <th>Hour</th>\n",
       "      <th>Weekend</th>\n",
       "      <th>Month</th>\n",
       "      <th>Path</th>\n",
       "      <th>TotalTimeStopped_p20</th>\n",
       "      <th>TotalTimeStopped_p40</th>\n",
       "      <th>TotalTimeStopped_p50</th>\n",
       "      <th>TotalTimeStopped_p60</th>\n",
       "      <th>TotalTimeStopped_p80</th>\n",
       "      <th>TimeFromFirstStop_p20</th>\n",
       "      <th>TimeFromFirstStop_p40</th>\n",
       "      <th>TimeFromFirstStop_p50</th>\n",
       "      <th>TimeFromFirstStop_p60</th>\n",
       "      <th>TimeFromFirstStop_p80</th>\n",
       "      <th>DistanceToFirstStop_p20</th>\n",
       "      <th>DistanceToFirstStop_p40</th>\n",
       "      <th>DistanceToFirstStop_p50</th>\n",
       "      <th>DistanceToFirstStop_p60</th>\n",
       "      <th>DistanceToFirstStop_p80</th>\n",
       "      <th>City</th>\n",
       "    </tr>\n",
       "    <tr>\n",
       "      <th>RowId</th>\n",
       "      <th></th>\n",
       "      <th></th>\n",
       "      <th></th>\n",
       "      <th></th>\n",
       "      <th></th>\n",
       "      <th></th>\n",
       "      <th></th>\n",
       "      <th></th>\n",
       "      <th></th>\n",
       "      <th></th>\n",
       "      <th></th>\n",
       "      <th></th>\n",
       "      <th></th>\n",
       "      <th></th>\n",
       "      <th></th>\n",
       "      <th></th>\n",
       "      <th></th>\n",
       "      <th></th>\n",
       "      <th></th>\n",
       "      <th></th>\n",
       "      <th></th>\n",
       "      <th></th>\n",
       "      <th></th>\n",
       "      <th></th>\n",
       "      <th></th>\n",
       "      <th></th>\n",
       "      <th></th>\n",
       "    </tr>\n",
       "  </thead>\n",
       "  <tbody>\n",
       "    <tr>\n",
       "      <td>1920335</td>\n",
       "      <td>0</td>\n",
       "      <td>33.79166</td>\n",
       "      <td>-84.43003</td>\n",
       "      <td>Marietta Boulevard Northwest</td>\n",
       "      <td>Marietta Boulevard Northwest</td>\n",
       "      <td>NW</td>\n",
       "      <td>NW</td>\n",
       "      <td>0</td>\n",
       "      <td>0</td>\n",
       "      <td>6</td>\n",
       "      <td>Marietta Boulevard Northwest_NW_Marietta Boule...</td>\n",
       "      <td>0</td>\n",
       "      <td>0</td>\n",
       "      <td>0</td>\n",
       "      <td>0</td>\n",
       "      <td>0</td>\n",
       "      <td>0</td>\n",
       "      <td>0</td>\n",
       "      <td>0</td>\n",
       "      <td>0</td>\n",
       "      <td>0</td>\n",
       "      <td>0.0</td>\n",
       "      <td>0.0</td>\n",
       "      <td>0.0</td>\n",
       "      <td>0.0</td>\n",
       "      <td>0.0</td>\n",
       "      <td>Atlanta</td>\n",
       "    </tr>\n",
       "    <tr>\n",
       "      <td>1920336</td>\n",
       "      <td>0</td>\n",
       "      <td>33.79166</td>\n",
       "      <td>-84.43003</td>\n",
       "      <td>Marietta Boulevard Northwest</td>\n",
       "      <td>Marietta Boulevard Northwest</td>\n",
       "      <td>SE</td>\n",
       "      <td>SE</td>\n",
       "      <td>0</td>\n",
       "      <td>0</td>\n",
       "      <td>6</td>\n",
       "      <td>Marietta Boulevard Northwest_SE_Marietta Boule...</td>\n",
       "      <td>0</td>\n",
       "      <td>0</td>\n",
       "      <td>0</td>\n",
       "      <td>0</td>\n",
       "      <td>0</td>\n",
       "      <td>0</td>\n",
       "      <td>0</td>\n",
       "      <td>0</td>\n",
       "      <td>0</td>\n",
       "      <td>0</td>\n",
       "      <td>0.0</td>\n",
       "      <td>0.0</td>\n",
       "      <td>0.0</td>\n",
       "      <td>0.0</td>\n",
       "      <td>0.0</td>\n",
       "      <td>Atlanta</td>\n",
       "    </tr>\n",
       "    <tr>\n",
       "      <td>1920337</td>\n",
       "      <td>0</td>\n",
       "      <td>33.79166</td>\n",
       "      <td>-84.43003</td>\n",
       "      <td>Marietta Boulevard Northwest</td>\n",
       "      <td>Marietta Boulevard Northwest</td>\n",
       "      <td>NW</td>\n",
       "      <td>NW</td>\n",
       "      <td>1</td>\n",
       "      <td>0</td>\n",
       "      <td>6</td>\n",
       "      <td>Marietta Boulevard Northwest_NW_Marietta Boule...</td>\n",
       "      <td>0</td>\n",
       "      <td>0</td>\n",
       "      <td>0</td>\n",
       "      <td>0</td>\n",
       "      <td>0</td>\n",
       "      <td>0</td>\n",
       "      <td>0</td>\n",
       "      <td>0</td>\n",
       "      <td>0</td>\n",
       "      <td>0</td>\n",
       "      <td>0.0</td>\n",
       "      <td>0.0</td>\n",
       "      <td>0.0</td>\n",
       "      <td>0.0</td>\n",
       "      <td>0.0</td>\n",
       "      <td>Atlanta</td>\n",
       "    </tr>\n",
       "    <tr>\n",
       "      <td>1920338</td>\n",
       "      <td>0</td>\n",
       "      <td>33.79166</td>\n",
       "      <td>-84.43003</td>\n",
       "      <td>Marietta Boulevard Northwest</td>\n",
       "      <td>Marietta Boulevard Northwest</td>\n",
       "      <td>SE</td>\n",
       "      <td>SE</td>\n",
       "      <td>1</td>\n",
       "      <td>0</td>\n",
       "      <td>6</td>\n",
       "      <td>Marietta Boulevard Northwest_SE_Marietta Boule...</td>\n",
       "      <td>0</td>\n",
       "      <td>0</td>\n",
       "      <td>0</td>\n",
       "      <td>0</td>\n",
       "      <td>0</td>\n",
       "      <td>0</td>\n",
       "      <td>0</td>\n",
       "      <td>0</td>\n",
       "      <td>0</td>\n",
       "      <td>0</td>\n",
       "      <td>0.0</td>\n",
       "      <td>0.0</td>\n",
       "      <td>0.0</td>\n",
       "      <td>0.0</td>\n",
       "      <td>0.0</td>\n",
       "      <td>Atlanta</td>\n",
       "    </tr>\n",
       "    <tr>\n",
       "      <td>1920339</td>\n",
       "      <td>0</td>\n",
       "      <td>33.79166</td>\n",
       "      <td>-84.43003</td>\n",
       "      <td>Marietta Boulevard Northwest</td>\n",
       "      <td>Marietta Boulevard Northwest</td>\n",
       "      <td>NW</td>\n",
       "      <td>NW</td>\n",
       "      <td>2</td>\n",
       "      <td>0</td>\n",
       "      <td>6</td>\n",
       "      <td>Marietta Boulevard Northwest_NW_Marietta Boule...</td>\n",
       "      <td>0</td>\n",
       "      <td>0</td>\n",
       "      <td>0</td>\n",
       "      <td>0</td>\n",
       "      <td>0</td>\n",
       "      <td>0</td>\n",
       "      <td>0</td>\n",
       "      <td>0</td>\n",
       "      <td>0</td>\n",
       "      <td>0</td>\n",
       "      <td>0.0</td>\n",
       "      <td>0.0</td>\n",
       "      <td>0.0</td>\n",
       "      <td>0.0</td>\n",
       "      <td>0.0</td>\n",
       "      <td>Atlanta</td>\n",
       "    </tr>\n",
       "  </tbody>\n",
       "</table>\n",
       "</div>"
      ],
      "text/plain": [
       "         IntersectionId  Latitude  Longitude               EntryStreetName  \\\n",
       "RowId                                                                        \n",
       "1920335               0  33.79166  -84.43003  Marietta Boulevard Northwest   \n",
       "1920336               0  33.79166  -84.43003  Marietta Boulevard Northwest   \n",
       "1920337               0  33.79166  -84.43003  Marietta Boulevard Northwest   \n",
       "1920338               0  33.79166  -84.43003  Marietta Boulevard Northwest   \n",
       "1920339               0  33.79166  -84.43003  Marietta Boulevard Northwest   \n",
       "\n",
       "                       ExitStreetName EntryHeading ExitHeading  Hour  Weekend  \\\n",
       "RowId                                                                           \n",
       "1920335  Marietta Boulevard Northwest           NW          NW     0        0   \n",
       "1920336  Marietta Boulevard Northwest           SE          SE     0        0   \n",
       "1920337  Marietta Boulevard Northwest           NW          NW     1        0   \n",
       "1920338  Marietta Boulevard Northwest           SE          SE     1        0   \n",
       "1920339  Marietta Boulevard Northwest           NW          NW     2        0   \n",
       "\n",
       "         Month                                               Path  \\\n",
       "RowId                                                               \n",
       "1920335      6  Marietta Boulevard Northwest_NW_Marietta Boule...   \n",
       "1920336      6  Marietta Boulevard Northwest_SE_Marietta Boule...   \n",
       "1920337      6  Marietta Boulevard Northwest_NW_Marietta Boule...   \n",
       "1920338      6  Marietta Boulevard Northwest_SE_Marietta Boule...   \n",
       "1920339      6  Marietta Boulevard Northwest_NW_Marietta Boule...   \n",
       "\n",
       "         TotalTimeStopped_p20  TotalTimeStopped_p40  TotalTimeStopped_p50  \\\n",
       "RowId                                                                       \n",
       "1920335                     0                     0                     0   \n",
       "1920336                     0                     0                     0   \n",
       "1920337                     0                     0                     0   \n",
       "1920338                     0                     0                     0   \n",
       "1920339                     0                     0                     0   \n",
       "\n",
       "         TotalTimeStopped_p60  TotalTimeStopped_p80  TimeFromFirstStop_p20  \\\n",
       "RowId                                                                        \n",
       "1920335                     0                     0                      0   \n",
       "1920336                     0                     0                      0   \n",
       "1920337                     0                     0                      0   \n",
       "1920338                     0                     0                      0   \n",
       "1920339                     0                     0                      0   \n",
       "\n",
       "         TimeFromFirstStop_p40  TimeFromFirstStop_p50  TimeFromFirstStop_p60  \\\n",
       "RowId                                                                          \n",
       "1920335                      0                      0                      0   \n",
       "1920336                      0                      0                      0   \n",
       "1920337                      0                      0                      0   \n",
       "1920338                      0                      0                      0   \n",
       "1920339                      0                      0                      0   \n",
       "\n",
       "         TimeFromFirstStop_p80  DistanceToFirstStop_p20  \\\n",
       "RowId                                                     \n",
       "1920335                      0                      0.0   \n",
       "1920336                      0                      0.0   \n",
       "1920337                      0                      0.0   \n",
       "1920338                      0                      0.0   \n",
       "1920339                      0                      0.0   \n",
       "\n",
       "         DistanceToFirstStop_p40  DistanceToFirstStop_p50  \\\n",
       "RowId                                                       \n",
       "1920335                      0.0                      0.0   \n",
       "1920336                      0.0                      0.0   \n",
       "1920337                      0.0                      0.0   \n",
       "1920338                      0.0                      0.0   \n",
       "1920339                      0.0                      0.0   \n",
       "\n",
       "         DistanceToFirstStop_p60  DistanceToFirstStop_p80     City  \n",
       "RowId                                                               \n",
       "1920335                      0.0                      0.0  Atlanta  \n",
       "1920336                      0.0                      0.0  Atlanta  \n",
       "1920337                      0.0                      0.0  Atlanta  \n",
       "1920338                      0.0                      0.0  Atlanta  \n",
       "1920339                      0.0                      0.0  Atlanta  "
      ]
     },
     "metadata": {},
     "output_type": "display_data"
    }
   ],
   "source": [
    "display(df_train.head())"
   ]
  },
  {
   "cell_type": "code",
   "execution_count": 10,
   "metadata": {
    "ExecuteTime": {
     "end_time": "2019-10-04T16:19:06.340543Z",
     "start_time": "2019-10-04T16:19:05.636207Z"
    }
   },
   "outputs": [
    {
     "data": {
      "text/html": [
       "<div>\n",
       "<style scoped>\n",
       "    .dataframe tbody tr th:only-of-type {\n",
       "        vertical-align: middle;\n",
       "    }\n",
       "\n",
       "    .dataframe tbody tr th {\n",
       "        vertical-align: top;\n",
       "    }\n",
       "\n",
       "    .dataframe thead th {\n",
       "        text-align: right;\n",
       "    }\n",
       "</style>\n",
       "<table border=\"1\" class=\"dataframe\">\n",
       "  <thead>\n",
       "    <tr style=\"text-align: right;\">\n",
       "      <th></th>\n",
       "      <th>IntersectionId</th>\n",
       "      <th>Latitude</th>\n",
       "      <th>Longitude</th>\n",
       "      <th>EntryStreetName</th>\n",
       "      <th>ExitStreetName</th>\n",
       "      <th>EntryHeading</th>\n",
       "      <th>ExitHeading</th>\n",
       "      <th>Hour</th>\n",
       "      <th>Weekend</th>\n",
       "      <th>Month</th>\n",
       "      <th>Path</th>\n",
       "      <th>City</th>\n",
       "    </tr>\n",
       "    <tr>\n",
       "      <th>RowId</th>\n",
       "      <th></th>\n",
       "      <th></th>\n",
       "      <th></th>\n",
       "      <th></th>\n",
       "      <th></th>\n",
       "      <th></th>\n",
       "      <th></th>\n",
       "      <th></th>\n",
       "      <th></th>\n",
       "      <th></th>\n",
       "      <th></th>\n",
       "      <th></th>\n",
       "    </tr>\n",
       "  </thead>\n",
       "  <tbody>\n",
       "    <tr>\n",
       "      <td>0</td>\n",
       "      <td>1</td>\n",
       "      <td>33.75094</td>\n",
       "      <td>-84.39303</td>\n",
       "      <td>Peachtree Street Southwest</td>\n",
       "      <td>Mitchell Street Southwest</td>\n",
       "      <td>SW</td>\n",
       "      <td>SE</td>\n",
       "      <td>0</td>\n",
       "      <td>0</td>\n",
       "      <td>6</td>\n",
       "      <td>Peachtree Street Southwest_SW_Mitchell Street ...</td>\n",
       "      <td>Atlanta</td>\n",
       "    </tr>\n",
       "    <tr>\n",
       "      <td>1</td>\n",
       "      <td>1</td>\n",
       "      <td>33.75094</td>\n",
       "      <td>-84.39303</td>\n",
       "      <td>Peachtree Street Southwest</td>\n",
       "      <td>Peachtree Street Southwest</td>\n",
       "      <td>SW</td>\n",
       "      <td>SW</td>\n",
       "      <td>0</td>\n",
       "      <td>0</td>\n",
       "      <td>6</td>\n",
       "      <td>Peachtree Street Southwest_SW_Peachtree Street...</td>\n",
       "      <td>Atlanta</td>\n",
       "    </tr>\n",
       "    <tr>\n",
       "      <td>2</td>\n",
       "      <td>1</td>\n",
       "      <td>33.75094</td>\n",
       "      <td>-84.39303</td>\n",
       "      <td>Peachtree Street Southwest</td>\n",
       "      <td>Peachtree Street Southwest</td>\n",
       "      <td>NE</td>\n",
       "      <td>NE</td>\n",
       "      <td>1</td>\n",
       "      <td>0</td>\n",
       "      <td>6</td>\n",
       "      <td>Peachtree Street Southwest_NE_Peachtree Street...</td>\n",
       "      <td>Atlanta</td>\n",
       "    </tr>\n",
       "    <tr>\n",
       "      <td>3</td>\n",
       "      <td>1</td>\n",
       "      <td>33.75094</td>\n",
       "      <td>-84.39303</td>\n",
       "      <td>Peachtree Street Southwest</td>\n",
       "      <td>Peachtree Street Southwest</td>\n",
       "      <td>SW</td>\n",
       "      <td>SW</td>\n",
       "      <td>1</td>\n",
       "      <td>0</td>\n",
       "      <td>6</td>\n",
       "      <td>Peachtree Street Southwest_SW_Peachtree Street...</td>\n",
       "      <td>Atlanta</td>\n",
       "    </tr>\n",
       "    <tr>\n",
       "      <td>4</td>\n",
       "      <td>1</td>\n",
       "      <td>33.75094</td>\n",
       "      <td>-84.39303</td>\n",
       "      <td>Peachtree Street Southwest</td>\n",
       "      <td>Peachtree Street Southwest</td>\n",
       "      <td>NE</td>\n",
       "      <td>NE</td>\n",
       "      <td>2</td>\n",
       "      <td>0</td>\n",
       "      <td>6</td>\n",
       "      <td>Peachtree Street Southwest_NE_Peachtree Street...</td>\n",
       "      <td>Atlanta</td>\n",
       "    </tr>\n",
       "  </tbody>\n",
       "</table>\n",
       "</div>"
      ],
      "text/plain": [
       "       IntersectionId  Latitude  Longitude             EntryStreetName  \\\n",
       "RowId                                                                    \n",
       "0                   1  33.75094  -84.39303  Peachtree Street Southwest   \n",
       "1                   1  33.75094  -84.39303  Peachtree Street Southwest   \n",
       "2                   1  33.75094  -84.39303  Peachtree Street Southwest   \n",
       "3                   1  33.75094  -84.39303  Peachtree Street Southwest   \n",
       "4                   1  33.75094  -84.39303  Peachtree Street Southwest   \n",
       "\n",
       "                   ExitStreetName EntryHeading ExitHeading  Hour  Weekend  \\\n",
       "RowId                                                                       \n",
       "0       Mitchell Street Southwest           SW          SE     0        0   \n",
       "1      Peachtree Street Southwest           SW          SW     0        0   \n",
       "2      Peachtree Street Southwest           NE          NE     1        0   \n",
       "3      Peachtree Street Southwest           SW          SW     1        0   \n",
       "4      Peachtree Street Southwest           NE          NE     2        0   \n",
       "\n",
       "       Month                                               Path     City  \n",
       "RowId                                                                     \n",
       "0          6  Peachtree Street Southwest_SW_Mitchell Street ...  Atlanta  \n",
       "1          6  Peachtree Street Southwest_SW_Peachtree Street...  Atlanta  \n",
       "2          6  Peachtree Street Southwest_NE_Peachtree Street...  Atlanta  \n",
       "3          6  Peachtree Street Southwest_SW_Peachtree Street...  Atlanta  \n",
       "4          6  Peachtree Street Southwest_NE_Peachtree Street...  Atlanta  "
      ]
     },
     "execution_count": 10,
     "metadata": {},
     "output_type": "execute_result"
    }
   ],
   "source": [
    "df_field.head()"
   ]
  },
  {
   "cell_type": "markdown",
   "metadata": {},
   "source": [
    "# Define Headers Dictionary"
   ]
  },
  {
   "cell_type": "code",
   "execution_count": 13,
   "metadata": {
    "ExecuteTime": {
     "end_time": "2019-10-04T16:21:53.164253Z",
     "start_time": "2019-10-04T16:21:29.025823Z"
    }
   },
   "outputs": [
    {
     "name": "stdout",
     "output_type": "stream",
     "text": [
      "categorical features:\n",
      " EntryHeading\n",
      " ExitHeading\n",
      " Weekend\n",
      " Month\n",
      " City\n",
      " EntryStreetName\n",
      " ExitStreetName\n",
      " Path\n",
      " IntersectionId\n",
      " Hour\n",
      "continuous features:\n",
      " Latitude\n",
      " Longitude\n",
      "\n",
      "labels:\n",
      " TotalTimeStopped_p20\n",
      " TotalTimeStopped_p50\n",
      " TotalTimeStopped_p80\n",
      " DistanceToFirstStop_p20\n",
      " DistanceToFirstStop_p50\n",
      " DistanceToFirstStop_p80\n"
     ]
    }
   ],
   "source": [
    "headers_dict = {}\n",
    "headers_dict['features'] = list(df_field.columns)\n",
    "headers_dict['labels'] = [header for header in df_train.columns if ('TotalTime' in header or 'DistanceTo' in header) and ('p20' in header or 'p50' in header or 'p80' in header)]\n",
    "\n",
    "headers_dict['categorical features'] = [col for col in df_field.columns if df_field[col].compute().nunique()<20 and col not in headers_dict['labels']]\n",
    "headers_dict['categorical features'] = headers_dict['categorical features'] + [feat for feat in df_train.columns if df_train[feat].dtype=='O' and feat not in headers_dict['categorical features']]\n",
    "headers_dict['categorical features'] = headers_dict['categorical features']+['IntersectionId','Hour']\n",
    "headers_dict['continuous features']= [feat for feat in headers_dict['features'] if feat not in headers_dict['categorical features']]\n",
    "\n",
    "\n",
    "print('categorical features:\\n','\\n '.join(headers_dict['categorical features']))\n",
    "print('continuous features:\\n','\\n '.join(headers_dict['continuous features']))\n",
    "print('\\nlabels:\\n','\\n '.join(headers_dict['labels']))"
   ]
  },
  {
   "cell_type": "markdown",
   "metadata": {},
   "source": [
    "# Define X, y"
   ]
  },
  {
   "cell_type": "code",
   "execution_count": 14,
   "metadata": {
    "ExecuteTime": {
     "end_time": "2019-10-04T16:21:54.145256Z",
     "start_time": "2019-10-04T16:21:54.141693Z"
    }
   },
   "outputs": [
    {
     "data": {
      "text/plain": [
       "7"
      ]
     },
     "execution_count": 14,
     "metadata": {},
     "output_type": "execute_result"
    }
   ],
   "source": [
    "npartitions = df_train.npartitions+df_field.npartitions\n",
    "npartitions"
   ]
  },
  {
   "cell_type": "code",
   "execution_count": 15,
   "metadata": {
    "ExecuteTime": {
     "end_time": "2019-10-04T16:22:01.473284Z",
     "start_time": "2019-10-04T16:21:54.786948Z"
    }
   },
   "outputs": [],
   "source": [
    "X = pd.concat((df_train[headers_dict['features']].compute(),\n",
    "               df_field[headers_dict['features']].compute()))\n",
    "\n",
    "y = df_train[headers_dict['labels']].compute()"
   ]
  },
  {
   "cell_type": "markdown",
   "metadata": {},
   "source": [
    "# Visualize"
   ]
  },
  {
   "cell_type": "code",
   "execution_count": null,
   "metadata": {},
   "outputs": [],
   "source": [
    "importlib.reload(JLpyUtils.plot)\n",
    "JLpyUtils.plot.hist_or_bar(X, categorical_headers=headers_dict['categorical features'])"
   ]
  },
  {
   "cell_type": "code",
   "execution_count": null,
   "metadata": {},
   "outputs": [],
   "source": [
    "JLpyUtils.plot.hist_or_bar(y, xscale='log')"
   ]
  },
  {
   "cell_type": "markdown",
   "metadata": {},
   "source": [
    "# Cleanup Data"
   ]
  },
  {
   "cell_type": "code",
   "execution_count": 16,
   "metadata": {
    "ExecuteTime": {
     "end_time": "2019-10-04T16:25:49.205817Z",
     "start_time": "2019-10-04T16:22:02.173484Z"
    }
   },
   "outputs": [
    {
     "data": {
      "text/html": [
       "<div>\n",
       "<style scoped>\n",
       "    .dataframe tbody tr th:only-of-type {\n",
       "        vertical-align: middle;\n",
       "    }\n",
       "\n",
       "    .dataframe tbody tr th {\n",
       "        vertical-align: top;\n",
       "    }\n",
       "\n",
       "    .dataframe thead th {\n",
       "        text-align: right;\n",
       "    }\n",
       "</style>\n",
       "<table border=\"1\" class=\"dataframe\">\n",
       "  <thead>\n",
       "    <tr style=\"text-align: right;\">\n",
       "      <th></th>\n",
       "      <th>IntersectionId</th>\n",
       "      <th>Latitude</th>\n",
       "      <th>Longitude</th>\n",
       "      <th>EntryStreetName</th>\n",
       "      <th>ExitStreetName</th>\n",
       "      <th>EntryHeading</th>\n",
       "      <th>ExitHeading</th>\n",
       "      <th>Hour</th>\n",
       "      <th>Weekend</th>\n",
       "      <th>Month</th>\n",
       "      <th>Path</th>\n",
       "      <th>City</th>\n",
       "    </tr>\n",
       "    <tr>\n",
       "      <th>RowId</th>\n",
       "      <th></th>\n",
       "      <th></th>\n",
       "      <th></th>\n",
       "      <th></th>\n",
       "      <th></th>\n",
       "      <th></th>\n",
       "      <th></th>\n",
       "      <th></th>\n",
       "      <th></th>\n",
       "      <th></th>\n",
       "      <th></th>\n",
       "      <th></th>\n",
       "    </tr>\n",
       "  </thead>\n",
       "  <tbody>\n",
       "    <tr>\n",
       "      <td>1920335</td>\n",
       "      <td>0</td>\n",
       "      <td>33.79166</td>\n",
       "      <td>-84.43003</td>\n",
       "      <td>marietta boulevard nw</td>\n",
       "      <td>marietta boulevard nw</td>\n",
       "      <td>nw</td>\n",
       "      <td>nw</td>\n",
       "      <td>0</td>\n",
       "      <td>0</td>\n",
       "      <td>6</td>\n",
       "      <td>marietta boulevard nw_nw_marietta boulevard nw_nw</td>\n",
       "      <td>atlanta</td>\n",
       "    </tr>\n",
       "    <tr>\n",
       "      <td>1920336</td>\n",
       "      <td>0</td>\n",
       "      <td>33.79166</td>\n",
       "      <td>-84.43003</td>\n",
       "      <td>marietta boulevard nw</td>\n",
       "      <td>marietta boulevard nw</td>\n",
       "      <td>se</td>\n",
       "      <td>se</td>\n",
       "      <td>0</td>\n",
       "      <td>0</td>\n",
       "      <td>6</td>\n",
       "      <td>marietta boulevard nw_se_marietta boulevard nw_se</td>\n",
       "      <td>atlanta</td>\n",
       "    </tr>\n",
       "    <tr>\n",
       "      <td>1920337</td>\n",
       "      <td>0</td>\n",
       "      <td>33.79166</td>\n",
       "      <td>-84.43003</td>\n",
       "      <td>marietta boulevard nw</td>\n",
       "      <td>marietta boulevard nw</td>\n",
       "      <td>nw</td>\n",
       "      <td>nw</td>\n",
       "      <td>1</td>\n",
       "      <td>0</td>\n",
       "      <td>6</td>\n",
       "      <td>marietta boulevard nw_nw_marietta boulevard nw_nw</td>\n",
       "      <td>atlanta</td>\n",
       "    </tr>\n",
       "    <tr>\n",
       "      <td>1920338</td>\n",
       "      <td>0</td>\n",
       "      <td>33.79166</td>\n",
       "      <td>-84.43003</td>\n",
       "      <td>marietta boulevard nw</td>\n",
       "      <td>marietta boulevard nw</td>\n",
       "      <td>se</td>\n",
       "      <td>se</td>\n",
       "      <td>1</td>\n",
       "      <td>0</td>\n",
       "      <td>6</td>\n",
       "      <td>marietta boulevard nw_se_marietta boulevard nw_se</td>\n",
       "      <td>atlanta</td>\n",
       "    </tr>\n",
       "    <tr>\n",
       "      <td>1920339</td>\n",
       "      <td>0</td>\n",
       "      <td>33.79166</td>\n",
       "      <td>-84.43003</td>\n",
       "      <td>marietta boulevard nw</td>\n",
       "      <td>marietta boulevard nw</td>\n",
       "      <td>nw</td>\n",
       "      <td>nw</td>\n",
       "      <td>2</td>\n",
       "      <td>0</td>\n",
       "      <td>6</td>\n",
       "      <td>marietta boulevard nw_nw_marietta boulevard nw_nw</td>\n",
       "      <td>atlanta</td>\n",
       "    </tr>\n",
       "  </tbody>\n",
       "</table>\n",
       "</div>"
      ],
      "text/plain": [
       "         IntersectionId  Latitude  Longitude        EntryStreetName  \\\n",
       "RowId                                                                 \n",
       "1920335               0  33.79166  -84.43003  marietta boulevard nw   \n",
       "1920336               0  33.79166  -84.43003  marietta boulevard nw   \n",
       "1920337               0  33.79166  -84.43003  marietta boulevard nw   \n",
       "1920338               0  33.79166  -84.43003  marietta boulevard nw   \n",
       "1920339               0  33.79166  -84.43003  marietta boulevard nw   \n",
       "\n",
       "                ExitStreetName EntryHeading ExitHeading  Hour  Weekend  Month  \\\n",
       "RowId                                                                           \n",
       "1920335  marietta boulevard nw           nw          nw     0        0      6   \n",
       "1920336  marietta boulevard nw           se          se     0        0      6   \n",
       "1920337  marietta boulevard nw           nw          nw     1        0      6   \n",
       "1920338  marietta boulevard nw           se          se     1        0      6   \n",
       "1920339  marietta boulevard nw           nw          nw     2        0      6   \n",
       "\n",
       "                                                      Path     City  \n",
       "RowId                                                                \n",
       "1920335  marietta boulevard nw_nw_marietta boulevard nw_nw  atlanta  \n",
       "1920336  marietta boulevard nw_se_marietta boulevard nw_se  atlanta  \n",
       "1920337  marietta boulevard nw_nw_marietta boulevard nw_nw  atlanta  \n",
       "1920338  marietta boulevard nw_se_marietta boulevard nw_se  atlanta  \n",
       "1920339  marietta boulevard nw_nw_marietta boulevard nw_nw  atlanta  "
      ]
     },
     "execution_count": 16,
     "metadata": {},
     "output_type": "execute_result"
    }
   ],
   "source": [
    "def cleanup_text_features(X):\n",
    "    \"\"\"\n",
    "    Ensure the direction text is of a consistant format\n",
    "    \n",
    "    Arguments:\n",
    "    ----------\n",
    "        X: dataframe containing features of interest\n",
    "        \n",
    "    Returns:\n",
    "    --------\n",
    "        X: dataframe with 'object' (string) columns cleaned\n",
    "    \"\"\"\n",
    "    import warnings\n",
    "    warnings.filterwarnings('ignore')\n",
    "    X = X.copy()\n",
    "    \n",
    "    type_X = str(type(X))\n",
    "    if 'dask' in type_X:\n",
    "        npartitions = X.npartitions\n",
    "        X = X.compute()\n",
    "        \n",
    "        \n",
    "        \n",
    "    object_cols = X.dtypes.reset_index()\n",
    "    object_cols = object_cols[object_cols[0]=='object']\n",
    "        \n",
    "    for col in object_cols['index']:\n",
    "        \n",
    "        X[col] = X[col].str.lower()\n",
    "        \n",
    "        for old_str, new_str in [['northwest','nw'],\n",
    "                                 ['northeast','ne'],\n",
    "                                 ['southwest','sw'],\n",
    "                                 ['southeast','se'],\n",
    "                                 ['first','1st'],\n",
    "                                 ['second','2nd'],\n",
    "                                 ['third','3rd'],\n",
    "                                 ['fourth','4th'],\n",
    "                                 ['fifth','5th'],\n",
    "                                 ['sixth','6th'],\n",
    "                                 ['seventh','7th'],\n",
    "                                 ['eighth','8th'],\n",
    "                                 ['ninth','9th'],\n",
    "                                 ['tenth','10th'],\n",
    "                                 ['eleventh','11th'],\n",
    "                                 ['twelfth','12th'],\n",
    "                                 ['thirteenth','13th'],\n",
    "                                 ['fourteenth','14th'],\n",
    "                                 ['fifteenth','15th'],\n",
    "                                 ['sixteenth','16th']]:\n",
    "            X[col] = X[col].str.replace(old_str, new_str)\n",
    "            X[col][X[col]=='None']=np.nan\n",
    "    \n",
    "    warnings.filterwarnings('default')\n",
    "    return X\n",
    "        \n",
    "X = cleanup_text_features(X)\n",
    "X.head()"
   ]
  },
  {
   "cell_type": "markdown",
   "metadata": {},
   "source": [
    "# Inspect Uniques"
   ]
  },
  {
   "cell_type": "code",
   "execution_count": 17,
   "metadata": {
    "ExecuteTime": {
     "end_time": "2019-10-04T16:26:10.958683Z",
     "start_time": "2019-10-04T16:25:49.907995Z"
    },
    "scrolled": false
   },
   "outputs": [
    {
     "name": "stdout",
     "output_type": "stream",
     "text": [
      "\n",
      "---- Hour ---- \n",
      "n_uniques: 24 \n",
      "dtype: int64\n",
      "\n",
      "uniques[:20]:\n"
     ]
    },
    {
     "data": {
      "text/plain": [
       "[0, 1, 2, 3, 4, 5, 6, 7, 8, 9, 10, 11, 12, 13, 14, 15, 16, 17, 18, 19, '...']"
      ]
     },
     "metadata": {},
     "output_type": "display_data"
    },
    {
     "name": "stdout",
     "output_type": "stream",
     "text": [
      "\n",
      "---- IntersectionId ---- \n",
      "n_uniques: 2839 \n",
      "dtype: int64\n",
      "\n",
      "uniques[:20]:\n"
     ]
    },
    {
     "data": {
      "text/plain": [
       "[0, 1, 2, 3, 4, 5, 6, 7, 8, 9, 10, 11, 12, 13, 14, 15, 16, 17, 18, 19, '...']"
      ]
     },
     "metadata": {},
     "output_type": "display_data"
    },
    {
     "name": "stdout",
     "output_type": "stream",
     "text": [
      "\n",
      "---- Month ---- \n",
      "n_uniques: 9 \n",
      "dtype: int64\n",
      "\n",
      "uniques[:]:\n"
     ]
    },
    {
     "data": {
      "text/plain": [
       "[1, 5, 6, 7, 8, 9, 10, 11, 12]"
      ]
     },
     "metadata": {},
     "output_type": "display_data"
    },
    {
     "name": "stdout",
     "output_type": "stream",
     "text": [
      "\n",
      "---- Weekend ---- \n",
      "n_uniques: 2 \n",
      "dtype: int64\n",
      "\n",
      "uniques[:]:\n"
     ]
    },
    {
     "data": {
      "text/plain": [
       "[0, 1]"
      ]
     },
     "metadata": {},
     "output_type": "display_data"
    },
    {
     "name": "stdout",
     "output_type": "stream",
     "text": [
      "\n",
      "---- Latitude ---- \n",
      "n_uniques: 6013 \n",
      "dtype: float64\n",
      "\n",
      "uniques[:20]:\n"
     ]
    },
    {
     "data": {
      "text/plain": [
       "[33.64997,\n",
       " 33.65013,\n",
       " 33.651379999999996,\n",
       " 33.65155,\n",
       " 33.65189,\n",
       " 33.65227,\n",
       " 33.65287,\n",
       " 33.65309,\n",
       " 33.65318,\n",
       " 33.6537,\n",
       " 33.65538,\n",
       " 33.65664,\n",
       " 33.673559999999995,\n",
       " 33.681129999999996,\n",
       " 33.68287,\n",
       " 33.686370000000004,\n",
       " 33.68805,\n",
       " 33.689609999999995,\n",
       " 33.69015,\n",
       " 33.69063,\n",
       " '...']"
      ]
     },
     "metadata": {},
     "output_type": "display_data"
    },
    {
     "name": "stdout",
     "output_type": "stream",
     "text": [
      "\n",
      "---- Longitude ---- \n",
      "n_uniques: 6016 \n",
      "dtype: float64\n",
      "\n",
      "uniques[:20]:\n"
     ]
    },
    {
     "data": {
      "text/plain": [
       "[-87.89715,\n",
       " -87.89414000000001,\n",
       " -87.88866999999999,\n",
       " -87.88577,\n",
       " -87.88576,\n",
       " -87.88575,\n",
       " -87.88455,\n",
       " -87.86229,\n",
       " -87.84654,\n",
       " -87.8465,\n",
       " -87.84645,\n",
       " -87.84151,\n",
       " -87.83711,\n",
       " -87.83675,\n",
       " -87.8367,\n",
       " -87.83668,\n",
       " -87.83663,\n",
       " -87.83662,\n",
       " -87.83661,\n",
       " -87.83646999999999,\n",
       " '...']"
      ]
     },
     "metadata": {},
     "output_type": "display_data"
    },
    {
     "name": "stdout",
     "output_type": "stream",
     "text": [
      "\n",
      "---- City ---- \n",
      "n_uniques: 4 \n",
      "dtype: object\n",
      "\n",
      "uniques[:]:\n"
     ]
    },
    {
     "data": {
      "text/plain": [
       "['atlanta', 'boston', 'chicago', 'philadelphia']"
      ]
     },
     "metadata": {},
     "output_type": "display_data"
    },
    {
     "name": "stdout",
     "output_type": "stream",
     "text": [
      "\n",
      "---- EntryHeading ---- \n",
      "n_uniques: 8 \n",
      "dtype: object\n",
      "\n",
      "uniques[:]:\n"
     ]
    },
    {
     "data": {
      "text/plain": [
       "['e', 'n', 'ne', 'nw', 's', 'se', 'sw', 'w']"
      ]
     },
     "metadata": {},
     "output_type": "display_data"
    },
    {
     "name": "stdout",
     "output_type": "stream",
     "text": [
      "\n",
      "---- EntryStreetName ---- \n",
      "n_uniques: 2232 \n",
      "dtype: object\n",
      "\n",
      "uniques[:20]:\n"
     ]
    },
    {
     "data": {
      "text/plain": [
       "['10th presbyterian church parking',\n",
       " '10th street ne',\n",
       " '10th street nw',\n",
       " '12th street ne',\n",
       " '13th street',\n",
       " '14th street ne',\n",
       " '14th street nw',\n",
       " '15th street ne',\n",
       " '16th street',\n",
       " '16th street ne',\n",
       " '16th street nw',\n",
       " '17th street ne',\n",
       " '17th street nw',\n",
       " '1st street',\n",
       " '23rd st',\n",
       " '23rd street',\n",
       " '2nd avenue ne',\n",
       " '2nd avenue se',\n",
       " '2nd street',\n",
       " '3rd street',\n",
       " '...']"
      ]
     },
     "metadata": {},
     "output_type": "display_data"
    },
    {
     "name": "stdout",
     "output_type": "stream",
     "text": [
      "\n",
      "---- ExitHeading ---- \n",
      "n_uniques: 8 \n",
      "dtype: object\n",
      "\n",
      "uniques[:]:\n"
     ]
    },
    {
     "data": {
      "text/plain": [
       "['e', 'n', 'ne', 'nw', 's', 'se', 'sw', 'w']"
      ]
     },
     "metadata": {},
     "output_type": "display_data"
    },
    {
     "name": "stdout",
     "output_type": "stream",
     "text": [
      "\n",
      "---- ExitStreetName ---- \n",
      "n_uniques: 2218 \n",
      "dtype: object\n",
      "\n",
      "uniques[:20]:\n"
     ]
    },
    {
     "data": {
      "text/plain": [
       "['10th presbyterian church parking',\n",
       " '10th street ne',\n",
       " '10th street nw',\n",
       " '12th street ne',\n",
       " '13th street',\n",
       " '14th street ne',\n",
       " '14th street nw',\n",
       " '15th street ne',\n",
       " '16th street',\n",
       " '16th street ne',\n",
       " '16th street nw',\n",
       " '17th street ne',\n",
       " '17th street nw',\n",
       " '1st street',\n",
       " '23rd st',\n",
       " '23rd street',\n",
       " '2nd avenue ne',\n",
       " '2nd avenue se',\n",
       " '2nd street',\n",
       " '3rd street',\n",
       " '...']"
      ]
     },
     "metadata": {},
     "output_type": "display_data"
    },
    {
     "name": "stdout",
     "output_type": "stream",
     "text": [
      "\n",
      "---- Path ---- \n",
      "n_uniques: 21899 \n",
      "dtype: object\n",
      "\n",
      "uniques[:20]:\n"
     ]
    },
    {
     "data": {
      "text/plain": [
       "['10th presbyterian church parking_e_pine street_e',\n",
       " '10th street ne_e_10th street ne_e',\n",
       " '10th street ne_e_charles allen drive ne_s',\n",
       " '10th street ne_e_juniper street ne_s',\n",
       " '10th street ne_e_monroe drive ne_n',\n",
       " '10th street ne_e_monroe drive ne_s',\n",
       " '10th street ne_e_peachtree street ne_n',\n",
       " '10th street ne_e_peachtree street ne_s',\n",
       " '10th street ne_e_piedmont avenue ne_n',\n",
       " '10th street ne_e_unknown_n',\n",
       " '10th street ne_w_10th street ne_n',\n",
       " '10th street ne_w_10th street ne_w',\n",
       " '10th street ne_w_10th street nw_w',\n",
       " '10th street ne_w_charles allen drive ne_s',\n",
       " '10th street ne_w_juniper street ne_s',\n",
       " '10th street ne_w_peachtree street ne_n',\n",
       " '10th street ne_w_peachtree street ne_s',\n",
       " '10th street ne_w_piedmont avenue ne_n',\n",
       " '10th street ne_w_west peachtree street nw_n',\n",
       " '10th street ne_w_west peachtree street nw_w',\n",
       " '...']"
      ]
     },
     "metadata": {},
     "output_type": "display_data"
    }
   ],
   "source": [
    "JLpyUtils.ML.inspection.uniques(X)"
   ]
  },
  {
   "cell_type": "markdown",
   "metadata": {},
   "source": [
    "# Feature Engineer"
   ]
  },
  {
   "cell_type": "code",
   "execution_count": 18,
   "metadata": {
    "ExecuteTime": {
     "end_time": "2019-10-04T16:26:57.502383Z",
     "start_time": "2019-10-04T16:26:11.663863Z"
    }
   },
   "outputs": [
    {
     "data": {
      "text/html": [
       "<div>\n",
       "<style scoped>\n",
       "    .dataframe tbody tr th:only-of-type {\n",
       "        vertical-align: middle;\n",
       "    }\n",
       "\n",
       "    .dataframe tbody tr th {\n",
       "        vertical-align: top;\n",
       "    }\n",
       "\n",
       "    .dataframe thead th {\n",
       "        text-align: right;\n",
       "    }\n",
       "</style>\n",
       "<table border=\"1\" class=\"dataframe\">\n",
       "  <thead>\n",
       "    <tr style=\"text-align: right;\">\n",
       "      <th></th>\n",
       "      <th>IntersectionId</th>\n",
       "      <th>Latitude</th>\n",
       "      <th>Longitude</th>\n",
       "      <th>EntryStreetName</th>\n",
       "      <th>ExitStreetName</th>\n",
       "      <th>EntryHeading</th>\n",
       "      <th>ExitHeading</th>\n",
       "      <th>Hour</th>\n",
       "      <th>Weekend</th>\n",
       "      <th>Month</th>\n",
       "      <th>Path</th>\n",
       "      <th>City</th>\n",
       "      <th>EntryStreetName_number</th>\n",
       "      <th>ExitStreetName_number</th>\n",
       "    </tr>\n",
       "    <tr>\n",
       "      <th>RowId</th>\n",
       "      <th></th>\n",
       "      <th></th>\n",
       "      <th></th>\n",
       "      <th></th>\n",
       "      <th></th>\n",
       "      <th></th>\n",
       "      <th></th>\n",
       "      <th></th>\n",
       "      <th></th>\n",
       "      <th></th>\n",
       "      <th></th>\n",
       "      <th></th>\n",
       "      <th></th>\n",
       "      <th></th>\n",
       "    </tr>\n",
       "  </thead>\n",
       "  <tbody>\n",
       "    <tr>\n",
       "      <td>1920335</td>\n",
       "      <td>0</td>\n",
       "      <td>33.79166</td>\n",
       "      <td>-84.43003</td>\n",
       "      <td>marietta boulevard nw</td>\n",
       "      <td>marietta boulevard nw</td>\n",
       "      <td>nw</td>\n",
       "      <td>nw</td>\n",
       "      <td>0</td>\n",
       "      <td>0</td>\n",
       "      <td>6</td>\n",
       "      <td>marietta boulevard nw_nw_marietta boulevard nw_nw</td>\n",
       "      <td>atlanta</td>\n",
       "      <td>0</td>\n",
       "      <td>0</td>\n",
       "    </tr>\n",
       "    <tr>\n",
       "      <td>1920336</td>\n",
       "      <td>0</td>\n",
       "      <td>33.79166</td>\n",
       "      <td>-84.43003</td>\n",
       "      <td>marietta boulevard nw</td>\n",
       "      <td>marietta boulevard nw</td>\n",
       "      <td>se</td>\n",
       "      <td>se</td>\n",
       "      <td>0</td>\n",
       "      <td>0</td>\n",
       "      <td>6</td>\n",
       "      <td>marietta boulevard nw_se_marietta boulevard nw_se</td>\n",
       "      <td>atlanta</td>\n",
       "      <td>0</td>\n",
       "      <td>0</td>\n",
       "    </tr>\n",
       "    <tr>\n",
       "      <td>1920337</td>\n",
       "      <td>0</td>\n",
       "      <td>33.79166</td>\n",
       "      <td>-84.43003</td>\n",
       "      <td>marietta boulevard nw</td>\n",
       "      <td>marietta boulevard nw</td>\n",
       "      <td>nw</td>\n",
       "      <td>nw</td>\n",
       "      <td>1</td>\n",
       "      <td>0</td>\n",
       "      <td>6</td>\n",
       "      <td>marietta boulevard nw_nw_marietta boulevard nw_nw</td>\n",
       "      <td>atlanta</td>\n",
       "      <td>0</td>\n",
       "      <td>0</td>\n",
       "    </tr>\n",
       "    <tr>\n",
       "      <td>1920338</td>\n",
       "      <td>0</td>\n",
       "      <td>33.79166</td>\n",
       "      <td>-84.43003</td>\n",
       "      <td>marietta boulevard nw</td>\n",
       "      <td>marietta boulevard nw</td>\n",
       "      <td>se</td>\n",
       "      <td>se</td>\n",
       "      <td>1</td>\n",
       "      <td>0</td>\n",
       "      <td>6</td>\n",
       "      <td>marietta boulevard nw_se_marietta boulevard nw_se</td>\n",
       "      <td>atlanta</td>\n",
       "      <td>0</td>\n",
       "      <td>0</td>\n",
       "    </tr>\n",
       "    <tr>\n",
       "      <td>1920339</td>\n",
       "      <td>0</td>\n",
       "      <td>33.79166</td>\n",
       "      <td>-84.43003</td>\n",
       "      <td>marietta boulevard nw</td>\n",
       "      <td>marietta boulevard nw</td>\n",
       "      <td>nw</td>\n",
       "      <td>nw</td>\n",
       "      <td>2</td>\n",
       "      <td>0</td>\n",
       "      <td>6</td>\n",
       "      <td>marietta boulevard nw_nw_marietta boulevard nw_nw</td>\n",
       "      <td>atlanta</td>\n",
       "      <td>0</td>\n",
       "      <td>0</td>\n",
       "    </tr>\n",
       "  </tbody>\n",
       "</table>\n",
       "</div>"
      ],
      "text/plain": [
       "         IntersectionId  Latitude  Longitude        EntryStreetName  \\\n",
       "RowId                                                                 \n",
       "1920335               0  33.79166  -84.43003  marietta boulevard nw   \n",
       "1920336               0  33.79166  -84.43003  marietta boulevard nw   \n",
       "1920337               0  33.79166  -84.43003  marietta boulevard nw   \n",
       "1920338               0  33.79166  -84.43003  marietta boulevard nw   \n",
       "1920339               0  33.79166  -84.43003  marietta boulevard nw   \n",
       "\n",
       "                ExitStreetName EntryHeading ExitHeading  Hour  Weekend  Month  \\\n",
       "RowId                                                                           \n",
       "1920335  marietta boulevard nw           nw          nw     0        0      6   \n",
       "1920336  marietta boulevard nw           se          se     0        0      6   \n",
       "1920337  marietta boulevard nw           nw          nw     1        0      6   \n",
       "1920338  marietta boulevard nw           se          se     1        0      6   \n",
       "1920339  marietta boulevard nw           nw          nw     2        0      6   \n",
       "\n",
       "                                                      Path     City  \\\n",
       "RowId                                                                 \n",
       "1920335  marietta boulevard nw_nw_marietta boulevard nw_nw  atlanta   \n",
       "1920336  marietta boulevard nw_se_marietta boulevard nw_se  atlanta   \n",
       "1920337  marietta boulevard nw_nw_marietta boulevard nw_nw  atlanta   \n",
       "1920338  marietta boulevard nw_se_marietta boulevard nw_se  atlanta   \n",
       "1920339  marietta boulevard nw_nw_marietta boulevard nw_nw  atlanta   \n",
       "\n",
       "         EntryStreetName_number  ExitStreetName_number  \n",
       "RowId                                                   \n",
       "1920335                       0                      0  \n",
       "1920336                       0                      0  \n",
       "1920337                       0                      0  \n",
       "1920338                       0                      0  \n",
       "1920339                       0                      0  "
      ]
     },
     "execution_count": 18,
     "metadata": {},
     "output_type": "execute_result"
    }
   ],
   "source": [
    "def feat_eng_street_numbers(X, headers_dict):\n",
    "    \"\"\"\n",
    "    Pull out the numbers in each column containing 'Street'. \n",
    "    \n",
    "    Note: NaN values will be filled in as 0 stree number\n",
    "    \"\"\"\n",
    "    X = X.copy()\n",
    "    \n",
    "    street_cols = [col for col in X.columns if 'Street' in col and '_number' not in col]\n",
    "    \n",
    "    for col in street_cols:\n",
    "        \n",
    "        if col+'_number' not in X.columns:\n",
    "            split = X[col].str.replace('th','').str.replace('rd','').str.replace('st','').str.replace('nd','').str.split(' ',expand=True)\n",
    "\n",
    "            street_num = np.zeros((split.shape[0],))\n",
    "\n",
    "            for c in range(split.shape[1]):\n",
    "                street_nums_for_c = pd.to_numeric(split.iloc[:,c],errors='coerce')\n",
    "                street_num[street_nums_for_c.notna(),] =  street_nums_for_c[street_nums_for_c.notna()]\n",
    "            street_num = street_num.astype(int)\n",
    "\n",
    "            X[col+'_number'] = street_num\n",
    "            headers_dict['categorical features'].append(col+'_number')\n",
    "    return X, headers_dict\n",
    "X, headers_dict = feat_eng_street_numbers(X, headers_dict)\n",
    "X.head()"
   ]
  },
  {
   "cell_type": "code",
   "execution_count": 19,
   "metadata": {
    "ExecuteTime": {
     "end_time": "2019-10-04T16:26:58.932917Z",
     "start_time": "2019-10-04T16:26:57.504109Z"
    }
   },
   "outputs": [
    {
     "data": {
      "text/html": [
       "<div>\n",
       "<style scoped>\n",
       "    .dataframe tbody tr th:only-of-type {\n",
       "        vertical-align: middle;\n",
       "    }\n",
       "\n",
       "    .dataframe tbody tr th {\n",
       "        vertical-align: top;\n",
       "    }\n",
       "\n",
       "    .dataframe thead th {\n",
       "        text-align: right;\n",
       "    }\n",
       "</style>\n",
       "<table border=\"1\" class=\"dataframe\">\n",
       "  <thead>\n",
       "    <tr style=\"text-align: right;\">\n",
       "      <th></th>\n",
       "      <th>IntersectionId</th>\n",
       "      <th>Latitude</th>\n",
       "      <th>Longitude</th>\n",
       "      <th>EntryStreetName</th>\n",
       "      <th>ExitStreetName</th>\n",
       "      <th>EntryHeading</th>\n",
       "      <th>ExitHeading</th>\n",
       "      <th>Hour</th>\n",
       "      <th>Weekend</th>\n",
       "      <th>Month</th>\n",
       "      <th>Path</th>\n",
       "      <th>City</th>\n",
       "      <th>EntryStreetName_number</th>\n",
       "      <th>ExitStreetName_number</th>\n",
       "      <th>EntryHeading_vect</th>\n",
       "      <th>ExitHeading_vect</th>\n",
       "    </tr>\n",
       "    <tr>\n",
       "      <th>RowId</th>\n",
       "      <th></th>\n",
       "      <th></th>\n",
       "      <th></th>\n",
       "      <th></th>\n",
       "      <th></th>\n",
       "      <th></th>\n",
       "      <th></th>\n",
       "      <th></th>\n",
       "      <th></th>\n",
       "      <th></th>\n",
       "      <th></th>\n",
       "      <th></th>\n",
       "      <th></th>\n",
       "      <th></th>\n",
       "      <th></th>\n",
       "      <th></th>\n",
       "    </tr>\n",
       "  </thead>\n",
       "  <tbody>\n",
       "    <tr>\n",
       "      <td>1920335</td>\n",
       "      <td>0</td>\n",
       "      <td>33.79166</td>\n",
       "      <td>-84.43003</td>\n",
       "      <td>marietta boulevard nw</td>\n",
       "      <td>marietta boulevard nw</td>\n",
       "      <td>nw</td>\n",
       "      <td>nw</td>\n",
       "      <td>0</td>\n",
       "      <td>0</td>\n",
       "      <td>6</td>\n",
       "      <td>marietta boulevard nw_nw_marietta boulevard nw_nw</td>\n",
       "      <td>atlanta</td>\n",
       "      <td>0</td>\n",
       "      <td>0</td>\n",
       "      <td>1.75</td>\n",
       "      <td>1.75</td>\n",
       "    </tr>\n",
       "    <tr>\n",
       "      <td>1920336</td>\n",
       "      <td>0</td>\n",
       "      <td>33.79166</td>\n",
       "      <td>-84.43003</td>\n",
       "      <td>marietta boulevard nw</td>\n",
       "      <td>marietta boulevard nw</td>\n",
       "      <td>se</td>\n",
       "      <td>se</td>\n",
       "      <td>0</td>\n",
       "      <td>0</td>\n",
       "      <td>6</td>\n",
       "      <td>marietta boulevard nw_se_marietta boulevard nw_se</td>\n",
       "      <td>atlanta</td>\n",
       "      <td>0</td>\n",
       "      <td>0</td>\n",
       "      <td>0.75</td>\n",
       "      <td>0.75</td>\n",
       "    </tr>\n",
       "    <tr>\n",
       "      <td>1920337</td>\n",
       "      <td>0</td>\n",
       "      <td>33.79166</td>\n",
       "      <td>-84.43003</td>\n",
       "      <td>marietta boulevard nw</td>\n",
       "      <td>marietta boulevard nw</td>\n",
       "      <td>nw</td>\n",
       "      <td>nw</td>\n",
       "      <td>1</td>\n",
       "      <td>0</td>\n",
       "      <td>6</td>\n",
       "      <td>marietta boulevard nw_nw_marietta boulevard nw_nw</td>\n",
       "      <td>atlanta</td>\n",
       "      <td>0</td>\n",
       "      <td>0</td>\n",
       "      <td>1.75</td>\n",
       "      <td>1.75</td>\n",
       "    </tr>\n",
       "    <tr>\n",
       "      <td>1920338</td>\n",
       "      <td>0</td>\n",
       "      <td>33.79166</td>\n",
       "      <td>-84.43003</td>\n",
       "      <td>marietta boulevard nw</td>\n",
       "      <td>marietta boulevard nw</td>\n",
       "      <td>se</td>\n",
       "      <td>se</td>\n",
       "      <td>1</td>\n",
       "      <td>0</td>\n",
       "      <td>6</td>\n",
       "      <td>marietta boulevard nw_se_marietta boulevard nw_se</td>\n",
       "      <td>atlanta</td>\n",
       "      <td>0</td>\n",
       "      <td>0</td>\n",
       "      <td>0.75</td>\n",
       "      <td>0.75</td>\n",
       "    </tr>\n",
       "    <tr>\n",
       "      <td>1920339</td>\n",
       "      <td>0</td>\n",
       "      <td>33.79166</td>\n",
       "      <td>-84.43003</td>\n",
       "      <td>marietta boulevard nw</td>\n",
       "      <td>marietta boulevard nw</td>\n",
       "      <td>nw</td>\n",
       "      <td>nw</td>\n",
       "      <td>2</td>\n",
       "      <td>0</td>\n",
       "      <td>6</td>\n",
       "      <td>marietta boulevard nw_nw_marietta boulevard nw_nw</td>\n",
       "      <td>atlanta</td>\n",
       "      <td>0</td>\n",
       "      <td>0</td>\n",
       "      <td>1.75</td>\n",
       "      <td>1.75</td>\n",
       "    </tr>\n",
       "  </tbody>\n",
       "</table>\n",
       "</div>"
      ],
      "text/plain": [
       "         IntersectionId  Latitude  Longitude        EntryStreetName  \\\n",
       "RowId                                                                 \n",
       "1920335               0  33.79166  -84.43003  marietta boulevard nw   \n",
       "1920336               0  33.79166  -84.43003  marietta boulevard nw   \n",
       "1920337               0  33.79166  -84.43003  marietta boulevard nw   \n",
       "1920338               0  33.79166  -84.43003  marietta boulevard nw   \n",
       "1920339               0  33.79166  -84.43003  marietta boulevard nw   \n",
       "\n",
       "                ExitStreetName EntryHeading ExitHeading  Hour  Weekend  Month  \\\n",
       "RowId                                                                           \n",
       "1920335  marietta boulevard nw           nw          nw     0        0      6   \n",
       "1920336  marietta boulevard nw           se          se     0        0      6   \n",
       "1920337  marietta boulevard nw           nw          nw     1        0      6   \n",
       "1920338  marietta boulevard nw           se          se     1        0      6   \n",
       "1920339  marietta boulevard nw           nw          nw     2        0      6   \n",
       "\n",
       "                                                      Path     City  \\\n",
       "RowId                                                                 \n",
       "1920335  marietta boulevard nw_nw_marietta boulevard nw_nw  atlanta   \n",
       "1920336  marietta boulevard nw_se_marietta boulevard nw_se  atlanta   \n",
       "1920337  marietta boulevard nw_nw_marietta boulevard nw_nw  atlanta   \n",
       "1920338  marietta boulevard nw_se_marietta boulevard nw_se  atlanta   \n",
       "1920339  marietta boulevard nw_nw_marietta boulevard nw_nw  atlanta   \n",
       "\n",
       "         EntryStreetName_number  ExitStreetName_number  EntryHeading_vect  \\\n",
       "RowId                                                                       \n",
       "1920335                       0                      0               1.75   \n",
       "1920336                       0                      0               0.75   \n",
       "1920337                       0                      0               1.75   \n",
       "1920338                       0                      0               0.75   \n",
       "1920339                       0                      0               1.75   \n",
       "\n",
       "         ExitHeading_vect  \n",
       "RowId                      \n",
       "1920335              1.75  \n",
       "1920336              0.75  \n",
       "1920337              1.75  \n",
       "1920338              0.75  \n",
       "1920339              1.75  "
      ]
     },
     "execution_count": 19,
     "metadata": {},
     "output_type": "execute_result"
    }
   ],
   "source": [
    "def feat_eng_heading_vect(X, headers_dict):\n",
    "    \"\"\"\n",
    "    encode the heading string as a cardianl direction based on a hard-coded dictionary of values\n",
    "    \"\"\"\n",
    "    \n",
    "    X = X.copy()\n",
    "    \n",
    "    heading_vect_dict = {'n':0,\n",
    "                         's':1,\n",
    "                         'e':1/2,\n",
    "                         'w':3/2,\n",
    "                         'ne':1/4,\n",
    "                         'nw':7/4,\n",
    "                         'se':3/4,\n",
    "                         'sw':5/4}\n",
    "    heading_cols = [col for col in X.columns if 'Heading' in col and '_vect' not in col]\n",
    "    for col in heading_cols:\n",
    "        heading_vects = np.array([heading_vect_dict[heading] for heading in X[col]])\n",
    "        X[col+'_vect'] = heading_vects\n",
    "        \n",
    "        headers_dict['categorical features'].append(col+'_vect')\n",
    "        \n",
    "    return X, headers_dict\n",
    "\n",
    "X, headers_dict = feat_eng_heading_vect(X, headers_dict)\n",
    "X.head()"
   ]
  },
  {
   "cell_type": "code",
   "execution_count": 20,
   "metadata": {
    "ExecuteTime": {
     "end_time": "2019-10-04T16:27:00.882240Z",
     "start_time": "2019-10-04T16:27:00.588076Z"
    }
   },
   "outputs": [],
   "source": [
    "X = X.drop(columns=['EntryHeading', 'ExitHeading'])\n",
    "headers_dict['categorical features'].remove('EntryHeading')\n",
    "headers_dict['categorical features'].remove('ExitHeading')"
   ]
  },
  {
   "cell_type": "code",
   "execution_count": 21,
   "metadata": {
    "ExecuteTime": {
     "end_time": "2019-10-04T16:27:05.475556Z",
     "start_time": "2019-10-04T16:27:00.884586Z"
    }
   },
   "outputs": [
    {
     "data": {
      "text/html": [
       "<div>\n",
       "<style scoped>\n",
       "    .dataframe tbody tr th:only-of-type {\n",
       "        vertical-align: middle;\n",
       "    }\n",
       "\n",
       "    .dataframe tbody tr th {\n",
       "        vertical-align: top;\n",
       "    }\n",
       "\n",
       "    .dataframe thead th {\n",
       "        text-align: right;\n",
       "    }\n",
       "</style>\n",
       "<table border=\"1\" class=\"dataframe\">\n",
       "  <thead>\n",
       "    <tr style=\"text-align: right;\">\n",
       "      <th></th>\n",
       "      <th>IntersectionId</th>\n",
       "      <th>Latitude</th>\n",
       "      <th>Longitude</th>\n",
       "      <th>EntryStreetName</th>\n",
       "      <th>ExitStreetName</th>\n",
       "      <th>Hour</th>\n",
       "      <th>Weekend</th>\n",
       "      <th>Month</th>\n",
       "      <th>Path</th>\n",
       "      <th>City</th>\n",
       "      <th>EntryStreetName_number</th>\n",
       "      <th>ExitStreetName_number</th>\n",
       "      <th>EntryHeading_vect</th>\n",
       "      <th>ExitHeading_vect</th>\n",
       "      <th>EntryStreetName_road_type</th>\n",
       "      <th>ExitStreetName_road_type</th>\n",
       "    </tr>\n",
       "    <tr>\n",
       "      <th>RowId</th>\n",
       "      <th></th>\n",
       "      <th></th>\n",
       "      <th></th>\n",
       "      <th></th>\n",
       "      <th></th>\n",
       "      <th></th>\n",
       "      <th></th>\n",
       "      <th></th>\n",
       "      <th></th>\n",
       "      <th></th>\n",
       "      <th></th>\n",
       "      <th></th>\n",
       "      <th></th>\n",
       "      <th></th>\n",
       "      <th></th>\n",
       "      <th></th>\n",
       "    </tr>\n",
       "  </thead>\n",
       "  <tbody>\n",
       "    <tr>\n",
       "      <td>1920335</td>\n",
       "      <td>0</td>\n",
       "      <td>33.79166</td>\n",
       "      <td>-84.43003</td>\n",
       "      <td>marietta boulevard nw</td>\n",
       "      <td>marietta boulevard nw</td>\n",
       "      <td>0</td>\n",
       "      <td>0</td>\n",
       "      <td>6</td>\n",
       "      <td>marietta boulevard nw_nw_marietta boulevard nw_nw</td>\n",
       "      <td>atlanta</td>\n",
       "      <td>0</td>\n",
       "      <td>0</td>\n",
       "      <td>1.75</td>\n",
       "      <td>1.75</td>\n",
       "      <td>4</td>\n",
       "      <td>4</td>\n",
       "    </tr>\n",
       "    <tr>\n",
       "      <td>1920336</td>\n",
       "      <td>0</td>\n",
       "      <td>33.79166</td>\n",
       "      <td>-84.43003</td>\n",
       "      <td>marietta boulevard nw</td>\n",
       "      <td>marietta boulevard nw</td>\n",
       "      <td>0</td>\n",
       "      <td>0</td>\n",
       "      <td>6</td>\n",
       "      <td>marietta boulevard nw_se_marietta boulevard nw_se</td>\n",
       "      <td>atlanta</td>\n",
       "      <td>0</td>\n",
       "      <td>0</td>\n",
       "      <td>0.75</td>\n",
       "      <td>0.75</td>\n",
       "      <td>4</td>\n",
       "      <td>4</td>\n",
       "    </tr>\n",
       "    <tr>\n",
       "      <td>1920337</td>\n",
       "      <td>0</td>\n",
       "      <td>33.79166</td>\n",
       "      <td>-84.43003</td>\n",
       "      <td>marietta boulevard nw</td>\n",
       "      <td>marietta boulevard nw</td>\n",
       "      <td>1</td>\n",
       "      <td>0</td>\n",
       "      <td>6</td>\n",
       "      <td>marietta boulevard nw_nw_marietta boulevard nw_nw</td>\n",
       "      <td>atlanta</td>\n",
       "      <td>0</td>\n",
       "      <td>0</td>\n",
       "      <td>1.75</td>\n",
       "      <td>1.75</td>\n",
       "      <td>4</td>\n",
       "      <td>4</td>\n",
       "    </tr>\n",
       "    <tr>\n",
       "      <td>1920338</td>\n",
       "      <td>0</td>\n",
       "      <td>33.79166</td>\n",
       "      <td>-84.43003</td>\n",
       "      <td>marietta boulevard nw</td>\n",
       "      <td>marietta boulevard nw</td>\n",
       "      <td>1</td>\n",
       "      <td>0</td>\n",
       "      <td>6</td>\n",
       "      <td>marietta boulevard nw_se_marietta boulevard nw_se</td>\n",
       "      <td>atlanta</td>\n",
       "      <td>0</td>\n",
       "      <td>0</td>\n",
       "      <td>0.75</td>\n",
       "      <td>0.75</td>\n",
       "      <td>4</td>\n",
       "      <td>4</td>\n",
       "    </tr>\n",
       "    <tr>\n",
       "      <td>1920339</td>\n",
       "      <td>0</td>\n",
       "      <td>33.79166</td>\n",
       "      <td>-84.43003</td>\n",
       "      <td>marietta boulevard nw</td>\n",
       "      <td>marietta boulevard nw</td>\n",
       "      <td>2</td>\n",
       "      <td>0</td>\n",
       "      <td>6</td>\n",
       "      <td>marietta boulevard nw_nw_marietta boulevard nw_nw</td>\n",
       "      <td>atlanta</td>\n",
       "      <td>0</td>\n",
       "      <td>0</td>\n",
       "      <td>1.75</td>\n",
       "      <td>1.75</td>\n",
       "      <td>4</td>\n",
       "      <td>4</td>\n",
       "    </tr>\n",
       "  </tbody>\n",
       "</table>\n",
       "</div>"
      ],
      "text/plain": [
       "         IntersectionId  Latitude  Longitude        EntryStreetName  \\\n",
       "RowId                                                                 \n",
       "1920335               0  33.79166  -84.43003  marietta boulevard nw   \n",
       "1920336               0  33.79166  -84.43003  marietta boulevard nw   \n",
       "1920337               0  33.79166  -84.43003  marietta boulevard nw   \n",
       "1920338               0  33.79166  -84.43003  marietta boulevard nw   \n",
       "1920339               0  33.79166  -84.43003  marietta boulevard nw   \n",
       "\n",
       "                ExitStreetName  Hour  Weekend  Month  \\\n",
       "RowId                                                  \n",
       "1920335  marietta boulevard nw     0        0      6   \n",
       "1920336  marietta boulevard nw     0        0      6   \n",
       "1920337  marietta boulevard nw     1        0      6   \n",
       "1920338  marietta boulevard nw     1        0      6   \n",
       "1920339  marietta boulevard nw     2        0      6   \n",
       "\n",
       "                                                      Path     City  \\\n",
       "RowId                                                                 \n",
       "1920335  marietta boulevard nw_nw_marietta boulevard nw_nw  atlanta   \n",
       "1920336  marietta boulevard nw_se_marietta boulevard nw_se  atlanta   \n",
       "1920337  marietta boulevard nw_nw_marietta boulevard nw_nw  atlanta   \n",
       "1920338  marietta boulevard nw_se_marietta boulevard nw_se  atlanta   \n",
       "1920339  marietta boulevard nw_nw_marietta boulevard nw_nw  atlanta   \n",
       "\n",
       "         EntryStreetName_number  ExitStreetName_number  EntryHeading_vect  \\\n",
       "RowId                                                                       \n",
       "1920335                       0                      0               1.75   \n",
       "1920336                       0                      0               0.75   \n",
       "1920337                       0                      0               1.75   \n",
       "1920338                       0                      0               0.75   \n",
       "1920339                       0                      0               1.75   \n",
       "\n",
       "         ExitHeading_vect  EntryStreetName_road_type  ExitStreetName_road_type  \n",
       "RowId                                                                           \n",
       "1920335              1.75                          4                         4  \n",
       "1920336              0.75                          4                         4  \n",
       "1920337              1.75                          4                         4  \n",
       "1920338              0.75                          4                         4  \n",
       "1920339              1.75                          4                         4  "
      ]
     },
     "execution_count": 21,
     "metadata": {},
     "output_type": "execute_result"
    }
   ],
   "source": [
    "def feat_eng_road_type(X, headers_dict):\n",
    "    \"\"\"\n",
    "    Encode an integer corresponding to a given road type base on the strings for the columns containing 'Street'\n",
    "    \"\"\"\n",
    "    X = X.copy()\n",
    "    \n",
    "    street_cols = [col for col in X.columns if 'Street' in col and '_number' not in col]\n",
    "    \n",
    "    road_encoding = {\n",
    "                        'road': 1,\n",
    "                        'street': 2,\n",
    "                        'avenue': 2,\n",
    "                        'drive': 3,\n",
    "                        'broad': 3,\n",
    "                        'broadway': 3,\n",
    "                        'boulevard': 4,\n",
    "                        'corridor': 5,\n",
    "                        'parking': 6,\n",
    "                        'bridge': 7,\n",
    "                    }\n",
    "    \n",
    "    def encode(x):\n",
    "        if pd.isna(x):\n",
    "            return 0\n",
    "        for road in road_encoding.keys():\n",
    "            if road in x:\n",
    "                return road_encoding[road]\n",
    "\n",
    "        return 0\n",
    "    \n",
    "    for col in street_cols:\n",
    "        X[col+'_road_type'] = X[col].apply(encode)\n",
    "        headers_dict['categorical features'].append(col+'_road_type')\n",
    "    return X, headers_dict\n",
    "\n",
    "X, headers_dict = feat_eng_road_type(X, headers_dict)\n",
    "X.head()"
   ]
  },
  {
   "cell_type": "code",
   "execution_count": 22,
   "metadata": {
    "ExecuteTime": {
     "end_time": "2019-10-04T16:27:07.843918Z",
     "start_time": "2019-10-04T16:27:07.111126Z"
    }
   },
   "outputs": [
    {
     "data": {
      "text/html": [
       "<div>\n",
       "<style scoped>\n",
       "    .dataframe tbody tr th:only-of-type {\n",
       "        vertical-align: middle;\n",
       "    }\n",
       "\n",
       "    .dataframe tbody tr th {\n",
       "        vertical-align: top;\n",
       "    }\n",
       "\n",
       "    .dataframe thead th {\n",
       "        text-align: right;\n",
       "    }\n",
       "</style>\n",
       "<table border=\"1\" class=\"dataframe\">\n",
       "  <thead>\n",
       "    <tr style=\"text-align: right;\">\n",
       "      <th></th>\n",
       "      <th>IntersectionId</th>\n",
       "      <th>Latitude</th>\n",
       "      <th>Longitude</th>\n",
       "      <th>EntryStreetName</th>\n",
       "      <th>ExitStreetName</th>\n",
       "      <th>Hour</th>\n",
       "      <th>Weekend</th>\n",
       "      <th>Month</th>\n",
       "      <th>Path</th>\n",
       "      <th>City</th>\n",
       "      <th>EntryStreetName_number</th>\n",
       "      <th>ExitStreetName_number</th>\n",
       "      <th>EntryHeading_vect</th>\n",
       "      <th>ExitHeading_vect</th>\n",
       "      <th>EntryStreetName_road_type</th>\n",
       "      <th>ExitStreetName_road_type</th>\n",
       "      <th>same_entry_exit_street</th>\n",
       "    </tr>\n",
       "    <tr>\n",
       "      <th>RowId</th>\n",
       "      <th></th>\n",
       "      <th></th>\n",
       "      <th></th>\n",
       "      <th></th>\n",
       "      <th></th>\n",
       "      <th></th>\n",
       "      <th></th>\n",
       "      <th></th>\n",
       "      <th></th>\n",
       "      <th></th>\n",
       "      <th></th>\n",
       "      <th></th>\n",
       "      <th></th>\n",
       "      <th></th>\n",
       "      <th></th>\n",
       "      <th></th>\n",
       "      <th></th>\n",
       "    </tr>\n",
       "  </thead>\n",
       "  <tbody>\n",
       "    <tr>\n",
       "      <td>1920335</td>\n",
       "      <td>0</td>\n",
       "      <td>33.79166</td>\n",
       "      <td>-84.43003</td>\n",
       "      <td>marietta boulevard nw</td>\n",
       "      <td>marietta boulevard nw</td>\n",
       "      <td>0</td>\n",
       "      <td>0</td>\n",
       "      <td>6</td>\n",
       "      <td>marietta boulevard nw_nw_marietta boulevard nw_nw</td>\n",
       "      <td>atlanta</td>\n",
       "      <td>0</td>\n",
       "      <td>0</td>\n",
       "      <td>1.75</td>\n",
       "      <td>1.75</td>\n",
       "      <td>4</td>\n",
       "      <td>4</td>\n",
       "      <td>1</td>\n",
       "    </tr>\n",
       "    <tr>\n",
       "      <td>1920336</td>\n",
       "      <td>0</td>\n",
       "      <td>33.79166</td>\n",
       "      <td>-84.43003</td>\n",
       "      <td>marietta boulevard nw</td>\n",
       "      <td>marietta boulevard nw</td>\n",
       "      <td>0</td>\n",
       "      <td>0</td>\n",
       "      <td>6</td>\n",
       "      <td>marietta boulevard nw_se_marietta boulevard nw_se</td>\n",
       "      <td>atlanta</td>\n",
       "      <td>0</td>\n",
       "      <td>0</td>\n",
       "      <td>0.75</td>\n",
       "      <td>0.75</td>\n",
       "      <td>4</td>\n",
       "      <td>4</td>\n",
       "      <td>1</td>\n",
       "    </tr>\n",
       "    <tr>\n",
       "      <td>1920337</td>\n",
       "      <td>0</td>\n",
       "      <td>33.79166</td>\n",
       "      <td>-84.43003</td>\n",
       "      <td>marietta boulevard nw</td>\n",
       "      <td>marietta boulevard nw</td>\n",
       "      <td>1</td>\n",
       "      <td>0</td>\n",
       "      <td>6</td>\n",
       "      <td>marietta boulevard nw_nw_marietta boulevard nw_nw</td>\n",
       "      <td>atlanta</td>\n",
       "      <td>0</td>\n",
       "      <td>0</td>\n",
       "      <td>1.75</td>\n",
       "      <td>1.75</td>\n",
       "      <td>4</td>\n",
       "      <td>4</td>\n",
       "      <td>1</td>\n",
       "    </tr>\n",
       "    <tr>\n",
       "      <td>1920338</td>\n",
       "      <td>0</td>\n",
       "      <td>33.79166</td>\n",
       "      <td>-84.43003</td>\n",
       "      <td>marietta boulevard nw</td>\n",
       "      <td>marietta boulevard nw</td>\n",
       "      <td>1</td>\n",
       "      <td>0</td>\n",
       "      <td>6</td>\n",
       "      <td>marietta boulevard nw_se_marietta boulevard nw_se</td>\n",
       "      <td>atlanta</td>\n",
       "      <td>0</td>\n",
       "      <td>0</td>\n",
       "      <td>0.75</td>\n",
       "      <td>0.75</td>\n",
       "      <td>4</td>\n",
       "      <td>4</td>\n",
       "      <td>1</td>\n",
       "    </tr>\n",
       "    <tr>\n",
       "      <td>1920339</td>\n",
       "      <td>0</td>\n",
       "      <td>33.79166</td>\n",
       "      <td>-84.43003</td>\n",
       "      <td>marietta boulevard nw</td>\n",
       "      <td>marietta boulevard nw</td>\n",
       "      <td>2</td>\n",
       "      <td>0</td>\n",
       "      <td>6</td>\n",
       "      <td>marietta boulevard nw_nw_marietta boulevard nw_nw</td>\n",
       "      <td>atlanta</td>\n",
       "      <td>0</td>\n",
       "      <td>0</td>\n",
       "      <td>1.75</td>\n",
       "      <td>1.75</td>\n",
       "      <td>4</td>\n",
       "      <td>4</td>\n",
       "      <td>1</td>\n",
       "    </tr>\n",
       "  </tbody>\n",
       "</table>\n",
       "</div>"
      ],
      "text/plain": [
       "         IntersectionId  Latitude  Longitude        EntryStreetName  \\\n",
       "RowId                                                                 \n",
       "1920335               0  33.79166  -84.43003  marietta boulevard nw   \n",
       "1920336               0  33.79166  -84.43003  marietta boulevard nw   \n",
       "1920337               0  33.79166  -84.43003  marietta boulevard nw   \n",
       "1920338               0  33.79166  -84.43003  marietta boulevard nw   \n",
       "1920339               0  33.79166  -84.43003  marietta boulevard nw   \n",
       "\n",
       "                ExitStreetName  Hour  Weekend  Month  \\\n",
       "RowId                                                  \n",
       "1920335  marietta boulevard nw     0        0      6   \n",
       "1920336  marietta boulevard nw     0        0      6   \n",
       "1920337  marietta boulevard nw     1        0      6   \n",
       "1920338  marietta boulevard nw     1        0      6   \n",
       "1920339  marietta boulevard nw     2        0      6   \n",
       "\n",
       "                                                      Path     City  \\\n",
       "RowId                                                                 \n",
       "1920335  marietta boulevard nw_nw_marietta boulevard nw_nw  atlanta   \n",
       "1920336  marietta boulevard nw_se_marietta boulevard nw_se  atlanta   \n",
       "1920337  marietta boulevard nw_nw_marietta boulevard nw_nw  atlanta   \n",
       "1920338  marietta boulevard nw_se_marietta boulevard nw_se  atlanta   \n",
       "1920339  marietta boulevard nw_nw_marietta boulevard nw_nw  atlanta   \n",
       "\n",
       "         EntryStreetName_number  ExitStreetName_number  EntryHeading_vect  \\\n",
       "RowId                                                                       \n",
       "1920335                       0                      0               1.75   \n",
       "1920336                       0                      0               0.75   \n",
       "1920337                       0                      0               1.75   \n",
       "1920338                       0                      0               0.75   \n",
       "1920339                       0                      0               1.75   \n",
       "\n",
       "         ExitHeading_vect  EntryStreetName_road_type  \\\n",
       "RowId                                                  \n",
       "1920335              1.75                          4   \n",
       "1920336              0.75                          4   \n",
       "1920337              1.75                          4   \n",
       "1920338              0.75                          4   \n",
       "1920339              1.75                          4   \n",
       "\n",
       "         ExitStreetName_road_type  same_entry_exit_street  \n",
       "RowId                                                      \n",
       "1920335                         4                       1  \n",
       "1920336                         4                       1  \n",
       "1920337                         4                       1  \n",
       "1920338                         4                       1  \n",
       "1920339                         4                       1  "
      ]
     },
     "execution_count": 22,
     "metadata": {},
     "output_type": "execute_result"
    }
   ],
   "source": [
    "def feat_eng_same_entry_exit_street(X, headers_dict):\n",
    "    \"\"\"\n",
    "    add a feature that denotes if the row contains the same exit and entry street\n",
    "    \"\"\"\n",
    "    X = X.copy()\n",
    "    \n",
    "    street_cols = [col for col in X.columns if 'Street' in col and '_number' not in col]\n",
    "    \n",
    "    X[\"same_entry_exit_street\"] = (X[\"EntryStreetName\"] ==  X[\"ExitStreetName\"]).astype(int)\n",
    "    \n",
    "    headers_dict['categorical features'].append(\"same_entry_exit_street\")\n",
    "    \n",
    "    return X, headers_dict\n",
    "\n",
    "X, headers_dict = feat_eng_same_entry_exit_street(X, headers_dict)\n",
    "X.head()"
   ]
  },
  {
   "cell_type": "code",
   "execution_count": 23,
   "metadata": {
    "ExecuteTime": {
     "end_time": "2019-10-04T16:27:10.146399Z",
     "start_time": "2019-10-04T16:27:07.846666Z"
    }
   },
   "outputs": [
    {
     "data": {
      "text/html": [
       "<div>\n",
       "<style scoped>\n",
       "    .dataframe tbody tr th:only-of-type {\n",
       "        vertical-align: middle;\n",
       "    }\n",
       "\n",
       "    .dataframe tbody tr th {\n",
       "        vertical-align: top;\n",
       "    }\n",
       "\n",
       "    .dataframe thead th {\n",
       "        text-align: right;\n",
       "    }\n",
       "</style>\n",
       "<table border=\"1\" class=\"dataframe\">\n",
       "  <thead>\n",
       "    <tr style=\"text-align: right;\">\n",
       "      <th></th>\n",
       "      <th>IntersectionId</th>\n",
       "      <th>Latitude</th>\n",
       "      <th>Longitude</th>\n",
       "      <th>EntryStreetName</th>\n",
       "      <th>ExitStreetName</th>\n",
       "      <th>Hour</th>\n",
       "      <th>Weekend</th>\n",
       "      <th>Month</th>\n",
       "      <th>Path</th>\n",
       "      <th>City</th>\n",
       "      <th>EntryStreetName_number</th>\n",
       "      <th>ExitStreetName_number</th>\n",
       "      <th>EntryHeading_vect</th>\n",
       "      <th>ExitHeading_vect</th>\n",
       "      <th>EntryStreetName_road_type</th>\n",
       "      <th>ExitStreetName_road_type</th>\n",
       "      <th>same_entry_exit_street</th>\n",
       "      <th>Intersection</th>\n",
       "    </tr>\n",
       "    <tr>\n",
       "      <th>RowId</th>\n",
       "      <th></th>\n",
       "      <th></th>\n",
       "      <th></th>\n",
       "      <th></th>\n",
       "      <th></th>\n",
       "      <th></th>\n",
       "      <th></th>\n",
       "      <th></th>\n",
       "      <th></th>\n",
       "      <th></th>\n",
       "      <th></th>\n",
       "      <th></th>\n",
       "      <th></th>\n",
       "      <th></th>\n",
       "      <th></th>\n",
       "      <th></th>\n",
       "      <th></th>\n",
       "      <th></th>\n",
       "    </tr>\n",
       "  </thead>\n",
       "  <tbody>\n",
       "    <tr>\n",
       "      <td>1920335</td>\n",
       "      <td>0</td>\n",
       "      <td>33.79166</td>\n",
       "      <td>-84.43003</td>\n",
       "      <td>marietta boulevard nw</td>\n",
       "      <td>marietta boulevard nw</td>\n",
       "      <td>0</td>\n",
       "      <td>0</td>\n",
       "      <td>6</td>\n",
       "      <td>marietta boulevard nw_nw_marietta boulevard nw_nw</td>\n",
       "      <td>atlanta</td>\n",
       "      <td>0</td>\n",
       "      <td>0</td>\n",
       "      <td>1.75</td>\n",
       "      <td>1.75</td>\n",
       "      <td>4</td>\n",
       "      <td>4</td>\n",
       "      <td>1</td>\n",
       "      <td>0atlanta</td>\n",
       "    </tr>\n",
       "    <tr>\n",
       "      <td>1920336</td>\n",
       "      <td>0</td>\n",
       "      <td>33.79166</td>\n",
       "      <td>-84.43003</td>\n",
       "      <td>marietta boulevard nw</td>\n",
       "      <td>marietta boulevard nw</td>\n",
       "      <td>0</td>\n",
       "      <td>0</td>\n",
       "      <td>6</td>\n",
       "      <td>marietta boulevard nw_se_marietta boulevard nw_se</td>\n",
       "      <td>atlanta</td>\n",
       "      <td>0</td>\n",
       "      <td>0</td>\n",
       "      <td>0.75</td>\n",
       "      <td>0.75</td>\n",
       "      <td>4</td>\n",
       "      <td>4</td>\n",
       "      <td>1</td>\n",
       "      <td>0atlanta</td>\n",
       "    </tr>\n",
       "    <tr>\n",
       "      <td>1920337</td>\n",
       "      <td>0</td>\n",
       "      <td>33.79166</td>\n",
       "      <td>-84.43003</td>\n",
       "      <td>marietta boulevard nw</td>\n",
       "      <td>marietta boulevard nw</td>\n",
       "      <td>1</td>\n",
       "      <td>0</td>\n",
       "      <td>6</td>\n",
       "      <td>marietta boulevard nw_nw_marietta boulevard nw_nw</td>\n",
       "      <td>atlanta</td>\n",
       "      <td>0</td>\n",
       "      <td>0</td>\n",
       "      <td>1.75</td>\n",
       "      <td>1.75</td>\n",
       "      <td>4</td>\n",
       "      <td>4</td>\n",
       "      <td>1</td>\n",
       "      <td>0atlanta</td>\n",
       "    </tr>\n",
       "    <tr>\n",
       "      <td>1920338</td>\n",
       "      <td>0</td>\n",
       "      <td>33.79166</td>\n",
       "      <td>-84.43003</td>\n",
       "      <td>marietta boulevard nw</td>\n",
       "      <td>marietta boulevard nw</td>\n",
       "      <td>1</td>\n",
       "      <td>0</td>\n",
       "      <td>6</td>\n",
       "      <td>marietta boulevard nw_se_marietta boulevard nw_se</td>\n",
       "      <td>atlanta</td>\n",
       "      <td>0</td>\n",
       "      <td>0</td>\n",
       "      <td>0.75</td>\n",
       "      <td>0.75</td>\n",
       "      <td>4</td>\n",
       "      <td>4</td>\n",
       "      <td>1</td>\n",
       "      <td>0atlanta</td>\n",
       "    </tr>\n",
       "    <tr>\n",
       "      <td>1920339</td>\n",
       "      <td>0</td>\n",
       "      <td>33.79166</td>\n",
       "      <td>-84.43003</td>\n",
       "      <td>marietta boulevard nw</td>\n",
       "      <td>marietta boulevard nw</td>\n",
       "      <td>2</td>\n",
       "      <td>0</td>\n",
       "      <td>6</td>\n",
       "      <td>marietta boulevard nw_nw_marietta boulevard nw_nw</td>\n",
       "      <td>atlanta</td>\n",
       "      <td>0</td>\n",
       "      <td>0</td>\n",
       "      <td>1.75</td>\n",
       "      <td>1.75</td>\n",
       "      <td>4</td>\n",
       "      <td>4</td>\n",
       "      <td>1</td>\n",
       "      <td>0atlanta</td>\n",
       "    </tr>\n",
       "  </tbody>\n",
       "</table>\n",
       "</div>"
      ],
      "text/plain": [
       "         IntersectionId  Latitude  Longitude        EntryStreetName  \\\n",
       "RowId                                                                 \n",
       "1920335               0  33.79166  -84.43003  marietta boulevard nw   \n",
       "1920336               0  33.79166  -84.43003  marietta boulevard nw   \n",
       "1920337               0  33.79166  -84.43003  marietta boulevard nw   \n",
       "1920338               0  33.79166  -84.43003  marietta boulevard nw   \n",
       "1920339               0  33.79166  -84.43003  marietta boulevard nw   \n",
       "\n",
       "                ExitStreetName  Hour  Weekend  Month  \\\n",
       "RowId                                                  \n",
       "1920335  marietta boulevard nw     0        0      6   \n",
       "1920336  marietta boulevard nw     0        0      6   \n",
       "1920337  marietta boulevard nw     1        0      6   \n",
       "1920338  marietta boulevard nw     1        0      6   \n",
       "1920339  marietta boulevard nw     2        0      6   \n",
       "\n",
       "                                                      Path     City  \\\n",
       "RowId                                                                 \n",
       "1920335  marietta boulevard nw_nw_marietta boulevard nw_nw  atlanta   \n",
       "1920336  marietta boulevard nw_se_marietta boulevard nw_se  atlanta   \n",
       "1920337  marietta boulevard nw_nw_marietta boulevard nw_nw  atlanta   \n",
       "1920338  marietta boulevard nw_se_marietta boulevard nw_se  atlanta   \n",
       "1920339  marietta boulevard nw_nw_marietta boulevard nw_nw  atlanta   \n",
       "\n",
       "         EntryStreetName_number  ExitStreetName_number  EntryHeading_vect  \\\n",
       "RowId                                                                       \n",
       "1920335                       0                      0               1.75   \n",
       "1920336                       0                      0               0.75   \n",
       "1920337                       0                      0               1.75   \n",
       "1920338                       0                      0               0.75   \n",
       "1920339                       0                      0               1.75   \n",
       "\n",
       "         ExitHeading_vect  EntryStreetName_road_type  \\\n",
       "RowId                                                  \n",
       "1920335              1.75                          4   \n",
       "1920336              0.75                          4   \n",
       "1920337              1.75                          4   \n",
       "1920338              0.75                          4   \n",
       "1920339              1.75                          4   \n",
       "\n",
       "         ExitStreetName_road_type  same_entry_exit_street Intersection  \n",
       "RowId                                                                   \n",
       "1920335                         4                       1     0atlanta  \n",
       "1920336                         4                       1     0atlanta  \n",
       "1920337                         4                       1     0atlanta  \n",
       "1920338                         4                       1     0atlanta  \n",
       "1920339                         4                       1     0atlanta  "
      ]
     },
     "execution_count": 23,
     "metadata": {},
     "output_type": "execute_result"
    }
   ],
   "source": [
    "def feat_eng_Intersection(X, headers_dict):\n",
    "    \"\"\"\n",
    "    Add unique identifier for all intersections by adding IntersectionId with City\n",
    "    \"\"\"\n",
    "    X = X.copy()\n",
    "    X[\"Intersection\"] = X[\"IntersectionId\"].astype(str) + X[\"City\"]\n",
    "    \n",
    "    headers_dict['categorical features'].append(\"Intersection\")\n",
    "    \n",
    "    return X, headers_dict\n",
    "\n",
    "X, headers_dict = feat_eng_Intersection(X, headers_dict)\n",
    "X.head()"
   ]
  },
  {
   "cell_type": "code",
   "execution_count": 24,
   "metadata": {
    "ExecuteTime": {
     "end_time": "2019-10-04T16:27:13.188793Z",
     "start_time": "2019-10-04T16:27:10.148412Z"
    }
   },
   "outputs": [
    {
     "data": {
      "text/html": [
       "<div>\n",
       "<style scoped>\n",
       "    .dataframe tbody tr th:only-of-type {\n",
       "        vertical-align: middle;\n",
       "    }\n",
       "\n",
       "    .dataframe tbody tr th {\n",
       "        vertical-align: top;\n",
       "    }\n",
       "\n",
       "    .dataframe thead th {\n",
       "        text-align: right;\n",
       "    }\n",
       "</style>\n",
       "<table border=\"1\" class=\"dataframe\">\n",
       "  <thead>\n",
       "    <tr style=\"text-align: right;\">\n",
       "      <th></th>\n",
       "      <th>IntersectionId</th>\n",
       "      <th>Latitude</th>\n",
       "      <th>Longitude</th>\n",
       "      <th>EntryStreetName</th>\n",
       "      <th>ExitStreetName</th>\n",
       "      <th>Hour</th>\n",
       "      <th>Weekend</th>\n",
       "      <th>Month</th>\n",
       "      <th>Path</th>\n",
       "      <th>City</th>\n",
       "      <th>EntryStreetName_number</th>\n",
       "      <th>ExitStreetName_number</th>\n",
       "      <th>EntryHeading_vect</th>\n",
       "      <th>ExitHeading_vect</th>\n",
       "      <th>EntryStreetName_road_type</th>\n",
       "      <th>ExitStreetName_road_type</th>\n",
       "      <th>same_entry_exit_street</th>\n",
       "      <th>Intersection</th>\n",
       "      <th>city_month</th>\n",
       "    </tr>\n",
       "    <tr>\n",
       "      <th>RowId</th>\n",
       "      <th></th>\n",
       "      <th></th>\n",
       "      <th></th>\n",
       "      <th></th>\n",
       "      <th></th>\n",
       "      <th></th>\n",
       "      <th></th>\n",
       "      <th></th>\n",
       "      <th></th>\n",
       "      <th></th>\n",
       "      <th></th>\n",
       "      <th></th>\n",
       "      <th></th>\n",
       "      <th></th>\n",
       "      <th></th>\n",
       "      <th></th>\n",
       "      <th></th>\n",
       "      <th></th>\n",
       "      <th></th>\n",
       "    </tr>\n",
       "  </thead>\n",
       "  <tbody>\n",
       "    <tr>\n",
       "      <td>1920335</td>\n",
       "      <td>0</td>\n",
       "      <td>33.79166</td>\n",
       "      <td>-84.43003</td>\n",
       "      <td>marietta boulevard nw</td>\n",
       "      <td>marietta boulevard nw</td>\n",
       "      <td>0</td>\n",
       "      <td>0</td>\n",
       "      <td>6</td>\n",
       "      <td>marietta boulevard nw_nw_marietta boulevard nw_nw</td>\n",
       "      <td>atlanta</td>\n",
       "      <td>0</td>\n",
       "      <td>0</td>\n",
       "      <td>1.75</td>\n",
       "      <td>1.75</td>\n",
       "      <td>4</td>\n",
       "      <td>4</td>\n",
       "      <td>1</td>\n",
       "      <td>0atlanta</td>\n",
       "      <td>atlanta6</td>\n",
       "    </tr>\n",
       "    <tr>\n",
       "      <td>1920336</td>\n",
       "      <td>0</td>\n",
       "      <td>33.79166</td>\n",
       "      <td>-84.43003</td>\n",
       "      <td>marietta boulevard nw</td>\n",
       "      <td>marietta boulevard nw</td>\n",
       "      <td>0</td>\n",
       "      <td>0</td>\n",
       "      <td>6</td>\n",
       "      <td>marietta boulevard nw_se_marietta boulevard nw_se</td>\n",
       "      <td>atlanta</td>\n",
       "      <td>0</td>\n",
       "      <td>0</td>\n",
       "      <td>0.75</td>\n",
       "      <td>0.75</td>\n",
       "      <td>4</td>\n",
       "      <td>4</td>\n",
       "      <td>1</td>\n",
       "      <td>0atlanta</td>\n",
       "      <td>atlanta6</td>\n",
       "    </tr>\n",
       "    <tr>\n",
       "      <td>1920337</td>\n",
       "      <td>0</td>\n",
       "      <td>33.79166</td>\n",
       "      <td>-84.43003</td>\n",
       "      <td>marietta boulevard nw</td>\n",
       "      <td>marietta boulevard nw</td>\n",
       "      <td>1</td>\n",
       "      <td>0</td>\n",
       "      <td>6</td>\n",
       "      <td>marietta boulevard nw_nw_marietta boulevard nw_nw</td>\n",
       "      <td>atlanta</td>\n",
       "      <td>0</td>\n",
       "      <td>0</td>\n",
       "      <td>1.75</td>\n",
       "      <td>1.75</td>\n",
       "      <td>4</td>\n",
       "      <td>4</td>\n",
       "      <td>1</td>\n",
       "      <td>0atlanta</td>\n",
       "      <td>atlanta6</td>\n",
       "    </tr>\n",
       "    <tr>\n",
       "      <td>1920338</td>\n",
       "      <td>0</td>\n",
       "      <td>33.79166</td>\n",
       "      <td>-84.43003</td>\n",
       "      <td>marietta boulevard nw</td>\n",
       "      <td>marietta boulevard nw</td>\n",
       "      <td>1</td>\n",
       "      <td>0</td>\n",
       "      <td>6</td>\n",
       "      <td>marietta boulevard nw_se_marietta boulevard nw_se</td>\n",
       "      <td>atlanta</td>\n",
       "      <td>0</td>\n",
       "      <td>0</td>\n",
       "      <td>0.75</td>\n",
       "      <td>0.75</td>\n",
       "      <td>4</td>\n",
       "      <td>4</td>\n",
       "      <td>1</td>\n",
       "      <td>0atlanta</td>\n",
       "      <td>atlanta6</td>\n",
       "    </tr>\n",
       "    <tr>\n",
       "      <td>1920339</td>\n",
       "      <td>0</td>\n",
       "      <td>33.79166</td>\n",
       "      <td>-84.43003</td>\n",
       "      <td>marietta boulevard nw</td>\n",
       "      <td>marietta boulevard nw</td>\n",
       "      <td>2</td>\n",
       "      <td>0</td>\n",
       "      <td>6</td>\n",
       "      <td>marietta boulevard nw_nw_marietta boulevard nw_nw</td>\n",
       "      <td>atlanta</td>\n",
       "      <td>0</td>\n",
       "      <td>0</td>\n",
       "      <td>1.75</td>\n",
       "      <td>1.75</td>\n",
       "      <td>4</td>\n",
       "      <td>4</td>\n",
       "      <td>1</td>\n",
       "      <td>0atlanta</td>\n",
       "      <td>atlanta6</td>\n",
       "    </tr>\n",
       "  </tbody>\n",
       "</table>\n",
       "</div>"
      ],
      "text/plain": [
       "         IntersectionId  Latitude  Longitude        EntryStreetName  \\\n",
       "RowId                                                                 \n",
       "1920335               0  33.79166  -84.43003  marietta boulevard nw   \n",
       "1920336               0  33.79166  -84.43003  marietta boulevard nw   \n",
       "1920337               0  33.79166  -84.43003  marietta boulevard nw   \n",
       "1920338               0  33.79166  -84.43003  marietta boulevard nw   \n",
       "1920339               0  33.79166  -84.43003  marietta boulevard nw   \n",
       "\n",
       "                ExitStreetName  Hour  Weekend  Month  \\\n",
       "RowId                                                  \n",
       "1920335  marietta boulevard nw     0        0      6   \n",
       "1920336  marietta boulevard nw     0        0      6   \n",
       "1920337  marietta boulevard nw     1        0      6   \n",
       "1920338  marietta boulevard nw     1        0      6   \n",
       "1920339  marietta boulevard nw     2        0      6   \n",
       "\n",
       "                                                      Path     City  \\\n",
       "RowId                                                                 \n",
       "1920335  marietta boulevard nw_nw_marietta boulevard nw_nw  atlanta   \n",
       "1920336  marietta boulevard nw_se_marietta boulevard nw_se  atlanta   \n",
       "1920337  marietta boulevard nw_nw_marietta boulevard nw_nw  atlanta   \n",
       "1920338  marietta boulevard nw_se_marietta boulevard nw_se  atlanta   \n",
       "1920339  marietta boulevard nw_nw_marietta boulevard nw_nw  atlanta   \n",
       "\n",
       "         EntryStreetName_number  ExitStreetName_number  EntryHeading_vect  \\\n",
       "RowId                                                                       \n",
       "1920335                       0                      0               1.75   \n",
       "1920336                       0                      0               0.75   \n",
       "1920337                       0                      0               1.75   \n",
       "1920338                       0                      0               0.75   \n",
       "1920339                       0                      0               1.75   \n",
       "\n",
       "         ExitHeading_vect  EntryStreetName_road_type  \\\n",
       "RowId                                                  \n",
       "1920335              1.75                          4   \n",
       "1920336              0.75                          4   \n",
       "1920337              1.75                          4   \n",
       "1920338              0.75                          4   \n",
       "1920339              1.75                          4   \n",
       "\n",
       "         ExitStreetName_road_type  same_entry_exit_street Intersection  \\\n",
       "RowId                                                                    \n",
       "1920335                         4                       1     0atlanta   \n",
       "1920336                         4                       1     0atlanta   \n",
       "1920337                         4                       1     0atlanta   \n",
       "1920338                         4                       1     0atlanta   \n",
       "1920339                         4                       1     0atlanta   \n",
       "\n",
       "        city_month  \n",
       "RowId               \n",
       "1920335   atlanta6  \n",
       "1920336   atlanta6  \n",
       "1920337   atlanta6  \n",
       "1920338   atlanta6  \n",
       "1920339   atlanta6  "
      ]
     },
     "execution_count": 24,
     "metadata": {},
     "output_type": "execute_result"
    }
   ],
   "source": [
    "def feat_eng_city_month(X, headers_dict):\n",
    "    X = X.copy()\n",
    "    X['city_month'] = X[\"City\"] + X[\"Month\"].astype(str)\n",
    "    headers_dict['categorical features'].append('city_month')\n",
    "    \n",
    "    return X, headers_dict\n",
    "\n",
    "X, headers_dict = feat_eng_city_month(X, headers_dict)\n",
    "X.head()"
   ]
  },
  {
   "cell_type": "code",
   "execution_count": 25,
   "metadata": {
    "ExecuteTime": {
     "end_time": "2019-10-04T16:27:13.465420Z",
     "start_time": "2019-10-04T16:27:13.191130Z"
    }
   },
   "outputs": [],
   "source": [
    "def feat_eng_monthly_temp(X, headers_dict):\n",
    "    \"\"\"\n",
    "    Add a feature containing the monthly temperature for each city\n",
    "    \"\"\"\n",
    "    \n",
    "    monthly_av = {'atlanta1': 43, \n",
    "                  'atlanta5': 69, \n",
    "                  'atlanta6': 76, \n",
    "                  'atlanta7': 79, \n",
    "                  'atlanta8': 78, \n",
    "                  'atlanta9': 73,\n",
    "                  'atlanta10': 62, \n",
    "                  'atlanta11': 53, \n",
    "                  'atlanta12': 45, \n",
    "                  'boston1': 30, \n",
    "                  'boston5': 59, \n",
    "                  'boston6': 68,\n",
    "                  'boston7': 74, \n",
    "                  'boston8': 73, \n",
    "                  'boston9': 66, \n",
    "                  'boston10': 55,\n",
    "                  'boston11': 45, \n",
    "                  'boston12': 35,\n",
    "                  'chicago1': 27, \n",
    "                  'chicago5': 60, \n",
    "                  'chicago6': 70, \n",
    "                  'chicago7': 76, \n",
    "                  'chicago8': 76, \n",
    "                  'chicago9': 68,\n",
    "                  'chicago10': 56,\n",
    "                  'chicago11': 45, \n",
    "                  'chicago12': 32, \n",
    "                  'philadelphia1': 35, \n",
    "                  'philadelphia5': 66,\n",
    "                  'philadelphia6': 76, \n",
    "                  'philadelphia7': 81, \n",
    "                  'philadelphia8': 79, \n",
    "                  'philadelphia9': 72, \n",
    "                  'philadelphia10': 60,\n",
    "                  'philadelphia11': 49,\n",
    "                  'philadelphia12': 40\n",
    "                 }\n",
    "    \n",
    "    X[\"average_temp\"] = X['city_month'].map(monthly_av)\n",
    "    headers_dict['continuous features'].append('average_temp')\n",
    "    \n",
    "    return X, headers_dict\n",
    "\n",
    "X, headers_dict = feat_eng_monthly_temp(X, headers_dict)\n",
    "X.head()"
   ]
  },
  {
   "cell_type": "code",
   "execution_count": 27,
   "metadata": {
    "ExecuteTime": {
     "end_time": "2019-10-04T16:27:18.173068Z",
     "start_time": "2019-10-04T16:27:17.882517Z"
    }
   },
   "outputs": [
    {
     "data": {
      "text/html": [
       "<div>\n",
       "<style scoped>\n",
       "    .dataframe tbody tr th:only-of-type {\n",
       "        vertical-align: middle;\n",
       "    }\n",
       "\n",
       "    .dataframe tbody tr th {\n",
       "        vertical-align: top;\n",
       "    }\n",
       "\n",
       "    .dataframe thead th {\n",
       "        text-align: right;\n",
       "    }\n",
       "</style>\n",
       "<table border=\"1\" class=\"dataframe\">\n",
       "  <thead>\n",
       "    <tr style=\"text-align: right;\">\n",
       "      <th></th>\n",
       "      <th>IntersectionId</th>\n",
       "      <th>Latitude</th>\n",
       "      <th>Longitude</th>\n",
       "      <th>EntryStreetName</th>\n",
       "      <th>ExitStreetName</th>\n",
       "      <th>Hour</th>\n",
       "      <th>Weekend</th>\n",
       "      <th>Month</th>\n",
       "      <th>Path</th>\n",
       "      <th>City</th>\n",
       "      <th>EntryStreetName_number</th>\n",
       "      <th>ExitStreetName_number</th>\n",
       "      <th>EntryHeading_vect</th>\n",
       "      <th>ExitHeading_vect</th>\n",
       "      <th>EntryStreetName_road_type</th>\n",
       "      <th>ExitStreetName_road_type</th>\n",
       "      <th>same_entry_exit_street</th>\n",
       "      <th>Intersection</th>\n",
       "      <th>city_month</th>\n",
       "      <th>average_temp</th>\n",
       "      <th>average_rainfall</th>\n",
       "    </tr>\n",
       "    <tr>\n",
       "      <th>RowId</th>\n",
       "      <th></th>\n",
       "      <th></th>\n",
       "      <th></th>\n",
       "      <th></th>\n",
       "      <th></th>\n",
       "      <th></th>\n",
       "      <th></th>\n",
       "      <th></th>\n",
       "      <th></th>\n",
       "      <th></th>\n",
       "      <th></th>\n",
       "      <th></th>\n",
       "      <th></th>\n",
       "      <th></th>\n",
       "      <th></th>\n",
       "      <th></th>\n",
       "      <th></th>\n",
       "      <th></th>\n",
       "      <th></th>\n",
       "      <th></th>\n",
       "      <th></th>\n",
       "    </tr>\n",
       "  </thead>\n",
       "  <tbody>\n",
       "    <tr>\n",
       "      <td>1920335</td>\n",
       "      <td>0</td>\n",
       "      <td>33.79166</td>\n",
       "      <td>-84.43003</td>\n",
       "      <td>marietta boulevard nw</td>\n",
       "      <td>marietta boulevard nw</td>\n",
       "      <td>0</td>\n",
       "      <td>0</td>\n",
       "      <td>6</td>\n",
       "      <td>marietta boulevard nw_nw_marietta boulevard nw_nw</td>\n",
       "      <td>atlanta</td>\n",
       "      <td>0</td>\n",
       "      <td>0</td>\n",
       "      <td>1.75</td>\n",
       "      <td>1.75</td>\n",
       "      <td>4</td>\n",
       "      <td>4</td>\n",
       "      <td>1</td>\n",
       "      <td>0atlanta</td>\n",
       "      <td>atlanta6</td>\n",
       "      <td>76</td>\n",
       "      <td>3.63</td>\n",
       "    </tr>\n",
       "    <tr>\n",
       "      <td>1920336</td>\n",
       "      <td>0</td>\n",
       "      <td>33.79166</td>\n",
       "      <td>-84.43003</td>\n",
       "      <td>marietta boulevard nw</td>\n",
       "      <td>marietta boulevard nw</td>\n",
       "      <td>0</td>\n",
       "      <td>0</td>\n",
       "      <td>6</td>\n",
       "      <td>marietta boulevard nw_se_marietta boulevard nw_se</td>\n",
       "      <td>atlanta</td>\n",
       "      <td>0</td>\n",
       "      <td>0</td>\n",
       "      <td>0.75</td>\n",
       "      <td>0.75</td>\n",
       "      <td>4</td>\n",
       "      <td>4</td>\n",
       "      <td>1</td>\n",
       "      <td>0atlanta</td>\n",
       "      <td>atlanta6</td>\n",
       "      <td>76</td>\n",
       "      <td>3.63</td>\n",
       "    </tr>\n",
       "    <tr>\n",
       "      <td>1920337</td>\n",
       "      <td>0</td>\n",
       "      <td>33.79166</td>\n",
       "      <td>-84.43003</td>\n",
       "      <td>marietta boulevard nw</td>\n",
       "      <td>marietta boulevard nw</td>\n",
       "      <td>1</td>\n",
       "      <td>0</td>\n",
       "      <td>6</td>\n",
       "      <td>marietta boulevard nw_nw_marietta boulevard nw_nw</td>\n",
       "      <td>atlanta</td>\n",
       "      <td>0</td>\n",
       "      <td>0</td>\n",
       "      <td>1.75</td>\n",
       "      <td>1.75</td>\n",
       "      <td>4</td>\n",
       "      <td>4</td>\n",
       "      <td>1</td>\n",
       "      <td>0atlanta</td>\n",
       "      <td>atlanta6</td>\n",
       "      <td>76</td>\n",
       "      <td>3.63</td>\n",
       "    </tr>\n",
       "    <tr>\n",
       "      <td>1920338</td>\n",
       "      <td>0</td>\n",
       "      <td>33.79166</td>\n",
       "      <td>-84.43003</td>\n",
       "      <td>marietta boulevard nw</td>\n",
       "      <td>marietta boulevard nw</td>\n",
       "      <td>1</td>\n",
       "      <td>0</td>\n",
       "      <td>6</td>\n",
       "      <td>marietta boulevard nw_se_marietta boulevard nw_se</td>\n",
       "      <td>atlanta</td>\n",
       "      <td>0</td>\n",
       "      <td>0</td>\n",
       "      <td>0.75</td>\n",
       "      <td>0.75</td>\n",
       "      <td>4</td>\n",
       "      <td>4</td>\n",
       "      <td>1</td>\n",
       "      <td>0atlanta</td>\n",
       "      <td>atlanta6</td>\n",
       "      <td>76</td>\n",
       "      <td>3.63</td>\n",
       "    </tr>\n",
       "    <tr>\n",
       "      <td>1920339</td>\n",
       "      <td>0</td>\n",
       "      <td>33.79166</td>\n",
       "      <td>-84.43003</td>\n",
       "      <td>marietta boulevard nw</td>\n",
       "      <td>marietta boulevard nw</td>\n",
       "      <td>2</td>\n",
       "      <td>0</td>\n",
       "      <td>6</td>\n",
       "      <td>marietta boulevard nw_nw_marietta boulevard nw_nw</td>\n",
       "      <td>atlanta</td>\n",
       "      <td>0</td>\n",
       "      <td>0</td>\n",
       "      <td>1.75</td>\n",
       "      <td>1.75</td>\n",
       "      <td>4</td>\n",
       "      <td>4</td>\n",
       "      <td>1</td>\n",
       "      <td>0atlanta</td>\n",
       "      <td>atlanta6</td>\n",
       "      <td>76</td>\n",
       "      <td>3.63</td>\n",
       "    </tr>\n",
       "  </tbody>\n",
       "</table>\n",
       "</div>"
      ],
      "text/plain": [
       "         IntersectionId  Latitude  Longitude        EntryStreetName  \\\n",
       "RowId                                                                 \n",
       "1920335               0  33.79166  -84.43003  marietta boulevard nw   \n",
       "1920336               0  33.79166  -84.43003  marietta boulevard nw   \n",
       "1920337               0  33.79166  -84.43003  marietta boulevard nw   \n",
       "1920338               0  33.79166  -84.43003  marietta boulevard nw   \n",
       "1920339               0  33.79166  -84.43003  marietta boulevard nw   \n",
       "\n",
       "                ExitStreetName  Hour  Weekend  Month  \\\n",
       "RowId                                                  \n",
       "1920335  marietta boulevard nw     0        0      6   \n",
       "1920336  marietta boulevard nw     0        0      6   \n",
       "1920337  marietta boulevard nw     1        0      6   \n",
       "1920338  marietta boulevard nw     1        0      6   \n",
       "1920339  marietta boulevard nw     2        0      6   \n",
       "\n",
       "                                                      Path     City  \\\n",
       "RowId                                                                 \n",
       "1920335  marietta boulevard nw_nw_marietta boulevard nw_nw  atlanta   \n",
       "1920336  marietta boulevard nw_se_marietta boulevard nw_se  atlanta   \n",
       "1920337  marietta boulevard nw_nw_marietta boulevard nw_nw  atlanta   \n",
       "1920338  marietta boulevard nw_se_marietta boulevard nw_se  atlanta   \n",
       "1920339  marietta boulevard nw_nw_marietta boulevard nw_nw  atlanta   \n",
       "\n",
       "         EntryStreetName_number  ExitStreetName_number  EntryHeading_vect  \\\n",
       "RowId                                                                       \n",
       "1920335                       0                      0               1.75   \n",
       "1920336                       0                      0               0.75   \n",
       "1920337                       0                      0               1.75   \n",
       "1920338                       0                      0               0.75   \n",
       "1920339                       0                      0               1.75   \n",
       "\n",
       "         ExitHeading_vect  EntryStreetName_road_type  \\\n",
       "RowId                                                  \n",
       "1920335              1.75                          4   \n",
       "1920336              0.75                          4   \n",
       "1920337              1.75                          4   \n",
       "1920338              0.75                          4   \n",
       "1920339              1.75                          4   \n",
       "\n",
       "         ExitStreetName_road_type  same_entry_exit_street Intersection  \\\n",
       "RowId                                                                    \n",
       "1920335                         4                       1     0atlanta   \n",
       "1920336                         4                       1     0atlanta   \n",
       "1920337                         4                       1     0atlanta   \n",
       "1920338                         4                       1     0atlanta   \n",
       "1920339                         4                       1     0atlanta   \n",
       "\n",
       "        city_month  average_temp  average_rainfall  \n",
       "RowId                                               \n",
       "1920335   atlanta6            76              3.63  \n",
       "1920336   atlanta6            76              3.63  \n",
       "1920337   atlanta6            76              3.63  \n",
       "1920338   atlanta6            76              3.63  \n",
       "1920339   atlanta6            76              3.63  "
      ]
     },
     "execution_count": 27,
     "metadata": {},
     "output_type": "execute_result"
    }
   ],
   "source": [
    "def feat_eng_monthly_rainfall(X, headers_dict):\n",
    "    \n",
    "    monthly_rainfall = {'atlanta1': 5.02, \n",
    "                        'atlanta5': 3.95, \n",
    "                        'atlanta6': 3.63, \n",
    "                        'atlanta7': 5.12, \n",
    "                        'atlanta8': 3.67, \n",
    "                        'atlanta9': 4.09,\n",
    "                        'atlanta10': 3.11, \n",
    "                        'atlanta11': 4.10, \n",
    "                        'atlanta12': 3.82, \n",
    "                        'boston1': 3.92, \n",
    "                        'boston5': 3.24, \n",
    "                        'boston6': 3.22,\n",
    "                        'boston7': 3.06, \n",
    "                        'boston8': 3.37, \n",
    "                        'boston9': 3.47, \n",
    "                        'boston10': 3.79,\n",
    "                        'boston11': 3.98, \n",
    "                        'boston12': 3.73,\n",
    "                        'chicago1': 1.75, \n",
    "                        'chicago5': 3.38, \n",
    "                        'chicago6': 3.63, \n",
    "                        'chicago7': 3.51, \n",
    "                        'chicago8': 4.62, \n",
    "                        'chicago9': 3.27,\n",
    "                        'chicago10': 2.71,  \n",
    "                        'chicago11': 3.01, \n",
    "                        'chicago12': 2.43, \n",
    "                        'philadelphia1': 3.52, \n",
    "                        'philadelphia5': 3.88,\n",
    "                        'philadelphia6': 3.29, \n",
    "                        'philadelphia7': 4.39, \n",
    "                        'philadelphia8': 3.82, \n",
    "                        'philadelphia9':3.88 , \n",
    "                        'philadelphia10': 2.75,\n",
    "                        'philadelphia11': 3.16, \n",
    "                        'philadelphia12': 3.31}\n",
    "    \n",
    "    X[\"average_rainfall\"] = X['city_month'].map(monthly_rainfall)\n",
    "    headers_dict['continuous features'].append('average_rainfall')\n",
    "    \n",
    "    return X, headers_dict\n",
    "\n",
    "X, headers_dict = feat_eng_monthly_rainfall(X, headers_dict)\n",
    "X.head()"
   ]
  },
  {
   "cell_type": "code",
   "execution_count": 28,
   "metadata": {
    "ExecuteTime": {
     "end_time": "2019-10-04T16:27:21.665038Z",
     "start_time": "2019-10-04T16:27:19.871902Z"
    }
   },
   "outputs": [],
   "source": [
    "# drop city_month\n",
    "X = X.drop(columns=['city_month'])\n",
    "headers_dict['categorical features'].remove('city_month')"
   ]
  },
  {
   "cell_type": "code",
   "execution_count": 30,
   "metadata": {
    "ExecuteTime": {
     "end_time": "2019-10-04T16:27:22.432344Z",
     "start_time": "2019-10-04T16:27:21.672632Z"
    }
   },
   "outputs": [],
   "source": [
    "def feat_eng_is_day(X, headers_dict):\n",
    "    X['is_day'] = X['Hour'].apply(lambda x: 1 if 7 < x < 10 else 0)\n",
    "    headers_dict['categorical features'].append('is_day')\n",
    "    return X, headers_dict\n",
    "\n",
    "X, headers_dict = feat_eng_is_day(X, headers_dict)\n",
    "X.head()"
   ]
  },
  {
   "cell_type": "markdown",
   "metadata": {},
   "source": [
    "## Inspect Uniques After Preliminary Feat Eng"
   ]
  },
  {
   "cell_type": "code",
   "execution_count": 32,
   "metadata": {
    "ExecuteTime": {
     "end_time": "2019-10-04T16:27:49.148664Z",
     "start_time": "2019-10-04T16:27:26.421124Z"
    },
    "scrolled": false
   },
   "outputs": [
    {
     "name": "stdout",
     "output_type": "stream",
     "text": [
      "\n",
      "---- EntryStreetName_number ---- \n",
      "n_uniques: 103 \n",
      "dtype: int64\n",
      "\n",
      "uniques[:20]:\n"
     ]
    },
    {
     "data": {
      "text/plain": [
       "[0, 1, 2, 3, 4, 5, 6, 7, 8, 9, 10, 11, 12, 13, 14, 15, 16, 17, 18, 19, '...']"
      ]
     },
     "metadata": {},
     "output_type": "display_data"
    },
    {
     "name": "stdout",
     "output_type": "stream",
     "text": [
      "\n",
      "---- EntryStreetName_road_type ---- \n",
      "n_uniques: 8 \n",
      "dtype: int64\n",
      "\n",
      "uniques[:]:\n"
     ]
    },
    {
     "data": {
      "text/plain": [
       "[0, 1, 2, 3, 4, 5, 6, 7]"
      ]
     },
     "metadata": {},
     "output_type": "display_data"
    },
    {
     "name": "stdout",
     "output_type": "stream",
     "text": [
      "\n",
      "---- ExitStreetName_number ---- \n",
      "n_uniques: 103 \n",
      "dtype: int64\n",
      "\n",
      "uniques[:20]:\n"
     ]
    },
    {
     "data": {
      "text/plain": [
       "[0, 1, 2, 3, 4, 5, 6, 7, 8, 9, 10, 11, 12, 13, 14, 15, 16, 17, 18, 19, '...']"
      ]
     },
     "metadata": {},
     "output_type": "display_data"
    },
    {
     "name": "stdout",
     "output_type": "stream",
     "text": [
      "\n",
      "---- ExitStreetName_road_type ---- \n",
      "n_uniques: 8 \n",
      "dtype: int64\n",
      "\n",
      "uniques[:]:\n"
     ]
    },
    {
     "data": {
      "text/plain": [
       "[0, 1, 2, 3, 4, 5, 6, 7]"
      ]
     },
     "metadata": {},
     "output_type": "display_data"
    },
    {
     "name": "stdout",
     "output_type": "stream",
     "text": [
      "\n",
      "---- Hour ---- \n",
      "n_uniques: 24 \n",
      "dtype: int64\n",
      "\n",
      "uniques[:20]:\n"
     ]
    },
    {
     "data": {
      "text/plain": [
       "[0, 1, 2, 3, 4, 5, 6, 7, 8, 9, 10, 11, 12, 13, 14, 15, 16, 17, 18, 19, '...']"
      ]
     },
     "metadata": {},
     "output_type": "display_data"
    },
    {
     "name": "stdout",
     "output_type": "stream",
     "text": [
      "\n",
      "---- IntersectionId ---- \n",
      "n_uniques: 2839 \n",
      "dtype: int64\n",
      "\n",
      "uniques[:20]:\n"
     ]
    },
    {
     "data": {
      "text/plain": [
       "[0, 1, 2, 3, 4, 5, 6, 7, 8, 9, 10, 11, 12, 13, 14, 15, 16, 17, 18, 19, '...']"
      ]
     },
     "metadata": {},
     "output_type": "display_data"
    },
    {
     "name": "stdout",
     "output_type": "stream",
     "text": [
      "\n",
      "---- Month ---- \n",
      "n_uniques: 9 \n",
      "dtype: int64\n",
      "\n",
      "uniques[:]:\n"
     ]
    },
    {
     "data": {
      "text/plain": [
       "[1, 5, 6, 7, 8, 9, 10, 11, 12]"
      ]
     },
     "metadata": {},
     "output_type": "display_data"
    },
    {
     "name": "stdout",
     "output_type": "stream",
     "text": [
      "\n",
      "---- Weekend ---- \n",
      "n_uniques: 2 \n",
      "dtype: int64\n",
      "\n",
      "uniques[:]:\n"
     ]
    },
    {
     "data": {
      "text/plain": [
       "[0, 1]"
      ]
     },
     "metadata": {},
     "output_type": "display_data"
    },
    {
     "name": "stdout",
     "output_type": "stream",
     "text": [
      "\n",
      "---- average_temp ---- \n",
      "n_uniques: 24 \n",
      "dtype: int64\n",
      "\n",
      "uniques[:20]:\n"
     ]
    },
    {
     "data": {
      "text/plain": [
       "[30,\n",
       " 32,\n",
       " 35,\n",
       " 40,\n",
       " 43,\n",
       " 45,\n",
       " 49,\n",
       " 53,\n",
       " 55,\n",
       " 56,\n",
       " 59,\n",
       " 60,\n",
       " 62,\n",
       " 66,\n",
       " 68,\n",
       " 69,\n",
       " 70,\n",
       " 72,\n",
       " 73,\n",
       " 74,\n",
       " '...']"
      ]
     },
     "metadata": {},
     "output_type": "display_data"
    },
    {
     "name": "stdout",
     "output_type": "stream",
     "text": [
      "\n",
      "---- is_day ---- \n",
      "n_uniques: 2 \n",
      "dtype: int64\n",
      "\n",
      "uniques[:]:\n"
     ]
    },
    {
     "data": {
      "text/plain": [
       "[0, 1]"
      ]
     },
     "metadata": {},
     "output_type": "display_data"
    },
    {
     "name": "stdout",
     "output_type": "stream",
     "text": [
      "\n",
      "---- same_entry_exit_street ---- \n",
      "n_uniques: 2 \n",
      "dtype: int64\n",
      "\n",
      "uniques[:]:\n"
     ]
    },
    {
     "data": {
      "text/plain": [
       "[0, 1]"
      ]
     },
     "metadata": {},
     "output_type": "display_data"
    },
    {
     "name": "stdout",
     "output_type": "stream",
     "text": [
      "\n",
      "---- EntryHeading_vect ---- \n",
      "n_uniques: 8 \n",
      "dtype: float64\n",
      "\n",
      "uniques[:]:\n"
     ]
    },
    {
     "data": {
      "text/plain": [
       "[0.0, 0.25, 0.5, 0.75, 1.0, 1.25, 1.5, 1.75]"
      ]
     },
     "metadata": {},
     "output_type": "display_data"
    },
    {
     "name": "stdout",
     "output_type": "stream",
     "text": [
      "\n",
      "---- ExitHeading_vect ---- \n",
      "n_uniques: 8 \n",
      "dtype: float64\n",
      "\n",
      "uniques[:]:\n"
     ]
    },
    {
     "data": {
      "text/plain": [
       "[0.0, 0.25, 0.5, 0.75, 1.0, 1.25, 1.5, 1.75]"
      ]
     },
     "metadata": {},
     "output_type": "display_data"
    },
    {
     "name": "stdout",
     "output_type": "stream",
     "text": [
      "\n",
      "---- Latitude ---- \n",
      "n_uniques: 6013 \n",
      "dtype: float64\n",
      "\n",
      "uniques[:20]:\n"
     ]
    },
    {
     "data": {
      "text/plain": [
       "[33.64997,\n",
       " 33.65013,\n",
       " 33.651379999999996,\n",
       " 33.65155,\n",
       " 33.65189,\n",
       " 33.65227,\n",
       " 33.65287,\n",
       " 33.65309,\n",
       " 33.65318,\n",
       " 33.6537,\n",
       " 33.65538,\n",
       " 33.65664,\n",
       " 33.673559999999995,\n",
       " 33.681129999999996,\n",
       " 33.68287,\n",
       " 33.686370000000004,\n",
       " 33.68805,\n",
       " 33.689609999999995,\n",
       " 33.69015,\n",
       " 33.69063,\n",
       " '...']"
      ]
     },
     "metadata": {},
     "output_type": "display_data"
    },
    {
     "name": "stdout",
     "output_type": "stream",
     "text": [
      "\n",
      "---- Longitude ---- \n",
      "n_uniques: 6016 \n",
      "dtype: float64\n",
      "\n",
      "uniques[:20]:\n"
     ]
    },
    {
     "data": {
      "text/plain": [
       "[-87.89715,\n",
       " -87.89414000000001,\n",
       " -87.88866999999999,\n",
       " -87.88577,\n",
       " -87.88576,\n",
       " -87.88575,\n",
       " -87.88455,\n",
       " -87.86229,\n",
       " -87.84654,\n",
       " -87.8465,\n",
       " -87.84645,\n",
       " -87.84151,\n",
       " -87.83711,\n",
       " -87.83675,\n",
       " -87.8367,\n",
       " -87.83668,\n",
       " -87.83663,\n",
       " -87.83662,\n",
       " -87.83661,\n",
       " -87.83646999999999,\n",
       " '...']"
      ]
     },
     "metadata": {},
     "output_type": "display_data"
    },
    {
     "name": "stdout",
     "output_type": "stream",
     "text": [
      "\n",
      "---- average_rainfall ---- \n",
      "n_uniques: 32 \n",
      "dtype: float64\n",
      "\n",
      "uniques[:20]:\n"
     ]
    },
    {
     "data": {
      "text/plain": [
       "[2.43,\n",
       " 2.71,\n",
       " 2.75,\n",
       " 3.01,\n",
       " 3.06,\n",
       " 3.11,\n",
       " 3.16,\n",
       " 3.22,\n",
       " 3.24,\n",
       " 3.27,\n",
       " 3.29,\n",
       " 3.31,\n",
       " 3.37,\n",
       " 3.38,\n",
       " 3.47,\n",
       " 3.51,\n",
       " 3.52,\n",
       " 3.63,\n",
       " 3.67,\n",
       " 3.73,\n",
       " '...']"
      ]
     },
     "metadata": {},
     "output_type": "display_data"
    },
    {
     "name": "stdout",
     "output_type": "stream",
     "text": [
      "\n",
      "---- City ---- \n",
      "n_uniques: 4 \n",
      "dtype: object\n",
      "\n",
      "uniques[:]:\n"
     ]
    },
    {
     "data": {
      "text/plain": [
       "['atlanta', 'boston', 'chicago', 'philadelphia']"
      ]
     },
     "metadata": {},
     "output_type": "display_data"
    },
    {
     "name": "stdout",
     "output_type": "stream",
     "text": [
      "\n",
      "---- EntryStreetName ---- \n",
      "n_uniques: 2232 \n",
      "dtype: object\n",
      "\n",
      "uniques[:20]:\n"
     ]
    },
    {
     "data": {
      "text/plain": [
       "['10th presbyterian church parking',\n",
       " '10th street ne',\n",
       " '10th street nw',\n",
       " '12th street ne',\n",
       " '13th street',\n",
       " '14th street ne',\n",
       " '14th street nw',\n",
       " '15th street ne',\n",
       " '16th street',\n",
       " '16th street ne',\n",
       " '16th street nw',\n",
       " '17th street ne',\n",
       " '17th street nw',\n",
       " '1st street',\n",
       " '23rd st',\n",
       " '23rd street',\n",
       " '2nd avenue ne',\n",
       " '2nd avenue se',\n",
       " '2nd street',\n",
       " '3rd street',\n",
       " '...']"
      ]
     },
     "metadata": {},
     "output_type": "display_data"
    },
    {
     "name": "stdout",
     "output_type": "stream",
     "text": [
      "\n",
      "---- ExitStreetName ---- \n",
      "n_uniques: 2218 \n",
      "dtype: object\n",
      "\n",
      "uniques[:20]:\n"
     ]
    },
    {
     "data": {
      "text/plain": [
       "['10th presbyterian church parking',\n",
       " '10th street ne',\n",
       " '10th street nw',\n",
       " '12th street ne',\n",
       " '13th street',\n",
       " '14th street ne',\n",
       " '14th street nw',\n",
       " '15th street ne',\n",
       " '16th street',\n",
       " '16th street ne',\n",
       " '16th street nw',\n",
       " '17th street ne',\n",
       " '17th street nw',\n",
       " '1st street',\n",
       " '23rd st',\n",
       " '23rd street',\n",
       " '2nd avenue ne',\n",
       " '2nd avenue se',\n",
       " '2nd street',\n",
       " '3rd street',\n",
       " '...']"
      ]
     },
     "metadata": {},
     "output_type": "display_data"
    },
    {
     "name": "stdout",
     "output_type": "stream",
     "text": [
      "\n",
      "---- Intersection ---- \n",
      "n_uniques: 6381 \n",
      "dtype: object\n",
      "\n",
      "uniques[:20]:\n"
     ]
    },
    {
     "data": {
      "text/plain": [
       "['0atlanta',\n",
       " '0boston',\n",
       " '0chicago',\n",
       " '0philadelphia',\n",
       " '1000boston',\n",
       " '1000chicago',\n",
       " '1001boston',\n",
       " '1001chicago',\n",
       " '1001philadelphia',\n",
       " '1002boston',\n",
       " '1002philadelphia',\n",
       " '1003boston',\n",
       " '1003chicago',\n",
       " '1003philadelphia',\n",
       " '1004boston',\n",
       " '1004chicago',\n",
       " '1004philadelphia',\n",
       " '1005boston',\n",
       " '1005chicago',\n",
       " '1005philadelphia',\n",
       " '...']"
      ]
     },
     "metadata": {},
     "output_type": "display_data"
    },
    {
     "name": "stdout",
     "output_type": "stream",
     "text": [
      "\n",
      "---- Path ---- \n",
      "n_uniques: 21899 \n",
      "dtype: object\n",
      "\n",
      "uniques[:20]:\n"
     ]
    },
    {
     "data": {
      "text/plain": [
       "['10th presbyterian church parking_e_pine street_e',\n",
       " '10th street ne_e_10th street ne_e',\n",
       " '10th street ne_e_charles allen drive ne_s',\n",
       " '10th street ne_e_juniper street ne_s',\n",
       " '10th street ne_e_monroe drive ne_n',\n",
       " '10th street ne_e_monroe drive ne_s',\n",
       " '10th street ne_e_peachtree street ne_n',\n",
       " '10th street ne_e_peachtree street ne_s',\n",
       " '10th street ne_e_piedmont avenue ne_n',\n",
       " '10th street ne_e_unknown_n',\n",
       " '10th street ne_w_10th street ne_n',\n",
       " '10th street ne_w_10th street ne_w',\n",
       " '10th street ne_w_10th street nw_w',\n",
       " '10th street ne_w_charles allen drive ne_s',\n",
       " '10th street ne_w_juniper street ne_s',\n",
       " '10th street ne_w_peachtree street ne_n',\n",
       " '10th street ne_w_peachtree street ne_s',\n",
       " '10th street ne_w_piedmont avenue ne_n',\n",
       " '10th street ne_w_west peachtree street nw_n',\n",
       " '10th street ne_w_west peachtree street nw_w',\n",
       " '...']"
      ]
     },
     "metadata": {},
     "output_type": "display_data"
    }
   ],
   "source": [
    "JLpyUtils.ML.inspection.uniques(X)"
   ]
  },
  {
   "cell_type": "markdown",
   "metadata": {},
   "source": [
    "## Label Encode"
   ]
  },
  {
   "cell_type": "code",
   "execution_count": 35,
   "metadata": {
    "ExecuteTime": {
     "end_time": "2019-10-04T16:27:55.050262Z",
     "start_time": "2019-10-04T16:27:51.810709Z"
    }
   },
   "outputs": [],
   "source": [
    "LabelEncoder = JLpyUtils.ML.preprocessing.LabelEncode.categorical_features()\n",
    "LabelEncoder.fit(X, headers_dict['categorical features'])"
   ]
  },
  {
   "cell_type": "code",
   "execution_count": 36,
   "metadata": {
    "ExecuteTime": {
     "end_time": "2019-10-04T16:30:58.234840Z",
     "start_time": "2019-10-04T16:27:55.820702Z"
    }
   },
   "outputs": [
    {
     "data": {
      "text/html": [
       "<div>\n",
       "<style scoped>\n",
       "    .dataframe tbody tr th:only-of-type {\n",
       "        vertical-align: middle;\n",
       "    }\n",
       "\n",
       "    .dataframe tbody tr th {\n",
       "        vertical-align: top;\n",
       "    }\n",
       "\n",
       "    .dataframe thead th {\n",
       "        text-align: right;\n",
       "    }\n",
       "</style>\n",
       "<table border=\"1\" class=\"dataframe\">\n",
       "  <thead>\n",
       "    <tr style=\"text-align: right;\">\n",
       "      <th></th>\n",
       "      <th>IntersectionId</th>\n",
       "      <th>Latitude</th>\n",
       "      <th>Longitude</th>\n",
       "      <th>EntryStreetName</th>\n",
       "      <th>ExitStreetName</th>\n",
       "      <th>Hour</th>\n",
       "      <th>Weekend</th>\n",
       "      <th>Month</th>\n",
       "      <th>Path</th>\n",
       "      <th>City</th>\n",
       "      <th>EntryStreetName_number</th>\n",
       "      <th>ExitStreetName_number</th>\n",
       "      <th>EntryHeading_vect</th>\n",
       "      <th>ExitHeading_vect</th>\n",
       "      <th>EntryStreetName_road_type</th>\n",
       "      <th>ExitStreetName_road_type</th>\n",
       "      <th>same_entry_exit_street</th>\n",
       "      <th>Intersection</th>\n",
       "      <th>average_temp</th>\n",
       "      <th>average_rainfall</th>\n",
       "      <th>is_day</th>\n",
       "    </tr>\n",
       "    <tr>\n",
       "      <th>RowId</th>\n",
       "      <th></th>\n",
       "      <th></th>\n",
       "      <th></th>\n",
       "      <th></th>\n",
       "      <th></th>\n",
       "      <th></th>\n",
       "      <th></th>\n",
       "      <th></th>\n",
       "      <th></th>\n",
       "      <th></th>\n",
       "      <th></th>\n",
       "      <th></th>\n",
       "      <th></th>\n",
       "      <th></th>\n",
       "      <th></th>\n",
       "      <th></th>\n",
       "      <th></th>\n",
       "      <th></th>\n",
       "      <th></th>\n",
       "      <th></th>\n",
       "      <th></th>\n",
       "    </tr>\n",
       "  </thead>\n",
       "  <tbody>\n",
       "    <tr>\n",
       "      <td>1920335</td>\n",
       "      <td>0</td>\n",
       "      <td>33.79166</td>\n",
       "      <td>-84.43003</td>\n",
       "      <td>952.0</td>\n",
       "      <td>950.0</td>\n",
       "      <td>0</td>\n",
       "      <td>0</td>\n",
       "      <td>6</td>\n",
       "      <td>8110</td>\n",
       "      <td>0</td>\n",
       "      <td>0</td>\n",
       "      <td>0</td>\n",
       "      <td>1.75</td>\n",
       "      <td>1.75</td>\n",
       "      <td>4</td>\n",
       "      <td>4</td>\n",
       "      <td>1</td>\n",
       "      <td>0</td>\n",
       "      <td>76</td>\n",
       "      <td>3.63</td>\n",
       "      <td>0</td>\n",
       "    </tr>\n",
       "    <tr>\n",
       "      <td>1920336</td>\n",
       "      <td>0</td>\n",
       "      <td>33.79166</td>\n",
       "      <td>-84.43003</td>\n",
       "      <td>952.0</td>\n",
       "      <td>950.0</td>\n",
       "      <td>0</td>\n",
       "      <td>0</td>\n",
       "      <td>6</td>\n",
       "      <td>8125</td>\n",
       "      <td>0</td>\n",
       "      <td>0</td>\n",
       "      <td>0</td>\n",
       "      <td>0.75</td>\n",
       "      <td>0.75</td>\n",
       "      <td>4</td>\n",
       "      <td>4</td>\n",
       "      <td>1</td>\n",
       "      <td>0</td>\n",
       "      <td>76</td>\n",
       "      <td>3.63</td>\n",
       "      <td>0</td>\n",
       "    </tr>\n",
       "    <tr>\n",
       "      <td>1920337</td>\n",
       "      <td>0</td>\n",
       "      <td>33.79166</td>\n",
       "      <td>-84.43003</td>\n",
       "      <td>952.0</td>\n",
       "      <td>950.0</td>\n",
       "      <td>1</td>\n",
       "      <td>0</td>\n",
       "      <td>6</td>\n",
       "      <td>8110</td>\n",
       "      <td>0</td>\n",
       "      <td>0</td>\n",
       "      <td>0</td>\n",
       "      <td>1.75</td>\n",
       "      <td>1.75</td>\n",
       "      <td>4</td>\n",
       "      <td>4</td>\n",
       "      <td>1</td>\n",
       "      <td>0</td>\n",
       "      <td>76</td>\n",
       "      <td>3.63</td>\n",
       "      <td>0</td>\n",
       "    </tr>\n",
       "    <tr>\n",
       "      <td>1920338</td>\n",
       "      <td>0</td>\n",
       "      <td>33.79166</td>\n",
       "      <td>-84.43003</td>\n",
       "      <td>952.0</td>\n",
       "      <td>950.0</td>\n",
       "      <td>1</td>\n",
       "      <td>0</td>\n",
       "      <td>6</td>\n",
       "      <td>8125</td>\n",
       "      <td>0</td>\n",
       "      <td>0</td>\n",
       "      <td>0</td>\n",
       "      <td>0.75</td>\n",
       "      <td>0.75</td>\n",
       "      <td>4</td>\n",
       "      <td>4</td>\n",
       "      <td>1</td>\n",
       "      <td>0</td>\n",
       "      <td>76</td>\n",
       "      <td>3.63</td>\n",
       "      <td>0</td>\n",
       "    </tr>\n",
       "    <tr>\n",
       "      <td>1920339</td>\n",
       "      <td>0</td>\n",
       "      <td>33.79166</td>\n",
       "      <td>-84.43003</td>\n",
       "      <td>952.0</td>\n",
       "      <td>950.0</td>\n",
       "      <td>2</td>\n",
       "      <td>0</td>\n",
       "      <td>6</td>\n",
       "      <td>8110</td>\n",
       "      <td>0</td>\n",
       "      <td>0</td>\n",
       "      <td>0</td>\n",
       "      <td>1.75</td>\n",
       "      <td>1.75</td>\n",
       "      <td>4</td>\n",
       "      <td>4</td>\n",
       "      <td>1</td>\n",
       "      <td>0</td>\n",
       "      <td>76</td>\n",
       "      <td>3.63</td>\n",
       "      <td>0</td>\n",
       "    </tr>\n",
       "  </tbody>\n",
       "</table>\n",
       "</div>"
      ],
      "text/plain": [
       "         IntersectionId  Latitude  Longitude  EntryStreetName  ExitStreetName  \\\n",
       "RowId                                                                           \n",
       "1920335               0  33.79166  -84.43003            952.0           950.0   \n",
       "1920336               0  33.79166  -84.43003            952.0           950.0   \n",
       "1920337               0  33.79166  -84.43003            952.0           950.0   \n",
       "1920338               0  33.79166  -84.43003            952.0           950.0   \n",
       "1920339               0  33.79166  -84.43003            952.0           950.0   \n",
       "\n",
       "         Hour  Weekend  Month  Path  City  EntryStreetName_number  \\\n",
       "RowId                                                               \n",
       "1920335     0        0      6  8110     0                       0   \n",
       "1920336     0        0      6  8125     0                       0   \n",
       "1920337     1        0      6  8110     0                       0   \n",
       "1920338     1        0      6  8125     0                       0   \n",
       "1920339     2        0      6  8110     0                       0   \n",
       "\n",
       "         ExitStreetName_number  EntryHeading_vect  ExitHeading_vect  \\\n",
       "RowId                                                                 \n",
       "1920335                      0               1.75              1.75   \n",
       "1920336                      0               0.75              0.75   \n",
       "1920337                      0               1.75              1.75   \n",
       "1920338                      0               0.75              0.75   \n",
       "1920339                      0               1.75              1.75   \n",
       "\n",
       "         EntryStreetName_road_type  ExitStreetName_road_type  \\\n",
       "RowId                                                          \n",
       "1920335                          4                         4   \n",
       "1920336                          4                         4   \n",
       "1920337                          4                         4   \n",
       "1920338                          4                         4   \n",
       "1920339                          4                         4   \n",
       "\n",
       "         same_entry_exit_street  Intersection  average_temp  average_rainfall  \\\n",
       "RowId                                                                           \n",
       "1920335                       1             0            76              3.63   \n",
       "1920336                       1             0            76              3.63   \n",
       "1920337                       1             0            76              3.63   \n",
       "1920338                       1             0            76              3.63   \n",
       "1920339                       1             0            76              3.63   \n",
       "\n",
       "         is_day  \n",
       "RowId            \n",
       "1920335       0  \n",
       "1920336       0  \n",
       "1920337       0  \n",
       "1920338       0  \n",
       "1920339       0  "
      ]
     },
     "execution_count": 36,
     "metadata": {},
     "output_type": "execute_result"
    }
   ],
   "source": [
    "X = LabelEncoder.transform(X)\n",
    "X.head()"
   ]
  },
  {
   "cell_type": "markdown",
   "metadata": {},
   "source": [
    "## Impute"
   ]
  },
  {
   "cell_type": "code",
   "execution_count": 37,
   "metadata": {
    "ExecuteTime": {
     "end_time": "2019-10-04T16:31:09.295378Z",
     "start_time": "2019-10-04T16:30:58.969902Z"
    }
   },
   "outputs": [],
   "source": [
    "X, Imputer_cat = JLpyUtils.ML.preprocessing.Impute.categorical_features(X, \n",
    "                                                    headers_dict['categorical features'],\n",
    "                                                    strategy='constant')"
   ]
  },
  {
   "cell_type": "code",
   "execution_count": 38,
   "metadata": {
    "ExecuteTime": {
     "end_time": "2019-10-04T16:31:11.720295Z",
     "start_time": "2019-10-04T16:31:09.297638Z"
    }
   },
   "outputs": [],
   "source": [
    "X, Imputer_cont = JLpyUtils.ML.preprocessing.Impute.continuous_features(X, \n",
    "                                                    headers_dict['continuous features'],\n",
    "                                                    strategy='constant')"
   ]
  },
  {
   "cell_type": "markdown",
   "metadata": {},
   "source": [
    "## Scale"
   ]
  },
  {
   "cell_type": "code",
   "execution_count": 39,
   "metadata": {
    "ExecuteTime": {
     "end_time": "2019-10-04T16:31:13.227396Z",
     "start_time": "2019-10-04T16:31:13.224746Z"
    }
   },
   "outputs": [],
   "source": [
    "import sklearn.preprocessing"
   ]
  },
  {
   "cell_type": "code",
   "execution_count": 40,
   "metadata": {
    "ExecuteTime": {
     "end_time": "2019-10-04T16:31:15.302506Z",
     "start_time": "2019-10-04T16:31:14.067405Z"
    }
   },
   "outputs": [],
   "source": [
    "Scaler = JLpyUtils.ML.preprocessing.Scale.continuous_features(Scaler=sklearn.preprocessing.MinMaxScaler())\n",
    "Scaler.fit(X, continuous_headers = headers_dict['continuous features'])\n",
    "\n",
    "X = Scaler.transform(X)"
   ]
  },
  {
   "cell_type": "markdown",
   "metadata": {},
   "source": [
    "## One Hot Encode"
   ]
  },
  {
   "cell_type": "code",
   "execution_count": 41,
   "metadata": {
    "ExecuteTime": {
     "end_time": "2019-10-04T16:31:18.720459Z",
     "start_time": "2019-10-04T16:31:16.198287Z"
    }
   },
   "outputs": [
    {
     "data": {
      "text/html": [
       "<div>\n",
       "<style scoped>\n",
       "    .dataframe tbody tr th:only-of-type {\n",
       "        vertical-align: middle;\n",
       "    }\n",
       "\n",
       "    .dataframe tbody tr th {\n",
       "        vertical-align: top;\n",
       "    }\n",
       "\n",
       "    .dataframe thead th {\n",
       "        text-align: right;\n",
       "    }\n",
       "</style>\n",
       "<table border=\"1\" class=\"dataframe\">\n",
       "  <thead>\n",
       "    <tr style=\"text-align: right;\">\n",
       "      <th></th>\n",
       "      <th>IntersectionId</th>\n",
       "      <th>Latitude</th>\n",
       "      <th>Longitude</th>\n",
       "      <th>EntryStreetName</th>\n",
       "      <th>ExitStreetName</th>\n",
       "      <th>Hour</th>\n",
       "      <th>Weekend</th>\n",
       "      <th>Month</th>\n",
       "      <th>Path</th>\n",
       "      <th>EntryStreetName_number</th>\n",
       "      <th>ExitStreetName_number</th>\n",
       "      <th>EntryHeading_vect</th>\n",
       "      <th>ExitHeading_vect</th>\n",
       "      <th>EntryStreetName_road_type</th>\n",
       "      <th>ExitStreetName_road_type</th>\n",
       "      <th>same_entry_exit_street</th>\n",
       "      <th>Intersection</th>\n",
       "      <th>average_temp</th>\n",
       "      <th>average_rainfall</th>\n",
       "      <th>is_day</th>\n",
       "      <th>City(atlanta)</th>\n",
       "      <th>City(boston)</th>\n",
       "      <th>City(chicago)</th>\n",
       "      <th>City(missing_value)</th>\n",
       "      <th>City(philadelphia)</th>\n",
       "    </tr>\n",
       "  </thead>\n",
       "  <tbody>\n",
       "    <tr>\n",
       "      <td>0</td>\n",
       "      <td>0.0</td>\n",
       "      <td>0.01618</td>\n",
       "      <td>0.205155</td>\n",
       "      <td>952.0</td>\n",
       "      <td>950.0</td>\n",
       "      <td>0.0</td>\n",
       "      <td>0.0</td>\n",
       "      <td>6.0</td>\n",
       "      <td>8110.0</td>\n",
       "      <td>0.0</td>\n",
       "      <td>0.0</td>\n",
       "      <td>1.75</td>\n",
       "      <td>1.75</td>\n",
       "      <td>4.0</td>\n",
       "      <td>4.0</td>\n",
       "      <td>1.0</td>\n",
       "      <td>0.0</td>\n",
       "      <td>0.901961</td>\n",
       "      <td>0.446097</td>\n",
       "      <td>0.0</td>\n",
       "      <td>1.0</td>\n",
       "      <td>0.0</td>\n",
       "      <td>0.0</td>\n",
       "      <td>0.0</td>\n",
       "      <td>0.0</td>\n",
       "    </tr>\n",
       "    <tr>\n",
       "      <td>1</td>\n",
       "      <td>0.0</td>\n",
       "      <td>0.01618</td>\n",
       "      <td>0.205155</td>\n",
       "      <td>952.0</td>\n",
       "      <td>950.0</td>\n",
       "      <td>0.0</td>\n",
       "      <td>0.0</td>\n",
       "      <td>6.0</td>\n",
       "      <td>8125.0</td>\n",
       "      <td>0.0</td>\n",
       "      <td>0.0</td>\n",
       "      <td>0.75</td>\n",
       "      <td>0.75</td>\n",
       "      <td>4.0</td>\n",
       "      <td>4.0</td>\n",
       "      <td>1.0</td>\n",
       "      <td>0.0</td>\n",
       "      <td>0.901961</td>\n",
       "      <td>0.446097</td>\n",
       "      <td>0.0</td>\n",
       "      <td>1.0</td>\n",
       "      <td>0.0</td>\n",
       "      <td>0.0</td>\n",
       "      <td>0.0</td>\n",
       "      <td>0.0</td>\n",
       "    </tr>\n",
       "    <tr>\n",
       "      <td>2</td>\n",
       "      <td>0.0</td>\n",
       "      <td>0.01618</td>\n",
       "      <td>0.205155</td>\n",
       "      <td>952.0</td>\n",
       "      <td>950.0</td>\n",
       "      <td>1.0</td>\n",
       "      <td>0.0</td>\n",
       "      <td>6.0</td>\n",
       "      <td>8110.0</td>\n",
       "      <td>0.0</td>\n",
       "      <td>0.0</td>\n",
       "      <td>1.75</td>\n",
       "      <td>1.75</td>\n",
       "      <td>4.0</td>\n",
       "      <td>4.0</td>\n",
       "      <td>1.0</td>\n",
       "      <td>0.0</td>\n",
       "      <td>0.901961</td>\n",
       "      <td>0.446097</td>\n",
       "      <td>0.0</td>\n",
       "      <td>1.0</td>\n",
       "      <td>0.0</td>\n",
       "      <td>0.0</td>\n",
       "      <td>0.0</td>\n",
       "      <td>0.0</td>\n",
       "    </tr>\n",
       "    <tr>\n",
       "      <td>3</td>\n",
       "      <td>0.0</td>\n",
       "      <td>0.01618</td>\n",
       "      <td>0.205155</td>\n",
       "      <td>952.0</td>\n",
       "      <td>950.0</td>\n",
       "      <td>1.0</td>\n",
       "      <td>0.0</td>\n",
       "      <td>6.0</td>\n",
       "      <td>8125.0</td>\n",
       "      <td>0.0</td>\n",
       "      <td>0.0</td>\n",
       "      <td>0.75</td>\n",
       "      <td>0.75</td>\n",
       "      <td>4.0</td>\n",
       "      <td>4.0</td>\n",
       "      <td>1.0</td>\n",
       "      <td>0.0</td>\n",
       "      <td>0.901961</td>\n",
       "      <td>0.446097</td>\n",
       "      <td>0.0</td>\n",
       "      <td>1.0</td>\n",
       "      <td>0.0</td>\n",
       "      <td>0.0</td>\n",
       "      <td>0.0</td>\n",
       "      <td>0.0</td>\n",
       "    </tr>\n",
       "    <tr>\n",
       "      <td>4</td>\n",
       "      <td>0.0</td>\n",
       "      <td>0.01618</td>\n",
       "      <td>0.205155</td>\n",
       "      <td>952.0</td>\n",
       "      <td>950.0</td>\n",
       "      <td>2.0</td>\n",
       "      <td>0.0</td>\n",
       "      <td>6.0</td>\n",
       "      <td>8110.0</td>\n",
       "      <td>0.0</td>\n",
       "      <td>0.0</td>\n",
       "      <td>1.75</td>\n",
       "      <td>1.75</td>\n",
       "      <td>4.0</td>\n",
       "      <td>4.0</td>\n",
       "      <td>1.0</td>\n",
       "      <td>0.0</td>\n",
       "      <td>0.901961</td>\n",
       "      <td>0.446097</td>\n",
       "      <td>0.0</td>\n",
       "      <td>1.0</td>\n",
       "      <td>0.0</td>\n",
       "      <td>0.0</td>\n",
       "      <td>0.0</td>\n",
       "      <td>0.0</td>\n",
       "    </tr>\n",
       "  </tbody>\n",
       "</table>\n",
       "</div>"
      ],
      "text/plain": [
       "   IntersectionId  Latitude  Longitude  EntryStreetName  ExitStreetName  Hour  \\\n",
       "0             0.0   0.01618   0.205155            952.0           950.0   0.0   \n",
       "1             0.0   0.01618   0.205155            952.0           950.0   0.0   \n",
       "2             0.0   0.01618   0.205155            952.0           950.0   1.0   \n",
       "3             0.0   0.01618   0.205155            952.0           950.0   1.0   \n",
       "4             0.0   0.01618   0.205155            952.0           950.0   2.0   \n",
       "\n",
       "   Weekend  Month    Path  EntryStreetName_number  ExitStreetName_number  \\\n",
       "0      0.0    6.0  8110.0                     0.0                    0.0   \n",
       "1      0.0    6.0  8125.0                     0.0                    0.0   \n",
       "2      0.0    6.0  8110.0                     0.0                    0.0   \n",
       "3      0.0    6.0  8125.0                     0.0                    0.0   \n",
       "4      0.0    6.0  8110.0                     0.0                    0.0   \n",
       "\n",
       "   EntryHeading_vect  ExitHeading_vect  EntryStreetName_road_type  \\\n",
       "0               1.75              1.75                        4.0   \n",
       "1               0.75              0.75                        4.0   \n",
       "2               1.75              1.75                        4.0   \n",
       "3               0.75              0.75                        4.0   \n",
       "4               1.75              1.75                        4.0   \n",
       "\n",
       "   ExitStreetName_road_type  same_entry_exit_street  Intersection  \\\n",
       "0                       4.0                     1.0           0.0   \n",
       "1                       4.0                     1.0           0.0   \n",
       "2                       4.0                     1.0           0.0   \n",
       "3                       4.0                     1.0           0.0   \n",
       "4                       4.0                     1.0           0.0   \n",
       "\n",
       "   average_temp  average_rainfall  is_day  City(atlanta)  City(boston)  \\\n",
       "0      0.901961          0.446097     0.0            1.0           0.0   \n",
       "1      0.901961          0.446097     0.0            1.0           0.0   \n",
       "2      0.901961          0.446097     0.0            1.0           0.0   \n",
       "3      0.901961          0.446097     0.0            1.0           0.0   \n",
       "4      0.901961          0.446097     0.0            1.0           0.0   \n",
       "\n",
       "   City(chicago)  City(missing_value)  City(philadelphia)  \n",
       "0            0.0                  0.0                 0.0  \n",
       "1            0.0                  0.0                 0.0  \n",
       "2            0.0                  0.0                 0.0  \n",
       "3            0.0                  0.0                 0.0  \n",
       "4            0.0                  0.0                 0.0  "
      ]
     },
     "execution_count": 41,
     "metadata": {},
     "output_type": "execute_result"
    }
   ],
   "source": [
    "OneHotEncoder = JLpyUtils.ML.preprocessing.OneHotEncode.categorical_features(LabelEncoder = LabelEncoder)\n",
    "OneHotEncoder.fit(X, ['City'])\n",
    "X = OneHotEncoder.transform(X)\n",
    "X.head()"
   ]
  },
  {
   "cell_type": "markdown",
   "metadata": {},
   "source": [
    "# Visualize Post-Feat. Eng."
   ]
  },
  {
   "cell_type": "code",
   "execution_count": 42,
   "metadata": {
    "ExecuteTime": {
     "end_time": "2019-10-04T16:31:25.647149Z",
     "start_time": "2019-10-04T16:31:19.471941Z"
    },
    "scrolled": false
   },
   "outputs": [
    {
     "name": "stdout",
     "output_type": "stream",
     "text": [
      "\n",
      "---- City(atlanta) ---- \n",
      "n_uniques: 2 \n",
      "dtype: float64\n",
      "\n",
      "uniques[:]:\n"
     ]
    },
    {
     "data": {
      "text/plain": [
       "[0.0, 1.0]"
      ]
     },
     "metadata": {},
     "output_type": "display_data"
    },
    {
     "name": "stdout",
     "output_type": "stream",
     "text": [
      "\n",
      "---- City(boston) ---- \n",
      "n_uniques: 2 \n",
      "dtype: float64\n",
      "\n",
      "uniques[:]:\n"
     ]
    },
    {
     "data": {
      "text/plain": [
       "[0.0, 1.0]"
      ]
     },
     "metadata": {},
     "output_type": "display_data"
    },
    {
     "name": "stdout",
     "output_type": "stream",
     "text": [
      "\n",
      "---- City(chicago) ---- \n",
      "n_uniques: 2 \n",
      "dtype: float64\n",
      "\n",
      "uniques[:]:\n"
     ]
    },
    {
     "data": {
      "text/plain": [
       "[0.0, 1.0]"
      ]
     },
     "metadata": {},
     "output_type": "display_data"
    },
    {
     "name": "stdout",
     "output_type": "stream",
     "text": [
      "\n",
      "---- City(missing_value) ---- \n",
      "n_uniques: 1 \n",
      "dtype: float64\n",
      "\n",
      "uniques[:]:\n"
     ]
    },
    {
     "data": {
      "text/plain": [
       "[0.0]"
      ]
     },
     "metadata": {},
     "output_type": "display_data"
    },
    {
     "name": "stdout",
     "output_type": "stream",
     "text": [
      "\n",
      "---- City(philadelphia) ---- \n",
      "n_uniques: 2 \n",
      "dtype: float64\n",
      "\n",
      "uniques[:]:\n"
     ]
    },
    {
     "data": {
      "text/plain": [
       "[0.0, 1.0]"
      ]
     },
     "metadata": {},
     "output_type": "display_data"
    },
    {
     "name": "stdout",
     "output_type": "stream",
     "text": [
      "\n",
      "---- EntryHeading_vect ---- \n",
      "n_uniques: 8 \n",
      "dtype: float64\n",
      "\n",
      "uniques[:]:\n"
     ]
    },
    {
     "data": {
      "text/plain": [
       "[0.0, 0.25, 0.5, 0.75, 1.0, 1.25, 1.5, 1.75]"
      ]
     },
     "metadata": {},
     "output_type": "display_data"
    },
    {
     "name": "stdout",
     "output_type": "stream",
     "text": [
      "\n",
      "---- EntryStreetName ---- \n",
      "n_uniques: 2231 \n",
      "dtype: float64\n",
      "\n",
      "uniques[:20]:\n"
     ]
    },
    {
     "data": {
      "text/plain": [
       "[0.0,\n",
       " 1.0,\n",
       " 2.0,\n",
       " 3.0,\n",
       " 4.0,\n",
       " 5.0,\n",
       " 6.0,\n",
       " 7.0,\n",
       " 8.0,\n",
       " 9.0,\n",
       " 10.0,\n",
       " 11.0,\n",
       " 12.0,\n",
       " 13.0,\n",
       " 14.0,\n",
       " 15.0,\n",
       " 16.0,\n",
       " 17.0,\n",
       " 18.0,\n",
       " 19.0,\n",
       " '...']"
      ]
     },
     "metadata": {},
     "output_type": "display_data"
    },
    {
     "name": "stdout",
     "output_type": "stream",
     "text": [
      "\n",
      "---- EntryStreetName_number ---- \n",
      "n_uniques: 103 \n",
      "dtype: float64\n",
      "\n",
      "uniques[:20]:\n"
     ]
    },
    {
     "data": {
      "text/plain": [
       "[0.0,\n",
       " 1.0,\n",
       " 2.0,\n",
       " 3.0,\n",
       " 4.0,\n",
       " 5.0,\n",
       " 6.0,\n",
       " 7.0,\n",
       " 8.0,\n",
       " 9.0,\n",
       " 10.0,\n",
       " 11.0,\n",
       " 12.0,\n",
       " 13.0,\n",
       " 14.0,\n",
       " 15.0,\n",
       " 16.0,\n",
       " 17.0,\n",
       " 18.0,\n",
       " 19.0,\n",
       " '...']"
      ]
     },
     "metadata": {},
     "output_type": "display_data"
    },
    {
     "name": "stdout",
     "output_type": "stream",
     "text": [
      "\n",
      "---- EntryStreetName_road_type ---- \n",
      "n_uniques: 8 \n",
      "dtype: float64\n",
      "\n",
      "uniques[:]:\n"
     ]
    },
    {
     "data": {
      "text/plain": [
       "[0.0, 1.0, 2.0, 3.0, 4.0, 5.0, 6.0, 7.0]"
      ]
     },
     "metadata": {},
     "output_type": "display_data"
    },
    {
     "name": "stdout",
     "output_type": "stream",
     "text": [
      "\n",
      "---- ExitHeading_vect ---- \n",
      "n_uniques: 8 \n",
      "dtype: float64\n",
      "\n",
      "uniques[:]:\n"
     ]
    },
    {
     "data": {
      "text/plain": [
       "[0.0, 0.25, 0.5, 0.75, 1.0, 1.25, 1.5, 1.75]"
      ]
     },
     "metadata": {},
     "output_type": "display_data"
    },
    {
     "name": "stdout",
     "output_type": "stream",
     "text": [
      "\n",
      "---- ExitStreetName ---- \n",
      "n_uniques: 2217 \n",
      "dtype: float64\n",
      "\n",
      "uniques[:20]:\n"
     ]
    },
    {
     "data": {
      "text/plain": [
       "[0.0,\n",
       " 1.0,\n",
       " 2.0,\n",
       " 3.0,\n",
       " 4.0,\n",
       " 5.0,\n",
       " 6.0,\n",
       " 7.0,\n",
       " 8.0,\n",
       " 9.0,\n",
       " 10.0,\n",
       " 11.0,\n",
       " 12.0,\n",
       " 13.0,\n",
       " 14.0,\n",
       " 15.0,\n",
       " 16.0,\n",
       " 17.0,\n",
       " 18.0,\n",
       " 19.0,\n",
       " '...']"
      ]
     },
     "metadata": {},
     "output_type": "display_data"
    },
    {
     "name": "stdout",
     "output_type": "stream",
     "text": [
      "\n",
      "---- ExitStreetName_number ---- \n",
      "n_uniques: 103 \n",
      "dtype: float64\n",
      "\n",
      "uniques[:20]:\n"
     ]
    },
    {
     "data": {
      "text/plain": [
       "[0.0,\n",
       " 1.0,\n",
       " 2.0,\n",
       " 3.0,\n",
       " 4.0,\n",
       " 5.0,\n",
       " 6.0,\n",
       " 7.0,\n",
       " 8.0,\n",
       " 9.0,\n",
       " 10.0,\n",
       " 11.0,\n",
       " 12.0,\n",
       " 13.0,\n",
       " 14.0,\n",
       " 15.0,\n",
       " 16.0,\n",
       " 17.0,\n",
       " 18.0,\n",
       " 19.0,\n",
       " '...']"
      ]
     },
     "metadata": {},
     "output_type": "display_data"
    },
    {
     "name": "stdout",
     "output_type": "stream",
     "text": [
      "\n",
      "---- ExitStreetName_road_type ---- \n",
      "n_uniques: 8 \n",
      "dtype: float64\n",
      "\n",
      "uniques[:]:\n"
     ]
    },
    {
     "data": {
      "text/plain": [
       "[0.0, 1.0, 2.0, 3.0, 4.0, 5.0, 6.0, 7.0]"
      ]
     },
     "metadata": {},
     "output_type": "display_data"
    },
    {
     "name": "stdout",
     "output_type": "stream",
     "text": [
      "\n",
      "---- Hour ---- \n",
      "n_uniques: 24 \n",
      "dtype: float64\n",
      "\n",
      "uniques[:20]:\n"
     ]
    },
    {
     "data": {
      "text/plain": [
       "[0.0,\n",
       " 1.0,\n",
       " 2.0,\n",
       " 3.0,\n",
       " 4.0,\n",
       " 5.0,\n",
       " 6.0,\n",
       " 7.0,\n",
       " 8.0,\n",
       " 9.0,\n",
       " 10.0,\n",
       " 11.0,\n",
       " 12.0,\n",
       " 13.0,\n",
       " 14.0,\n",
       " 15.0,\n",
       " 16.0,\n",
       " 17.0,\n",
       " 18.0,\n",
       " 19.0,\n",
       " '...']"
      ]
     },
     "metadata": {},
     "output_type": "display_data"
    },
    {
     "name": "stdout",
     "output_type": "stream",
     "text": [
      "\n",
      "---- Intersection ---- \n",
      "n_uniques: 6381 \n",
      "dtype: float64\n",
      "\n",
      "uniques[:20]:\n"
     ]
    },
    {
     "data": {
      "text/plain": [
       "[0.0,\n",
       " 1.0,\n",
       " 2.0,\n",
       " 3.0,\n",
       " 4.0,\n",
       " 5.0,\n",
       " 6.0,\n",
       " 7.0,\n",
       " 8.0,\n",
       " 9.0,\n",
       " 10.0,\n",
       " 11.0,\n",
       " 12.0,\n",
       " 13.0,\n",
       " 14.0,\n",
       " 15.0,\n",
       " 16.0,\n",
       " 17.0,\n",
       " 18.0,\n",
       " 19.0,\n",
       " '...']"
      ]
     },
     "metadata": {},
     "output_type": "display_data"
    },
    {
     "name": "stdout",
     "output_type": "stream",
     "text": [
      "\n",
      "---- IntersectionId ---- \n",
      "n_uniques: 2839 \n",
      "dtype: float64\n",
      "\n",
      "uniques[:20]:\n"
     ]
    },
    {
     "data": {
      "text/plain": [
       "[0.0,\n",
       " 1.0,\n",
       " 2.0,\n",
       " 3.0,\n",
       " 4.0,\n",
       " 5.0,\n",
       " 6.0,\n",
       " 7.0,\n",
       " 8.0,\n",
       " 9.0,\n",
       " 10.0,\n",
       " 11.0,\n",
       " 12.0,\n",
       " 13.0,\n",
       " 14.0,\n",
       " 15.0,\n",
       " 16.0,\n",
       " 17.0,\n",
       " 18.0,\n",
       " 19.0,\n",
       " '...']"
      ]
     },
     "metadata": {},
     "output_type": "display_data"
    },
    {
     "name": "stdout",
     "output_type": "stream",
     "text": [
      "\n",
      "---- Latitude ---- \n",
      "n_uniques: 6013 \n",
      "dtype: float64\n",
      "\n",
      "uniques[:20]:\n"
     ]
    },
    {
     "data": {
      "text/plain": [
       "[0.0,\n",
       " 1.8271201730701847e-05,\n",
       " 0.00016101496525555703,\n",
       " 0.0001804281170953992,\n",
       " 0.00021925442077419532,\n",
       " 0.000262648524886,\n",
       " 0.0003311655313775752,\n",
       " 0.00035628843375778985,\n",
       " 0.00036656598473161495,\n",
       " 0.0004259473903585054,\n",
       " 0.0006177950085359818,\n",
       " 0.0007616807221695332,\n",
       " 0.002693860305242435,\n",
       " 0.003558316537149775,\n",
       " 0.0037570158559772082,\n",
       " 0.004156698393847247,\n",
       " 0.004348546012024279,\n",
       " 0.004526690228903174,\n",
       " 0.004588355534747013,\n",
       " 0.004643169139940007,\n",
       " '...']"
      ]
     },
     "metadata": {},
     "output_type": "display_data"
    },
    {
     "name": "stdout",
     "output_type": "stream",
     "text": [
      "\n",
      "---- Longitude ---- \n",
      "n_uniques: 6016 \n",
      "dtype: float64\n",
      "\n",
      "uniques[:20]:\n"
     ]
    },
    {
     "data": {
      "text/plain": [
       "[0.0,\n",
       " 0.0001781065088755085,\n",
       " 0.0005017751479297061,\n",
       " 0.0006733727810654955,\n",
       " 0.0006739644970412684,\n",
       " 0.0006745562130170413,\n",
       " 0.0007455621301772908,\n",
       " 0.002062721893491215,\n",
       " 0.0029946745562128285,\n",
       " 0.0029970414201176965,\n",
       " 0.0029999999999992255,\n",
       " 0.0032923076923072614,\n",
       " 0.0035526627218933626,\n",
       " 0.003573964497041615,\n",
       " 0.003576923076923144,\n",
       " 0.003578106508875578,\n",
       " 0.003581065088757107,\n",
       " 0.0035816568047337682,\n",
       " 0.0035822485207104293,\n",
       " 0.0035905325443792435,\n",
       " '...']"
      ]
     },
     "metadata": {},
     "output_type": "display_data"
    },
    {
     "name": "stdout",
     "output_type": "stream",
     "text": [
      "\n",
      "---- Month ---- \n",
      "n_uniques: 9 \n",
      "dtype: float64\n",
      "\n",
      "uniques[:]:\n"
     ]
    },
    {
     "data": {
      "text/plain": [
       "[1.0, 5.0, 6.0, 7.0, 8.0, 9.0, 10.0, 11.0, 12.0]"
      ]
     },
     "metadata": {},
     "output_type": "display_data"
    },
    {
     "name": "stdout",
     "output_type": "stream",
     "text": [
      "\n",
      "---- Path ---- \n",
      "n_uniques: 21899 \n",
      "dtype: float64\n",
      "\n",
      "uniques[:20]:\n"
     ]
    },
    {
     "data": {
      "text/plain": [
       "[0.0,\n",
       " 1.0,\n",
       " 2.0,\n",
       " 3.0,\n",
       " 4.0,\n",
       " 5.0,\n",
       " 6.0,\n",
       " 7.0,\n",
       " 8.0,\n",
       " 9.0,\n",
       " 10.0,\n",
       " 11.0,\n",
       " 12.0,\n",
       " 13.0,\n",
       " 14.0,\n",
       " 15.0,\n",
       " 16.0,\n",
       " 17.0,\n",
       " 18.0,\n",
       " 19.0,\n",
       " '...']"
      ]
     },
     "metadata": {},
     "output_type": "display_data"
    },
    {
     "name": "stdout",
     "output_type": "stream",
     "text": [
      "\n",
      "---- Weekend ---- \n",
      "n_uniques: 2 \n",
      "dtype: float64\n",
      "\n",
      "uniques[:]:\n"
     ]
    },
    {
     "data": {
      "text/plain": [
       "[0.0, 1.0]"
      ]
     },
     "metadata": {},
     "output_type": "display_data"
    },
    {
     "name": "stdout",
     "output_type": "stream",
     "text": [
      "\n",
      "---- average_rainfall ---- \n",
      "n_uniques: 32 \n",
      "dtype: float64\n",
      "\n",
      "uniques[:20]:\n"
     ]
    },
    {
     "data": {
      "text/plain": [
       "[0.0,\n",
       " 0.10408921933085491,\n",
       " 0.11895910780669139,\n",
       " 0.21561338289962806,\n",
       " 0.23420074349442377,\n",
       " 0.25278810408921926,\n",
       " 0.27137546468401497,\n",
       " 0.29368029739776946,\n",
       " 0.3011152416356877,\n",
       " 0.31226765799256495,\n",
       " 0.3197026022304832,\n",
       " 0.32713754646840143,\n",
       " 0.34944237918215615,\n",
       " 0.35315985130111516,\n",
       " 0.38661710037174735,\n",
       " 0.4014869888475836,\n",
       " 0.40520446096654283,\n",
       " 0.4460966542750928,\n",
       " 0.4609665427509293,\n",
       " 0.483271375464684,\n",
       " '...']"
      ]
     },
     "metadata": {},
     "output_type": "display_data"
    },
    {
     "name": "stdout",
     "output_type": "stream",
     "text": [
      "\n",
      "---- average_temp ---- \n",
      "n_uniques: 24 \n",
      "dtype: float64\n",
      "\n",
      "uniques[:20]:\n"
     ]
    },
    {
     "data": {
      "text/plain": [
       "[0.0,\n",
       " 0.039215686274509776,\n",
       " 0.0980392156862745,\n",
       " 0.196078431372549,\n",
       " 0.2549019607843137,\n",
       " 0.2941176470588235,\n",
       " 0.37254901960784315,\n",
       " 0.4509803921568628,\n",
       " 0.4901960784313725,\n",
       " 0.5098039215686275,\n",
       " 0.568627450980392,\n",
       " 0.5882352941176471,\n",
       " 0.6274509803921567,\n",
       " 0.7058823529411765,\n",
       " 0.7450980392156862,\n",
       " 0.7647058823529412,\n",
       " 0.7843137254901961,\n",
       " 0.8235294117647057,\n",
       " 0.8431372549019608,\n",
       " 0.8627450980392156,\n",
       " '...']"
      ]
     },
     "metadata": {},
     "output_type": "display_data"
    },
    {
     "name": "stdout",
     "output_type": "stream",
     "text": [
      "\n",
      "---- is_day ---- \n",
      "n_uniques: 2 \n",
      "dtype: float64\n",
      "\n",
      "uniques[:]:\n"
     ]
    },
    {
     "data": {
      "text/plain": [
       "[0.0, 1.0]"
      ]
     },
     "metadata": {},
     "output_type": "display_data"
    },
    {
     "name": "stdout",
     "output_type": "stream",
     "text": [
      "\n",
      "---- same_entry_exit_street ---- \n",
      "n_uniques: 2 \n",
      "dtype: float64\n",
      "\n",
      "uniques[:]:\n"
     ]
    },
    {
     "data": {
      "text/plain": [
       "[0.0, 1.0]"
      ]
     },
     "metadata": {},
     "output_type": "display_data"
    }
   ],
   "source": [
    "JLpyUtils.ML.inspection.uniques(X)"
   ]
  },
  {
   "cell_type": "code",
   "execution_count": 44,
   "metadata": {
    "ExecuteTime": {
     "end_time": "2019-10-04T16:32:24.787350Z",
     "start_time": "2019-10-04T16:32:10.517887Z"
    }
   },
   "outputs": [
    {
     "data": {
      "image/png": "[encoded data removed]",
      "text/plain": [
       "<Figure size 432x288 with 3 Axes>"
      ]
     },
     "metadata": {},
     "output_type": "display_data"
    },
    {
     "name": "stderr",
     "output_type": "stream",
     "text": [
      "I1004 09:32:12.665686 4667090368 category.py:225] Using categorical units to plot a list of strings that are all parsable as floats or dates. If these strings should be plotted as numbers, cast to the appropriate data type before plotting.\n",
      "I1004 09:32:12.668319 4667090368 category.py:225] Using categorical units to plot a list of strings that are all parsable as floats or dates. If these strings should be plotted as numbers, cast to the appropriate data type before plotting.\n"
     ]
    },
    {
     "data": {
      "image/png": "[encoded data removed]",
      "text/plain": [
       "<Figure size 432x288 with 3 Axes>"
      ]
     },
     "metadata": {},
     "output_type": "display_data"
    },
    {
     "name": "stderr",
     "output_type": "stream",
     "text": [
      "I1004 09:32:13.700581 4667090368 category.py:225] Using categorical units to plot a list of strings that are all parsable as floats or dates. If these strings should be plotted as numbers, cast to the appropriate data type before plotting.\n",
      "I1004 09:32:13.702372 4667090368 category.py:225] Using categorical units to plot a list of strings that are all parsable as floats or dates. If these strings should be plotted as numbers, cast to the appropriate data type before plotting.\n",
      "I1004 09:32:13.709264 4667090368 category.py:225] Using categorical units to plot a list of strings that are all parsable as floats or dates. If these strings should be plotted as numbers, cast to the appropriate data type before plotting.\n",
      "I1004 09:32:13.774885 4667090368 category.py:225] Using categorical units to plot a list of strings that are all parsable as floats or dates. If these strings should be plotted as numbers, cast to the appropriate data type before plotting.\n",
      "I1004 09:32:13.776613 4667090368 category.py:225] Using categorical units to plot a list of strings that are all parsable as floats or dates. If these strings should be plotted as numbers, cast to the appropriate data type before plotting.\n",
      "I1004 09:32:13.782340 4667090368 category.py:225] Using categorical units to plot a list of strings that are all parsable as floats or dates. If these strings should be plotted as numbers, cast to the appropriate data type before plotting.\n",
      "I1004 09:32:13.842820 4667090368 category.py:225] Using categorical units to plot a list of strings that are all parsable as floats or dates. If these strings should be plotted as numbers, cast to the appropriate data type before plotting.\n",
      "I1004 09:32:13.844372 4667090368 category.py:225] Using categorical units to plot a list of strings that are all parsable as floats or dates. If these strings should be plotted as numbers, cast to the appropriate data type before plotting.\n"
     ]
    },
    {
     "data": {
      "image/png": "[encoded data removed]",
      "text/plain": [
       "<Figure size 432x288 with 3 Axes>"
      ]
     },
     "metadata": {},
     "output_type": "display_data"
    },
    {
     "name": "stderr",
     "output_type": "stream",
     "text": [
      "I1004 09:32:15.583894 4667090368 category.py:225] Using categorical units to plot a list of strings that are all parsable as floats or dates. If these strings should be plotted as numbers, cast to the appropriate data type before plotting.\n",
      "I1004 09:32:15.586607 4667090368 category.py:225] Using categorical units to plot a list of strings that are all parsable as floats or dates. If these strings should be plotted as numbers, cast to the appropriate data type before plotting.\n",
      "I1004 09:32:15.664511 4667090368 category.py:225] Using categorical units to plot a list of strings that are all parsable as floats or dates. If these strings should be plotted as numbers, cast to the appropriate data type before plotting.\n",
      "I1004 09:32:15.667079 4667090368 category.py:225] Using categorical units to plot a list of strings that are all parsable as floats or dates. If these strings should be plotted as numbers, cast to the appropriate data type before plotting.\n",
      "I1004 09:32:15.675740 4667090368 category.py:225] Using categorical units to plot a list of strings that are all parsable as floats or dates. If these strings should be plotted as numbers, cast to the appropriate data type before plotting.\n",
      "I1004 09:32:15.745897 4667090368 category.py:225] Using categorical units to plot a list of strings that are all parsable as floats or dates. If these strings should be plotted as numbers, cast to the appropriate data type before plotting.\n",
      "I1004 09:32:15.748120 4667090368 category.py:225] Using categorical units to plot a list of strings that are all parsable as floats or dates. If these strings should be plotted as numbers, cast to the appropriate data type before plotting.\n",
      "I1004 09:32:15.757166 4667090368 category.py:225] Using categorical units to plot a list of strings that are all parsable as floats or dates. If these strings should be plotted as numbers, cast to the appropriate data type before plotting.\n"
     ]
    },
    {
     "data": {
      "image/png": "[encoded data removed]",
      "text/plain": [
       "<Figure size 432x288 with 3 Axes>"
      ]
     },
     "metadata": {},
     "output_type": "display_data"
    },
    {
     "name": "stderr",
     "output_type": "stream",
     "text": [
      "I1004 09:32:17.761416 4667090368 category.py:225] Using categorical units to plot a list of strings that are all parsable as floats or dates. If these strings should be plotted as numbers, cast to the appropriate data type before plotting.\n",
      "I1004 09:32:17.763692 4667090368 category.py:225] Using categorical units to plot a list of strings that are all parsable as floats or dates. If these strings should be plotted as numbers, cast to the appropriate data type before plotting.\n",
      "I1004 09:32:17.847100 4667090368 category.py:225] Using categorical units to plot a list of strings that are all parsable as floats or dates. If these strings should be plotted as numbers, cast to the appropriate data type before plotting.\n",
      "I1004 09:32:17.849858 4667090368 category.py:225] Using categorical units to plot a list of strings that are all parsable as floats or dates. If these strings should be plotted as numbers, cast to the appropriate data type before plotting.\n",
      "I1004 09:32:17.858742 4667090368 category.py:225] Using categorical units to plot a list of strings that are all parsable as floats or dates. If these strings should be plotted as numbers, cast to the appropriate data type before plotting.\n",
      "I1004 09:32:17.953438 4667090368 category.py:225] Using categorical units to plot a list of strings that are all parsable as floats or dates. If these strings should be plotted as numbers, cast to the appropriate data type before plotting.\n",
      "I1004 09:32:17.955848 4667090368 category.py:225] Using categorical units to plot a list of strings that are all parsable as floats or dates. If these strings should be plotted as numbers, cast to the appropriate data type before plotting.\n",
      "I1004 09:32:17.964962 4667090368 category.py:225] Using categorical units to plot a list of strings that are all parsable as floats or dates. If these strings should be plotted as numbers, cast to the appropriate data type before plotting.\n"
     ]
    },
    {
     "data": {
      "image/png": "[encoded data removed]",
      "text/plain": [
       "<Figure size 432x288 with 3 Axes>"
      ]
     },
     "metadata": {},
     "output_type": "display_data"
    },
    {
     "name": "stderr",
     "output_type": "stream",
     "text": [
      "I1004 09:32:19.671881 4667090368 category.py:225] Using categorical units to plot a list of strings that are all parsable as floats or dates. If these strings should be plotted as numbers, cast to the appropriate data type before plotting.\n",
      "I1004 09:32:19.673801 4667090368 category.py:225] Using categorical units to plot a list of strings that are all parsable as floats or dates. If these strings should be plotted as numbers, cast to the appropriate data type before plotting.\n",
      "I1004 09:32:19.679796 4667090368 category.py:225] Using categorical units to plot a list of strings that are all parsable as floats or dates. If these strings should be plotted as numbers, cast to the appropriate data type before plotting.\n"
     ]
    },
    {
     "data": {
      "image/png": "[encoded data removed]",
      "text/plain": [
       "<Figure size 432x288 with 3 Axes>"
      ]
     },
     "metadata": {},
     "output_type": "display_data"
    },
    {
     "name": "stderr",
     "output_type": "stream",
     "text": [
      "I1004 09:32:21.457826 4667090368 category.py:225] Using categorical units to plot a list of strings that are all parsable as floats or dates. If these strings should be plotted as numbers, cast to the appropriate data type before plotting.\n",
      "I1004 09:32:21.459379 4667090368 category.py:225] Using categorical units to plot a list of strings that are all parsable as floats or dates. If these strings should be plotted as numbers, cast to the appropriate data type before plotting.\n",
      "I1004 09:32:21.544699 4667090368 category.py:225] Using categorical units to plot a list of strings that are all parsable as floats or dates. If these strings should be plotted as numbers, cast to the appropriate data type before plotting.\n",
      "I1004 09:32:21.546262 4667090368 category.py:225] Using categorical units to plot a list of strings that are all parsable as floats or dates. If these strings should be plotted as numbers, cast to the appropriate data type before plotting.\n",
      "I1004 09:32:21.551612 4667090368 category.py:225] Using categorical units to plot a list of strings that are all parsable as floats or dates. If these strings should be plotted as numbers, cast to the appropriate data type before plotting.\n",
      "I1004 09:32:21.615682 4667090368 category.py:225] Using categorical units to plot a list of strings that are all parsable as floats or dates. If these strings should be plotted as numbers, cast to the appropriate data type before plotting.\n",
      "I1004 09:32:21.618256 4667090368 category.py:225] Using categorical units to plot a list of strings that are all parsable as floats or dates. If these strings should be plotted as numbers, cast to the appropriate data type before plotting.\n"
     ]
    },
    {
     "data": {
      "image/png": "[encoded data removed]",
      "text/plain": [
       "<Figure size 432x288 with 3 Axes>"
      ]
     },
     "metadata": {},
     "output_type": "display_data"
    },
    {
     "name": "stderr",
     "output_type": "stream",
     "text": [
      "I1004 09:32:23.206054 4667090368 category.py:225] Using categorical units to plot a list of strings that are all parsable as floats or dates. If these strings should be plotted as numbers, cast to the appropriate data type before plotting.\n",
      "I1004 09:32:23.207561 4667090368 category.py:225] Using categorical units to plot a list of strings that are all parsable as floats or dates. If these strings should be plotted as numbers, cast to the appropriate data type before plotting.\n"
     ]
    },
    {
     "data": {
      "image/png": "[encoded data removed]",
      "text/plain": [
       "<Figure size 432x288 with 3 Axes>"
      ]
     },
     "metadata": {},
     "output_type": "display_data"
    },
    {
     "name": "stderr",
     "output_type": "stream",
     "text": [
      "I1004 09:32:24.041894 4667090368 category.py:225] Using categorical units to plot a list of strings that are all parsable as floats or dates. If these strings should be plotted as numbers, cast to the appropriate data type before plotting.\n",
      "I1004 09:32:24.043496 4667090368 category.py:225] Using categorical units to plot a list of strings that are all parsable as floats or dates. If these strings should be plotted as numbers, cast to the appropriate data type before plotting.\n"
     ]
    },
    {
     "data": {
      "image/png": "[encoded data removed]",
      "text/plain": [
       "<Figure size 432x288 with 3 Axes>"
      ]
     },
     "metadata": {},
     "output_type": "display_data"
    }
   ],
   "source": [
    "importlib.reload(JLpyUtils.plot)\n",
    "JLpyUtils.plot.hist_or_bar(X, categorical_headers=headers_dict['categorical features'])"
   ]
  },
  {
   "cell_type": "markdown",
   "metadata": {},
   "source": [
    "# Define Train Test Field Sets"
   ]
  },
  {
   "cell_type": "code",
   "execution_count": 51,
   "metadata": {
    "ExecuteTime": {
     "end_time": "2019-10-04T21:11:13.794974Z",
     "start_time": "2019-10-04T21:11:13.759382Z"
    }
   },
   "outputs": [
    {
     "data": {
      "text/html": [
       "<div>\n",
       "<style scoped>\n",
       "    .dataframe tbody tr th:only-of-type {\n",
       "        vertical-align: middle;\n",
       "    }\n",
       "\n",
       "    .dataframe tbody tr th {\n",
       "        vertical-align: top;\n",
       "    }\n",
       "\n",
       "    .dataframe thead th {\n",
       "        text-align: right;\n",
       "    }\n",
       "</style>\n",
       "<table border=\"1\" class=\"dataframe\">\n",
       "  <thead>\n",
       "    <tr style=\"text-align: right;\">\n",
       "      <th></th>\n",
       "      <th>IntersectionId</th>\n",
       "      <th>Latitude</th>\n",
       "      <th>Longitude</th>\n",
       "      <th>EntryStreetName</th>\n",
       "      <th>ExitStreetName</th>\n",
       "      <th>Hour</th>\n",
       "      <th>Weekend</th>\n",
       "      <th>Month</th>\n",
       "      <th>Path</th>\n",
       "      <th>EntryStreetName_number</th>\n",
       "      <th>ExitStreetName_number</th>\n",
       "      <th>EntryHeading_vect</th>\n",
       "      <th>ExitHeading_vect</th>\n",
       "      <th>EntryStreetName_road_type</th>\n",
       "      <th>ExitStreetName_road_type</th>\n",
       "      <th>same_entry_exit_street</th>\n",
       "      <th>Intersection</th>\n",
       "      <th>average_temp</th>\n",
       "      <th>average_rainfall</th>\n",
       "      <th>is_day</th>\n",
       "      <th>City(atlanta)</th>\n",
       "      <th>City(boston)</th>\n",
       "      <th>City(chicago)</th>\n",
       "      <th>City(missing_value)</th>\n",
       "      <th>City(philadelphia)</th>\n",
       "    </tr>\n",
       "  </thead>\n",
       "  <tbody>\n",
       "    <tr>\n",
       "      <td>857409</td>\n",
       "      <td>1.0</td>\n",
       "      <td>0.011530</td>\n",
       "      <td>0.207344</td>\n",
       "      <td>1352.0</td>\n",
       "      <td>1016.0</td>\n",
       "      <td>0.0</td>\n",
       "      <td>0.0</td>\n",
       "      <td>6.0</td>\n",
       "      <td>12487.0</td>\n",
       "      <td>0.0</td>\n",
       "      <td>0.0</td>\n",
       "      <td>1.25</td>\n",
       "      <td>0.75</td>\n",
       "      <td>2.0</td>\n",
       "      <td>2.0</td>\n",
       "      <td>0.0</td>\n",
       "      <td>2602.0</td>\n",
       "      <td>0.901961</td>\n",
       "      <td>0.446097</td>\n",
       "      <td>0.0</td>\n",
       "      <td>1.0</td>\n",
       "      <td>0.0</td>\n",
       "      <td>0.0</td>\n",
       "      <td>0.0</td>\n",
       "      <td>0.0</td>\n",
       "    </tr>\n",
       "    <tr>\n",
       "      <td>857410</td>\n",
       "      <td>1.0</td>\n",
       "      <td>0.011530</td>\n",
       "      <td>0.207344</td>\n",
       "      <td>1352.0</td>\n",
       "      <td>1347.0</td>\n",
       "      <td>0.0</td>\n",
       "      <td>0.0</td>\n",
       "      <td>6.0</td>\n",
       "      <td>12488.0</td>\n",
       "      <td>0.0</td>\n",
       "      <td>0.0</td>\n",
       "      <td>1.25</td>\n",
       "      <td>1.25</td>\n",
       "      <td>2.0</td>\n",
       "      <td>2.0</td>\n",
       "      <td>1.0</td>\n",
       "      <td>2602.0</td>\n",
       "      <td>0.901961</td>\n",
       "      <td>0.446097</td>\n",
       "      <td>0.0</td>\n",
       "      <td>1.0</td>\n",
       "      <td>0.0</td>\n",
       "      <td>0.0</td>\n",
       "      <td>0.0</td>\n",
       "      <td>0.0</td>\n",
       "    </tr>\n",
       "    <tr>\n",
       "      <td>857411</td>\n",
       "      <td>1.0</td>\n",
       "      <td>0.011530</td>\n",
       "      <td>0.207344</td>\n",
       "      <td>1352.0</td>\n",
       "      <td>1347.0</td>\n",
       "      <td>1.0</td>\n",
       "      <td>0.0</td>\n",
       "      <td>6.0</td>\n",
       "      <td>12480.0</td>\n",
       "      <td>0.0</td>\n",
       "      <td>0.0</td>\n",
       "      <td>0.25</td>\n",
       "      <td>0.25</td>\n",
       "      <td>2.0</td>\n",
       "      <td>2.0</td>\n",
       "      <td>1.0</td>\n",
       "      <td>2602.0</td>\n",
       "      <td>0.901961</td>\n",
       "      <td>0.446097</td>\n",
       "      <td>0.0</td>\n",
       "      <td>1.0</td>\n",
       "      <td>0.0</td>\n",
       "      <td>0.0</td>\n",
       "      <td>0.0</td>\n",
       "      <td>0.0</td>\n",
       "    </tr>\n",
       "    <tr>\n",
       "      <td>857412</td>\n",
       "      <td>1.0</td>\n",
       "      <td>0.011530</td>\n",
       "      <td>0.207344</td>\n",
       "      <td>1352.0</td>\n",
       "      <td>1347.0</td>\n",
       "      <td>1.0</td>\n",
       "      <td>0.0</td>\n",
       "      <td>6.0</td>\n",
       "      <td>12488.0</td>\n",
       "      <td>0.0</td>\n",
       "      <td>0.0</td>\n",
       "      <td>1.25</td>\n",
       "      <td>1.25</td>\n",
       "      <td>2.0</td>\n",
       "      <td>2.0</td>\n",
       "      <td>1.0</td>\n",
       "      <td>2602.0</td>\n",
       "      <td>0.901961</td>\n",
       "      <td>0.446097</td>\n",
       "      <td>0.0</td>\n",
       "      <td>1.0</td>\n",
       "      <td>0.0</td>\n",
       "      <td>0.0</td>\n",
       "      <td>0.0</td>\n",
       "      <td>0.0</td>\n",
       "    </tr>\n",
       "    <tr>\n",
       "      <td>857413</td>\n",
       "      <td>1.0</td>\n",
       "      <td>0.011530</td>\n",
       "      <td>0.207344</td>\n",
       "      <td>1352.0</td>\n",
       "      <td>1347.0</td>\n",
       "      <td>2.0</td>\n",
       "      <td>0.0</td>\n",
       "      <td>6.0</td>\n",
       "      <td>12480.0</td>\n",
       "      <td>0.0</td>\n",
       "      <td>0.0</td>\n",
       "      <td>0.25</td>\n",
       "      <td>0.25</td>\n",
       "      <td>2.0</td>\n",
       "      <td>2.0</td>\n",
       "      <td>1.0</td>\n",
       "      <td>2602.0</td>\n",
       "      <td>0.901961</td>\n",
       "      <td>0.446097</td>\n",
       "      <td>0.0</td>\n",
       "      <td>1.0</td>\n",
       "      <td>0.0</td>\n",
       "      <td>0.0</td>\n",
       "      <td>0.0</td>\n",
       "      <td>0.0</td>\n",
       "    </tr>\n",
       "    <tr>\n",
       "      <td>...</td>\n",
       "      <td>...</td>\n",
       "      <td>...</td>\n",
       "      <td>...</td>\n",
       "      <td>...</td>\n",
       "      <td>...</td>\n",
       "      <td>...</td>\n",
       "      <td>...</td>\n",
       "      <td>...</td>\n",
       "      <td>...</td>\n",
       "      <td>...</td>\n",
       "      <td>...</td>\n",
       "      <td>...</td>\n",
       "      <td>...</td>\n",
       "      <td>...</td>\n",
       "      <td>...</td>\n",
       "      <td>...</td>\n",
       "      <td>...</td>\n",
       "      <td>...</td>\n",
       "      <td>...</td>\n",
       "      <td>...</td>\n",
       "      <td>...</td>\n",
       "      <td>...</td>\n",
       "      <td>...</td>\n",
       "      <td>...</td>\n",
       "      <td>...</td>\n",
       "    </tr>\n",
       "    <tr>\n",
       "      <td>2777739</td>\n",
       "      <td>1990.0</td>\n",
       "      <td>0.718088</td>\n",
       "      <td>0.754273</td>\n",
       "      <td>1579.0</td>\n",
       "      <td>1575.0</td>\n",
       "      <td>17.0</td>\n",
       "      <td>1.0</td>\n",
       "      <td>12.0</td>\n",
       "      <td>14869.0</td>\n",
       "      <td>4.0</td>\n",
       "      <td>4.0</td>\n",
       "      <td>1.00</td>\n",
       "      <td>1.00</td>\n",
       "      <td>2.0</td>\n",
       "      <td>2.0</td>\n",
       "      <td>1.0</td>\n",
       "      <td>2585.0</td>\n",
       "      <td>0.196078</td>\n",
       "      <td>0.327138</td>\n",
       "      <td>0.0</td>\n",
       "      <td>0.0</td>\n",
       "      <td>0.0</td>\n",
       "      <td>0.0</td>\n",
       "      <td>0.0</td>\n",
       "      <td>1.0</td>\n",
       "    </tr>\n",
       "    <tr>\n",
       "      <td>2777740</td>\n",
       "      <td>1990.0</td>\n",
       "      <td>0.718088</td>\n",
       "      <td>0.754273</td>\n",
       "      <td>1579.0</td>\n",
       "      <td>1575.0</td>\n",
       "      <td>18.0</td>\n",
       "      <td>1.0</td>\n",
       "      <td>12.0</td>\n",
       "      <td>14869.0</td>\n",
       "      <td>4.0</td>\n",
       "      <td>4.0</td>\n",
       "      <td>1.00</td>\n",
       "      <td>1.00</td>\n",
       "      <td>2.0</td>\n",
       "      <td>2.0</td>\n",
       "      <td>1.0</td>\n",
       "      <td>2585.0</td>\n",
       "      <td>0.196078</td>\n",
       "      <td>0.327138</td>\n",
       "      <td>0.0</td>\n",
       "      <td>0.0</td>\n",
       "      <td>0.0</td>\n",
       "      <td>0.0</td>\n",
       "      <td>0.0</td>\n",
       "      <td>1.0</td>\n",
       "    </tr>\n",
       "    <tr>\n",
       "      <td>2777741</td>\n",
       "      <td>1990.0</td>\n",
       "      <td>0.718088</td>\n",
       "      <td>0.754273</td>\n",
       "      <td>1579.0</td>\n",
       "      <td>247.0</td>\n",
       "      <td>21.0</td>\n",
       "      <td>1.0</td>\n",
       "      <td>12.0</td>\n",
       "      <td>14856.0</td>\n",
       "      <td>4.0</td>\n",
       "      <td>0.0</td>\n",
       "      <td>1.00</td>\n",
       "      <td>1.50</td>\n",
       "      <td>2.0</td>\n",
       "      <td>2.0</td>\n",
       "      <td>0.0</td>\n",
       "      <td>2585.0</td>\n",
       "      <td>0.196078</td>\n",
       "      <td>0.327138</td>\n",
       "      <td>0.0</td>\n",
       "      <td>0.0</td>\n",
       "      <td>0.0</td>\n",
       "      <td>0.0</td>\n",
       "      <td>0.0</td>\n",
       "      <td>1.0</td>\n",
       "    </tr>\n",
       "    <tr>\n",
       "      <td>2777742</td>\n",
       "      <td>1990.0</td>\n",
       "      <td>0.718088</td>\n",
       "      <td>0.754273</td>\n",
       "      <td>1579.0</td>\n",
       "      <td>1575.0</td>\n",
       "      <td>21.0</td>\n",
       "      <td>1.0</td>\n",
       "      <td>12.0</td>\n",
       "      <td>14869.0</td>\n",
       "      <td>4.0</td>\n",
       "      <td>4.0</td>\n",
       "      <td>1.00</td>\n",
       "      <td>1.00</td>\n",
       "      <td>2.0</td>\n",
       "      <td>2.0</td>\n",
       "      <td>1.0</td>\n",
       "      <td>2585.0</td>\n",
       "      <td>0.196078</td>\n",
       "      <td>0.327138</td>\n",
       "      <td>0.0</td>\n",
       "      <td>0.0</td>\n",
       "      <td>0.0</td>\n",
       "      <td>0.0</td>\n",
       "      <td>0.0</td>\n",
       "      <td>1.0</td>\n",
       "    </tr>\n",
       "    <tr>\n",
       "      <td>2777743</td>\n",
       "      <td>1990.0</td>\n",
       "      <td>0.718088</td>\n",
       "      <td>0.754273</td>\n",
       "      <td>1579.0</td>\n",
       "      <td>1575.0</td>\n",
       "      <td>22.0</td>\n",
       "      <td>1.0</td>\n",
       "      <td>12.0</td>\n",
       "      <td>14869.0</td>\n",
       "      <td>4.0</td>\n",
       "      <td>4.0</td>\n",
       "      <td>1.00</td>\n",
       "      <td>1.00</td>\n",
       "      <td>2.0</td>\n",
       "      <td>2.0</td>\n",
       "      <td>1.0</td>\n",
       "      <td>2585.0</td>\n",
       "      <td>0.196078</td>\n",
       "      <td>0.327138</td>\n",
       "      <td>0.0</td>\n",
       "      <td>0.0</td>\n",
       "      <td>0.0</td>\n",
       "      <td>0.0</td>\n",
       "      <td>0.0</td>\n",
       "      <td>1.0</td>\n",
       "    </tr>\n",
       "  </tbody>\n",
       "</table>\n",
       "<p>1920335 rows × 25 columns</p>\n",
       "</div>"
      ],
      "text/plain": [
       "         IntersectionId  Latitude  Longitude  EntryStreetName  ExitStreetName  \\\n",
       "857409              1.0  0.011530   0.207344           1352.0          1016.0   \n",
       "857410              1.0  0.011530   0.207344           1352.0          1347.0   \n",
       "857411              1.0  0.011530   0.207344           1352.0          1347.0   \n",
       "857412              1.0  0.011530   0.207344           1352.0          1347.0   \n",
       "857413              1.0  0.011530   0.207344           1352.0          1347.0   \n",
       "...                 ...       ...        ...              ...             ...   \n",
       "2777739          1990.0  0.718088   0.754273           1579.0          1575.0   \n",
       "2777740          1990.0  0.718088   0.754273           1579.0          1575.0   \n",
       "2777741          1990.0  0.718088   0.754273           1579.0           247.0   \n",
       "2777742          1990.0  0.718088   0.754273           1579.0          1575.0   \n",
       "2777743          1990.0  0.718088   0.754273           1579.0          1575.0   \n",
       "\n",
       "         Hour  Weekend  Month     Path  EntryStreetName_number  \\\n",
       "857409    0.0      0.0    6.0  12487.0                     0.0   \n",
       "857410    0.0      0.0    6.0  12488.0                     0.0   \n",
       "857411    1.0      0.0    6.0  12480.0                     0.0   \n",
       "857412    1.0      0.0    6.0  12488.0                     0.0   \n",
       "857413    2.0      0.0    6.0  12480.0                     0.0   \n",
       "...       ...      ...    ...      ...                     ...   \n",
       "2777739  17.0      1.0   12.0  14869.0                     4.0   \n",
       "2777740  18.0      1.0   12.0  14869.0                     4.0   \n",
       "2777741  21.0      1.0   12.0  14856.0                     4.0   \n",
       "2777742  21.0      1.0   12.0  14869.0                     4.0   \n",
       "2777743  22.0      1.0   12.0  14869.0                     4.0   \n",
       "\n",
       "         ExitStreetName_number  EntryHeading_vect  ExitHeading_vect  \\\n",
       "857409                     0.0               1.25              0.75   \n",
       "857410                     0.0               1.25              1.25   \n",
       "857411                     0.0               0.25              0.25   \n",
       "857412                     0.0               1.25              1.25   \n",
       "857413                     0.0               0.25              0.25   \n",
       "...                        ...                ...               ...   \n",
       "2777739                    4.0               1.00              1.00   \n",
       "2777740                    4.0               1.00              1.00   \n",
       "2777741                    0.0               1.00              1.50   \n",
       "2777742                    4.0               1.00              1.00   \n",
       "2777743                    4.0               1.00              1.00   \n",
       "\n",
       "         EntryStreetName_road_type  ExitStreetName_road_type  \\\n",
       "857409                         2.0                       2.0   \n",
       "857410                         2.0                       2.0   \n",
       "857411                         2.0                       2.0   \n",
       "857412                         2.0                       2.0   \n",
       "857413                         2.0                       2.0   \n",
       "...                            ...                       ...   \n",
       "2777739                        2.0                       2.0   \n",
       "2777740                        2.0                       2.0   \n",
       "2777741                        2.0                       2.0   \n",
       "2777742                        2.0                       2.0   \n",
       "2777743                        2.0                       2.0   \n",
       "\n",
       "         same_entry_exit_street  Intersection  average_temp  average_rainfall  \\\n",
       "857409                      0.0        2602.0      0.901961          0.446097   \n",
       "857410                      1.0        2602.0      0.901961          0.446097   \n",
       "857411                      1.0        2602.0      0.901961          0.446097   \n",
       "857412                      1.0        2602.0      0.901961          0.446097   \n",
       "857413                      1.0        2602.0      0.901961          0.446097   \n",
       "...                         ...           ...           ...               ...   \n",
       "2777739                     1.0        2585.0      0.196078          0.327138   \n",
       "2777740                     1.0        2585.0      0.196078          0.327138   \n",
       "2777741                     0.0        2585.0      0.196078          0.327138   \n",
       "2777742                     1.0        2585.0      0.196078          0.327138   \n",
       "2777743                     1.0        2585.0      0.196078          0.327138   \n",
       "\n",
       "         is_day  City(atlanta)  City(boston)  City(chicago)  \\\n",
       "857409      0.0            1.0           0.0            0.0   \n",
       "857410      0.0            1.0           0.0            0.0   \n",
       "857411      0.0            1.0           0.0            0.0   \n",
       "857412      0.0            1.0           0.0            0.0   \n",
       "857413      0.0            1.0           0.0            0.0   \n",
       "...         ...            ...           ...            ...   \n",
       "2777739     0.0            0.0           0.0            0.0   \n",
       "2777740     0.0            0.0           0.0            0.0   \n",
       "2777741     0.0            0.0           0.0            0.0   \n",
       "2777742     0.0            0.0           0.0            0.0   \n",
       "2777743     0.0            0.0           0.0            0.0   \n",
       "\n",
       "         City(missing_value)  City(philadelphia)  \n",
       "857409                   0.0                 0.0  \n",
       "857410                   0.0                 0.0  \n",
       "857411                   0.0                 0.0  \n",
       "857412                   0.0                 0.0  \n",
       "857413                   0.0                 0.0  \n",
       "...                      ...                 ...  \n",
       "2777739                  0.0                 1.0  \n",
       "2777740                  0.0                 1.0  \n",
       "2777741                  0.0                 1.0  \n",
       "2777742                  0.0                 1.0  \n",
       "2777743                  0.0                 1.0  \n",
       "\n",
       "[1920335 rows x 25 columns]"
      ]
     },
     "execution_count": 51,
     "metadata": {},
     "output_type": "execute_result"
    }
   ],
   "source": []
  },
  {
   "cell_type": "code",
   "execution_count": 55,
   "metadata": {
    "ExecuteTime": {
     "end_time": "2019-10-04T21:12:53.534581Z",
     "start_time": "2019-10-04T21:12:53.530662Z"
    }
   },
   "outputs": [],
   "source": [
    "X_field = X.iloc[-n_field_samples:,:]\n",
    "X = X.iloc[:n_train_samples,:]"
   ]
  },
  {
   "cell_type": "code",
   "execution_count": 56,
   "metadata": {
    "ExecuteTime": {
     "end_time": "2019-10-04T21:12:56.124941Z",
     "start_time": "2019-10-04T21:12:56.120821Z"
    }
   },
   "outputs": [
    {
     "data": {
      "text/plain": [
       "(857409, 25)"
      ]
     },
     "execution_count": 56,
     "metadata": {},
     "output_type": "execute_result"
    }
   ],
   "source": [
    "X.shape"
   ]
  },
  {
   "cell_type": "code",
   "execution_count": 57,
   "metadata": {
    "ExecuteTime": {
     "end_time": "2019-10-04T21:12:59.983865Z",
     "start_time": "2019-10-04T21:12:59.979767Z"
    }
   },
   "outputs": [
    {
     "data": {
      "text/plain": [
       "(857409, 6)"
      ]
     },
     "execution_count": 57,
     "metadata": {},
     "output_type": "execute_result"
    }
   ],
   "source": [
    "y.shape"
   ]
  },
  {
   "cell_type": "code",
   "execution_count": 60,
   "metadata": {
    "ExecuteTime": {
     "end_time": "2019-10-05T14:03:32.622810Z",
     "start_time": "2019-10-05T14:02:33.488142Z"
    }
   },
   "outputs": [],
   "source": [
    "path_feat_eng_dir = os.path.join(path_report_dir, 'feat_eng')\n",
    "path_feat_eng_case_dir = os.path.join(path_feat_eng_dir,'v4.0.0')\n",
    "\n",
    "os.makedirs(path_feat_eng_case_dir)\n",
    "\n",
    "X_field.to_csv(os.path.join(path_feat_eng_case_dir,'X_field.csv'),index=False)\n",
    "X.to_csv(os.path.join(path_feat_eng_case_dir,'X.csv'),index=False)\n",
    "y.to_csv(os.path.join(path_feat_eng_case_dir,'y.csv'),index=False)"
   ]
  },
  {
   "cell_type": "markdown",
   "metadata": {},
   "source": [
    "# Model Selection"
   ]
  },
  {
   "cell_type": "code",
   "execution_count": null,
   "metadata": {
    "scrolled": false
   },
   "outputs": [],
   "source": [
    "importlib.reload(JLpyUtils.ML.model_selection.default_models_dict)\n",
    "\n",
    "n_features = X.shape[1]\n",
    "n_labels = y.shape[1]\n",
    "models=['XGBoost','Linear',  'DecisionTree', 'RandomForest']#'DenseNet''KNN',\n",
    "\n",
    "models_dict = JLpyUtils.ML.model_selection.default_models_dict.regression(n_features, n_labels, models)\n",
    "models_dict"
   ]
  },
  {
   "cell_type": "code",
   "execution_count": null,
   "metadata": {},
   "outputs": [],
   "source": [
    "importlib.reload(JLpyUtils.ML.model_selection)\n",
    "importlib.reload(JLpyUtils.ML.model_selection._search)\n",
    "importlib.reload(JLpyUtils.ML.model_selection)\n",
    "importlib.reload(JLpyUtils.ML.model_selection._search)\n",
    "\n",
    "GridSearch_dir = os.path.join(feat_eng_case_dir,'GridSearchCV(y_MinMax_log1p_Scaled)')\n",
    "\n",
    "metrics = {'r2_score': sklearn.metrics.r2_score}\n",
    "GridSearchCV = JLpyUtils.ML.model_selection.GridSearchCV(models_dict,\n",
    "                                                         cv=4, \n",
    "                                                         scoring={'metric': None, \n",
    "                                                                  'maximize': True}, \n",
    "                                                         metrics=metrics, \n",
    "                                                         retrain=False, \n",
    "                                                         path_root_dir=GridSearch_dir, \n",
    "                                                         n_jobs=-1, \n",
    "                                                         verbose=2)"
   ]
  },
  {
   "cell_type": "code",
   "execution_count": null,
   "metadata": {
    "scrolled": false
   },
   "outputs": [],
   "source": [
    "GridSearchCV.fit(X_train, y_train, X_test, y_test)"
   ]
  },
  {
   "cell_type": "markdown",
   "metadata": {},
   "source": [
    "https://ml.dask.org/examples/xgboost.html"
   ]
  },
  {
   "cell_type": "code",
   "execution_count": null,
   "metadata": {},
   "outputs": [],
   "source": [
    "importlib.reload(JLpyUtils.ML.inspection.compare)\n",
    "\n",
    "metrics = {'r2_score': sklearn.metrics.r2_score,\n",
    "           'mse':sklearn.metrics.mean_squared_error,\n",
    "           'mae':sklearn.metrics.mean_absolute_error}\n",
    "\n",
    "_, df_metrics = JLpyUtils.ML.inspection.compare.model_metrics(GridSearchCV.models_dict, metrics, X_test, y_test)"
   ]
  },
  {
   "cell_type": "markdown",
   "metadata": {},
   "source": [
    "# Fetch BoB model"
   ]
  },
  {
   "cell_type": "code",
   "execution_count": null,
   "metadata": {},
   "outputs": [],
   "source": [
    "BoB_model_ID = df_metrics['model'].iloc[-1]\n",
    "BoB_model_ID"
   ]
  },
  {
   "cell_type": "code",
   "execution_count": null,
   "metadata": {},
   "outputs": [],
   "source": [
    "BoB_model = GridSearchCV.models_dict[best_model_ID]['best_model']\n",
    "BoB_model"
   ]
  },
  {
   "cell_type": "markdown",
   "metadata": {},
   "source": [
    "# Evaluate on Field Data"
   ]
  },
  {
   "cell_type": "code",
   "execution_count": null,
   "metadata": {
    "scrolled": true
   },
   "outputs": [],
   "source": [
    "y_field = BoB_model.predict(X_field)\n",
    "y_field = pd.DataFrame(Scaler_y.inverse_transform(y_field), columns = list(y.columns))\n",
    "\n",
    "#ensure no values outside physical limits\n",
    "for header in y_field.columns:\n",
    "    y_field[y_field[header]<0] = 0\n",
    "\n",
    "y_field.head()"
   ]
  },
  {
   "cell_type": "code",
   "execution_count": null,
   "metadata": {},
   "outputs": [],
   "source": [
    "def reformat_field_preds_for_submission(y_field):\n",
    "    submission_metric_map = JLpyUtils.file_utils.load('submission_metric_map','json',\n",
    "                                                      path_competition_data)\n",
    "    \n",
    "    # ensure consistant ordering of columns\n",
    "    y_field = y_field[[submission_metric_map[key] for key in submission_metric_map.keys()]]\n",
    "    y_field = np.array(y_field)\n",
    "    \n",
    "    n_rows = y_field.shape[0]*y_field.shape[1]\n",
    "    \n",
    "    y_field_formatted = {'TargetID':['empty' for val in range(n_rows)],\n",
    "                         'Target': [0 for val in range(n_rows)] \n",
    "                        }\n",
    "    \n",
    "    \n",
    "    r = 0\n",
    "    for i in range(y_field.shape[0]):\n",
    "        for j in range(y_field.shape[1]):\n",
    "            y_field_formatted['TargetID'][r] = str(i)+'_'+str(j)\n",
    "            y_field_formatted['Target'][r] = y_field[i,j]\n",
    "            r+=1\n",
    "    \n",
    "    y_field_formatted = pd.DataFrame.from_dict(y_field_formatted)\n",
    "    \n",
    "    return y_field_formatted\n",
    "                      \n",
    "y_field_formatted = reformat_field_preds_for_submission(y_field)\n",
    "y_field_formatted.head()"
   ]
  },
  {
   "cell_type": "code",
   "execution_count": null,
   "metadata": {},
   "outputs": [],
   "source": [
    "y_field_formatted.tail()"
   ]
  },
  {
   "cell_type": "code",
   "execution_count": null,
   "metadata": {},
   "outputs": [],
   "source": [
    "y_field_formatted.to_csv(os.path.join(GridSearch_dir, 'y_field_formatted.csv'),\n",
    "                         index=False)"
   ]
  },
  {
   "cell_type": "code",
   "execution_count": null,
   "metadata": {},
   "outputs": [],
   "source": [
    "GridSearch_dir"
   ]
  },
  {
   "cell_type": "code",
   "execution_count": null,
   "metadata": {},
   "outputs": [],
   "source": []
  }
 ],
 "metadata": {
  "kernelspec": {
   "display_name": "Python 3",
   "language": "python",
   "name": "python3"
  },
  "language_info": {
   "codemirror_mode": {
    "name": "ipython",
    "version": 3
   },
   "file_extension": ".py",
   "mimetype": "text/x-python",
   "name": "python",
   "nbconvert_exporter": "python",
   "pygments_lexer": "ipython3",
   "version": "3.6.8"
  },
  "toc": {
   "base_numbering": 1,
   "nav_menu": {},
   "number_sections": true,
   "sideBar": true,
   "skip_h1_title": false,
   "title_cell": "Table of Contents",
   "title_sidebar": "Contents",
   "toc_cell": false,
   "toc_position": {},
   "toc_section_display": true,
   "toc_window_display": false
  },
  "varInspector": {
   "cols": {
    "lenName": 16,
    "lenType": 16,
    "lenVar": 40
   },
   "kernels_config": {
    "python": {
     "delete_cmd_postfix": "",
     "delete_cmd_prefix": "del ",
     "library": "var_list.py",
     "varRefreshCmd": "print(var_dic_list())"
    },
    "r": {
     "delete_cmd_postfix": ") ",
     "delete_cmd_prefix": "rm(",
     "library": "var_list.r",
     "varRefreshCmd": "cat(var_dic_list()) "
    }
   },
   "types_to_exclude": [
    "module",
    "function",
    "builtin_function_or_method",
    "instance",
    "_Feature"
   ],
   "window_display": false
  }
 },
 "nbformat": 4,
 "nbformat_minor": 2
}
