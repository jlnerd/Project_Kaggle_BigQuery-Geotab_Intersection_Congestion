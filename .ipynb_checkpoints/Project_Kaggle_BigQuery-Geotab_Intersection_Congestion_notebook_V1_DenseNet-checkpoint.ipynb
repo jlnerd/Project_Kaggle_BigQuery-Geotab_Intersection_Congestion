{
 "cells": [
  {
   "cell_type": "markdown",
   "metadata": {},
   "source": [
    "# Install Libs"
   ]
  },
  {
   "cell_type": "code",
   "execution_count": 3,
   "metadata": {},
   "outputs": [],
   "source": [
    "!pip install --upgrade JLpyUtils \n",
    "!pip install tensorflow==1.14.0\n",
    "!pip install tensorflow-gpu==1.14.0\n",
    "\n",
    "import IPython.display\n",
    "IPython.display.clear_output()"
   ]
  },
  {
   "cell_type": "markdown",
   "metadata": {},
   "source": [
    "# Import Libs"
   ]
  },
  {
   "cell_type": "code",
   "execution_count": 1,
   "metadata": {},
   "outputs": [],
   "source": [
    "import numpy as np\n",
    "import pandas as pd\n",
    "import sys, os, importlib, gc\n",
    "import matplotlib as mpl\n",
    "import matplotlib.pyplot as plt\n",
    "import warnings\n",
    "\n",
    "import dask, dask.dataframe"
   ]
  },
  {
   "cell_type": "code",
   "execution_count": 2,
   "metadata": {},
   "outputs": [],
   "source": [
    "pd.options.display.max_columns = 1000\n",
    "mpl.rcParams['font.size']=14"
   ]
  },
  {
   "cell_type": "code",
   "execution_count": 3,
   "metadata": {},
   "outputs": [],
   "source": [
    "dev = True"
   ]
  },
  {
   "cell_type": "code",
   "execution_count": 4,
   "metadata": {},
   "outputs": [
    {
     "name": "stdout",
     "output_type": "stream",
     "text": [
      "Running in dev mode. Using local copy of JLpyUtils\n"
     ]
    },
    {
     "data": {
      "text/plain": [
       "'0.2.12'"
      ]
     },
     "execution_count": 4,
     "metadata": {},
     "output_type": "execute_result"
    }
   ],
   "source": [
    "path_desktop = os.path.abspath('..')\n",
    "if dev:\n",
    "    print('Running in dev mode. Using local copy of JLpyUtils')\n",
    "    path_dev_repo = os.path.join(path_desktop,'JLpyUtils')\n",
    "    sys.path.insert(0, path_dev_repo)\n",
    "\n",
    "import JLpyUtils\n",
    "JLpyUtils.__version__"
   ]
  },
  {
   "cell_type": "markdown",
   "metadata": {},
   "source": [
    "# Build Report Dir"
   ]
  },
  {
   "cell_type": "code",
   "execution_count": 5,
   "metadata": {},
   "outputs": [
    {
     "name": "stdout",
     "output_type": "stream",
     "text": [
      "path_report_dir:\n",
      " /mr3_boltprod_john_t_leonard/Data_Science_Projects./outputs/Project_Kaggle_BigQuery-Geotab_Intersection_Congestion\n"
     ]
    }
   ],
   "source": [
    "path_report_dir = os.path.join(path_desktop,'outputs','Project_Kaggle_BigQuery-Geotab_Intersection_Congestion')\n",
    "\n",
    "if os.path.isdir(path_report_dir)==False:\n",
    "    os.makedirs(path_report_dir)\n",
    "    \n",
    "print('path_report_dir:\\n',path_report_dir)"
   ]
  },
  {
   "cell_type": "markdown",
   "metadata": {},
   "source": [
    "# Download Data"
   ]
  },
  {
   "cell_type": "code",
   "execution_count": 6,
   "metadata": {
    "scrolled": true
   },
   "outputs": [
    {
     "data": {
      "text/plain": [
       "['BigQuery-Dataset-Access.md',\n",
       " 'test.csv',\n",
       " 'sample_submission.csv',\n",
       " 'submission_metric_map.json',\n",
       " 'train.csv']"
      ]
     },
     "execution_count": 6,
     "metadata": {},
     "output_type": "execute_result"
    }
   ],
   "source": [
    "importlib.reload(JLpyUtils.kaggle)\n",
    "\n",
    "competition = 'bigquery-geotab-intersection-congestion'\n",
    "\n",
    "#JLpyUtils.kaggle.setup_config_dir(username='jtleona01', key = 'foo')\n",
    "# JLpyUtils.kaggle.competition_download_files(competition,\n",
    "#                                             path_report_dir=path_report_dir)\n",
    "path_competition_data = os.path.join(path_report_dir,competition)\n",
    "os.listdir(path_competition_data)"
   ]
  },
  {
   "cell_type": "markdown",
   "metadata": {},
   "source": [
    "# Load Data"
   ]
  },
  {
   "cell_type": "code",
   "execution_count": 7,
   "metadata": {},
   "outputs": [],
   "source": [
    "df_train = dask.dataframe.read_csv(os.path.join(path_competition_data,'train.csv'))\n",
    "df_train = df_train.set_index('RowId')\n",
    "\n",
    "df_field = dask.dataframe.read_csv(os.path.join(path_competition_data,'test.csv'))\n",
    "df_field = df_field.set_index('RowId')"
   ]
  },
  {
   "cell_type": "code",
   "execution_count": 8,
   "metadata": {},
   "outputs": [
    {
     "data": {
      "text/html": [
       "<div>\n",
       "<style scoped>\n",
       "    .dataframe tbody tr th:only-of-type {\n",
       "        vertical-align: middle;\n",
       "    }\n",
       "\n",
       "    .dataframe tbody tr th {\n",
       "        vertical-align: top;\n",
       "    }\n",
       "\n",
       "    .dataframe thead th {\n",
       "        text-align: right;\n",
       "    }\n",
       "</style>\n",
       "<table border=\"1\" class=\"dataframe\">\n",
       "  <thead>\n",
       "    <tr style=\"text-align: right;\">\n",
       "      <th></th>\n",
       "      <th>IntersectionId</th>\n",
       "      <th>Latitude</th>\n",
       "      <th>Longitude</th>\n",
       "      <th>EntryStreetName</th>\n",
       "      <th>ExitStreetName</th>\n",
       "      <th>EntryHeading</th>\n",
       "      <th>ExitHeading</th>\n",
       "      <th>Hour</th>\n",
       "      <th>Weekend</th>\n",
       "      <th>Month</th>\n",
       "      <th>Path</th>\n",
       "      <th>TotalTimeStopped_p20</th>\n",
       "      <th>TotalTimeStopped_p40</th>\n",
       "      <th>TotalTimeStopped_p50</th>\n",
       "      <th>TotalTimeStopped_p60</th>\n",
       "      <th>TotalTimeStopped_p80</th>\n",
       "      <th>TimeFromFirstStop_p20</th>\n",
       "      <th>TimeFromFirstStop_p40</th>\n",
       "      <th>TimeFromFirstStop_p50</th>\n",
       "      <th>TimeFromFirstStop_p60</th>\n",
       "      <th>TimeFromFirstStop_p80</th>\n",
       "      <th>DistanceToFirstStop_p20</th>\n",
       "      <th>DistanceToFirstStop_p40</th>\n",
       "      <th>DistanceToFirstStop_p50</th>\n",
       "      <th>DistanceToFirstStop_p60</th>\n",
       "      <th>DistanceToFirstStop_p80</th>\n",
       "      <th>City</th>\n",
       "    </tr>\n",
       "    <tr>\n",
       "      <th>RowId</th>\n",
       "      <th></th>\n",
       "      <th></th>\n",
       "      <th></th>\n",
       "      <th></th>\n",
       "      <th></th>\n",
       "      <th></th>\n",
       "      <th></th>\n",
       "      <th></th>\n",
       "      <th></th>\n",
       "      <th></th>\n",
       "      <th></th>\n",
       "      <th></th>\n",
       "      <th></th>\n",
       "      <th></th>\n",
       "      <th></th>\n",
       "      <th></th>\n",
       "      <th></th>\n",
       "      <th></th>\n",
       "      <th></th>\n",
       "      <th></th>\n",
       "      <th></th>\n",
       "      <th></th>\n",
       "      <th></th>\n",
       "      <th></th>\n",
       "      <th></th>\n",
       "      <th></th>\n",
       "      <th></th>\n",
       "    </tr>\n",
       "  </thead>\n",
       "  <tbody>\n",
       "    <tr>\n",
       "      <th>1920335</th>\n",
       "      <td>0</td>\n",
       "      <td>33.79166</td>\n",
       "      <td>-84.43003</td>\n",
       "      <td>Marietta Boulevard Northwest</td>\n",
       "      <td>Marietta Boulevard Northwest</td>\n",
       "      <td>NW</td>\n",
       "      <td>NW</td>\n",
       "      <td>0</td>\n",
       "      <td>0</td>\n",
       "      <td>6</td>\n",
       "      <td>Marietta Boulevard Northwest_NW_Marietta Boule...</td>\n",
       "      <td>0</td>\n",
       "      <td>0</td>\n",
       "      <td>0</td>\n",
       "      <td>0</td>\n",
       "      <td>0</td>\n",
       "      <td>0</td>\n",
       "      <td>0</td>\n",
       "      <td>0</td>\n",
       "      <td>0</td>\n",
       "      <td>0</td>\n",
       "      <td>0.0</td>\n",
       "      <td>0.0</td>\n",
       "      <td>0.0</td>\n",
       "      <td>0.0</td>\n",
       "      <td>0.0</td>\n",
       "      <td>Atlanta</td>\n",
       "    </tr>\n",
       "    <tr>\n",
       "      <th>1920336</th>\n",
       "      <td>0</td>\n",
       "      <td>33.79166</td>\n",
       "      <td>-84.43003</td>\n",
       "      <td>Marietta Boulevard Northwest</td>\n",
       "      <td>Marietta Boulevard Northwest</td>\n",
       "      <td>SE</td>\n",
       "      <td>SE</td>\n",
       "      <td>0</td>\n",
       "      <td>0</td>\n",
       "      <td>6</td>\n",
       "      <td>Marietta Boulevard Northwest_SE_Marietta Boule...</td>\n",
       "      <td>0</td>\n",
       "      <td>0</td>\n",
       "      <td>0</td>\n",
       "      <td>0</td>\n",
       "      <td>0</td>\n",
       "      <td>0</td>\n",
       "      <td>0</td>\n",
       "      <td>0</td>\n",
       "      <td>0</td>\n",
       "      <td>0</td>\n",
       "      <td>0.0</td>\n",
       "      <td>0.0</td>\n",
       "      <td>0.0</td>\n",
       "      <td>0.0</td>\n",
       "      <td>0.0</td>\n",
       "      <td>Atlanta</td>\n",
       "    </tr>\n",
       "    <tr>\n",
       "      <th>1920337</th>\n",
       "      <td>0</td>\n",
       "      <td>33.79166</td>\n",
       "      <td>-84.43003</td>\n",
       "      <td>Marietta Boulevard Northwest</td>\n",
       "      <td>Marietta Boulevard Northwest</td>\n",
       "      <td>NW</td>\n",
       "      <td>NW</td>\n",
       "      <td>1</td>\n",
       "      <td>0</td>\n",
       "      <td>6</td>\n",
       "      <td>Marietta Boulevard Northwest_NW_Marietta Boule...</td>\n",
       "      <td>0</td>\n",
       "      <td>0</td>\n",
       "      <td>0</td>\n",
       "      <td>0</td>\n",
       "      <td>0</td>\n",
       "      <td>0</td>\n",
       "      <td>0</td>\n",
       "      <td>0</td>\n",
       "      <td>0</td>\n",
       "      <td>0</td>\n",
       "      <td>0.0</td>\n",
       "      <td>0.0</td>\n",
       "      <td>0.0</td>\n",
       "      <td>0.0</td>\n",
       "      <td>0.0</td>\n",
       "      <td>Atlanta</td>\n",
       "    </tr>\n",
       "    <tr>\n",
       "      <th>1920338</th>\n",
       "      <td>0</td>\n",
       "      <td>33.79166</td>\n",
       "      <td>-84.43003</td>\n",
       "      <td>Marietta Boulevard Northwest</td>\n",
       "      <td>Marietta Boulevard Northwest</td>\n",
       "      <td>SE</td>\n",
       "      <td>SE</td>\n",
       "      <td>1</td>\n",
       "      <td>0</td>\n",
       "      <td>6</td>\n",
       "      <td>Marietta Boulevard Northwest_SE_Marietta Boule...</td>\n",
       "      <td>0</td>\n",
       "      <td>0</td>\n",
       "      <td>0</td>\n",
       "      <td>0</td>\n",
       "      <td>0</td>\n",
       "      <td>0</td>\n",
       "      <td>0</td>\n",
       "      <td>0</td>\n",
       "      <td>0</td>\n",
       "      <td>0</td>\n",
       "      <td>0.0</td>\n",
       "      <td>0.0</td>\n",
       "      <td>0.0</td>\n",
       "      <td>0.0</td>\n",
       "      <td>0.0</td>\n",
       "      <td>Atlanta</td>\n",
       "    </tr>\n",
       "    <tr>\n",
       "      <th>1920339</th>\n",
       "      <td>0</td>\n",
       "      <td>33.79166</td>\n",
       "      <td>-84.43003</td>\n",
       "      <td>Marietta Boulevard Northwest</td>\n",
       "      <td>Marietta Boulevard Northwest</td>\n",
       "      <td>NW</td>\n",
       "      <td>NW</td>\n",
       "      <td>2</td>\n",
       "      <td>0</td>\n",
       "      <td>6</td>\n",
       "      <td>Marietta Boulevard Northwest_NW_Marietta Boule...</td>\n",
       "      <td>0</td>\n",
       "      <td>0</td>\n",
       "      <td>0</td>\n",
       "      <td>0</td>\n",
       "      <td>0</td>\n",
       "      <td>0</td>\n",
       "      <td>0</td>\n",
       "      <td>0</td>\n",
       "      <td>0</td>\n",
       "      <td>0</td>\n",
       "      <td>0.0</td>\n",
       "      <td>0.0</td>\n",
       "      <td>0.0</td>\n",
       "      <td>0.0</td>\n",
       "      <td>0.0</td>\n",
       "      <td>Atlanta</td>\n",
       "    </tr>\n",
       "  </tbody>\n",
       "</table>\n",
       "</div>"
      ],
      "text/plain": [
       "         IntersectionId  Latitude  Longitude               EntryStreetName  \\\n",
       "RowId                                                                        \n",
       "1920335               0  33.79166  -84.43003  Marietta Boulevard Northwest   \n",
       "1920336               0  33.79166  -84.43003  Marietta Boulevard Northwest   \n",
       "1920337               0  33.79166  -84.43003  Marietta Boulevard Northwest   \n",
       "1920338               0  33.79166  -84.43003  Marietta Boulevard Northwest   \n",
       "1920339               0  33.79166  -84.43003  Marietta Boulevard Northwest   \n",
       "\n",
       "                       ExitStreetName EntryHeading ExitHeading  Hour  Weekend  \\\n",
       "RowId                                                                           \n",
       "1920335  Marietta Boulevard Northwest           NW          NW     0        0   \n",
       "1920336  Marietta Boulevard Northwest           SE          SE     0        0   \n",
       "1920337  Marietta Boulevard Northwest           NW          NW     1        0   \n",
       "1920338  Marietta Boulevard Northwest           SE          SE     1        0   \n",
       "1920339  Marietta Boulevard Northwest           NW          NW     2        0   \n",
       "\n",
       "         Month                                               Path  \\\n",
       "RowId                                                               \n",
       "1920335      6  Marietta Boulevard Northwest_NW_Marietta Boule...   \n",
       "1920336      6  Marietta Boulevard Northwest_SE_Marietta Boule...   \n",
       "1920337      6  Marietta Boulevard Northwest_NW_Marietta Boule...   \n",
       "1920338      6  Marietta Boulevard Northwest_SE_Marietta Boule...   \n",
       "1920339      6  Marietta Boulevard Northwest_NW_Marietta Boule...   \n",
       "\n",
       "         TotalTimeStopped_p20  TotalTimeStopped_p40  TotalTimeStopped_p50  \\\n",
       "RowId                                                                       \n",
       "1920335                     0                     0                     0   \n",
       "1920336                     0                     0                     0   \n",
       "1920337                     0                     0                     0   \n",
       "1920338                     0                     0                     0   \n",
       "1920339                     0                     0                     0   \n",
       "\n",
       "         TotalTimeStopped_p60  TotalTimeStopped_p80  TimeFromFirstStop_p20  \\\n",
       "RowId                                                                        \n",
       "1920335                     0                     0                      0   \n",
       "1920336                     0                     0                      0   \n",
       "1920337                     0                     0                      0   \n",
       "1920338                     0                     0                      0   \n",
       "1920339                     0                     0                      0   \n",
       "\n",
       "         TimeFromFirstStop_p40  TimeFromFirstStop_p50  TimeFromFirstStop_p60  \\\n",
       "RowId                                                                          \n",
       "1920335                      0                      0                      0   \n",
       "1920336                      0                      0                      0   \n",
       "1920337                      0                      0                      0   \n",
       "1920338                      0                      0                      0   \n",
       "1920339                      0                      0                      0   \n",
       "\n",
       "         TimeFromFirstStop_p80  DistanceToFirstStop_p20  \\\n",
       "RowId                                                     \n",
       "1920335                      0                      0.0   \n",
       "1920336                      0                      0.0   \n",
       "1920337                      0                      0.0   \n",
       "1920338                      0                      0.0   \n",
       "1920339                      0                      0.0   \n",
       "\n",
       "         DistanceToFirstStop_p40  DistanceToFirstStop_p50  \\\n",
       "RowId                                                       \n",
       "1920335                      0.0                      0.0   \n",
       "1920336                      0.0                      0.0   \n",
       "1920337                      0.0                      0.0   \n",
       "1920338                      0.0                      0.0   \n",
       "1920339                      0.0                      0.0   \n",
       "\n",
       "         DistanceToFirstStop_p60  DistanceToFirstStop_p80     City  \n",
       "RowId                                                               \n",
       "1920335                      0.0                      0.0  Atlanta  \n",
       "1920336                      0.0                      0.0  Atlanta  \n",
       "1920337                      0.0                      0.0  Atlanta  \n",
       "1920338                      0.0                      0.0  Atlanta  \n",
       "1920339                      0.0                      0.0  Atlanta  "
      ]
     },
     "execution_count": 8,
     "metadata": {},
     "output_type": "execute_result"
    }
   ],
   "source": [
    "df_train.head()"
   ]
  },
  {
   "cell_type": "code",
   "execution_count": 9,
   "metadata": {},
   "outputs": [
    {
     "data": {
      "text/html": [
       "<div>\n",
       "<style scoped>\n",
       "    .dataframe tbody tr th:only-of-type {\n",
       "        vertical-align: middle;\n",
       "    }\n",
       "\n",
       "    .dataframe tbody tr th {\n",
       "        vertical-align: top;\n",
       "    }\n",
       "\n",
       "    .dataframe thead th {\n",
       "        text-align: right;\n",
       "    }\n",
       "</style>\n",
       "<table border=\"1\" class=\"dataframe\">\n",
       "  <thead>\n",
       "    <tr style=\"text-align: right;\">\n",
       "      <th></th>\n",
       "      <th>IntersectionId</th>\n",
       "      <th>Latitude</th>\n",
       "      <th>Longitude</th>\n",
       "      <th>EntryStreetName</th>\n",
       "      <th>ExitStreetName</th>\n",
       "      <th>EntryHeading</th>\n",
       "      <th>ExitHeading</th>\n",
       "      <th>Hour</th>\n",
       "      <th>Weekend</th>\n",
       "      <th>Month</th>\n",
       "      <th>Path</th>\n",
       "      <th>City</th>\n",
       "    </tr>\n",
       "    <tr>\n",
       "      <th>RowId</th>\n",
       "      <th></th>\n",
       "      <th></th>\n",
       "      <th></th>\n",
       "      <th></th>\n",
       "      <th></th>\n",
       "      <th></th>\n",
       "      <th></th>\n",
       "      <th></th>\n",
       "      <th></th>\n",
       "      <th></th>\n",
       "      <th></th>\n",
       "      <th></th>\n",
       "    </tr>\n",
       "  </thead>\n",
       "  <tbody>\n",
       "    <tr>\n",
       "      <th>0</th>\n",
       "      <td>1</td>\n",
       "      <td>33.75094</td>\n",
       "      <td>-84.39303</td>\n",
       "      <td>Peachtree Street Southwest</td>\n",
       "      <td>Mitchell Street Southwest</td>\n",
       "      <td>SW</td>\n",
       "      <td>SE</td>\n",
       "      <td>0</td>\n",
       "      <td>0</td>\n",
       "      <td>6</td>\n",
       "      <td>Peachtree Street Southwest_SW_Mitchell Street ...</td>\n",
       "      <td>Atlanta</td>\n",
       "    </tr>\n",
       "    <tr>\n",
       "      <th>1</th>\n",
       "      <td>1</td>\n",
       "      <td>33.75094</td>\n",
       "      <td>-84.39303</td>\n",
       "      <td>Peachtree Street Southwest</td>\n",
       "      <td>Peachtree Street Southwest</td>\n",
       "      <td>SW</td>\n",
       "      <td>SW</td>\n",
       "      <td>0</td>\n",
       "      <td>0</td>\n",
       "      <td>6</td>\n",
       "      <td>Peachtree Street Southwest_SW_Peachtree Street...</td>\n",
       "      <td>Atlanta</td>\n",
       "    </tr>\n",
       "    <tr>\n",
       "      <th>2</th>\n",
       "      <td>1</td>\n",
       "      <td>33.75094</td>\n",
       "      <td>-84.39303</td>\n",
       "      <td>Peachtree Street Southwest</td>\n",
       "      <td>Peachtree Street Southwest</td>\n",
       "      <td>NE</td>\n",
       "      <td>NE</td>\n",
       "      <td>1</td>\n",
       "      <td>0</td>\n",
       "      <td>6</td>\n",
       "      <td>Peachtree Street Southwest_NE_Peachtree Street...</td>\n",
       "      <td>Atlanta</td>\n",
       "    </tr>\n",
       "    <tr>\n",
       "      <th>3</th>\n",
       "      <td>1</td>\n",
       "      <td>33.75094</td>\n",
       "      <td>-84.39303</td>\n",
       "      <td>Peachtree Street Southwest</td>\n",
       "      <td>Peachtree Street Southwest</td>\n",
       "      <td>SW</td>\n",
       "      <td>SW</td>\n",
       "      <td>1</td>\n",
       "      <td>0</td>\n",
       "      <td>6</td>\n",
       "      <td>Peachtree Street Southwest_SW_Peachtree Street...</td>\n",
       "      <td>Atlanta</td>\n",
       "    </tr>\n",
       "    <tr>\n",
       "      <th>4</th>\n",
       "      <td>1</td>\n",
       "      <td>33.75094</td>\n",
       "      <td>-84.39303</td>\n",
       "      <td>Peachtree Street Southwest</td>\n",
       "      <td>Peachtree Street Southwest</td>\n",
       "      <td>NE</td>\n",
       "      <td>NE</td>\n",
       "      <td>2</td>\n",
       "      <td>0</td>\n",
       "      <td>6</td>\n",
       "      <td>Peachtree Street Southwest_NE_Peachtree Street...</td>\n",
       "      <td>Atlanta</td>\n",
       "    </tr>\n",
       "  </tbody>\n",
       "</table>\n",
       "</div>"
      ],
      "text/plain": [
       "       IntersectionId  Latitude  Longitude             EntryStreetName  \\\n",
       "RowId                                                                    \n",
       "0                   1  33.75094  -84.39303  Peachtree Street Southwest   \n",
       "1                   1  33.75094  -84.39303  Peachtree Street Southwest   \n",
       "2                   1  33.75094  -84.39303  Peachtree Street Southwest   \n",
       "3                   1  33.75094  -84.39303  Peachtree Street Southwest   \n",
       "4                   1  33.75094  -84.39303  Peachtree Street Southwest   \n",
       "\n",
       "                   ExitStreetName EntryHeading ExitHeading  Hour  Weekend  \\\n",
       "RowId                                                                       \n",
       "0       Mitchell Street Southwest           SW          SE     0        0   \n",
       "1      Peachtree Street Southwest           SW          SW     0        0   \n",
       "2      Peachtree Street Southwest           NE          NE     1        0   \n",
       "3      Peachtree Street Southwest           SW          SW     1        0   \n",
       "4      Peachtree Street Southwest           NE          NE     2        0   \n",
       "\n",
       "       Month                                               Path     City  \n",
       "RowId                                                                     \n",
       "0          6  Peachtree Street Southwest_SW_Mitchell Street ...  Atlanta  \n",
       "1          6  Peachtree Street Southwest_SW_Peachtree Street...  Atlanta  \n",
       "2          6  Peachtree Street Southwest_NE_Peachtree Street...  Atlanta  \n",
       "3          6  Peachtree Street Southwest_SW_Peachtree Street...  Atlanta  \n",
       "4          6  Peachtree Street Southwest_NE_Peachtree Street...  Atlanta  "
      ]
     },
     "execution_count": 9,
     "metadata": {},
     "output_type": "execute_result"
    }
   ],
   "source": [
    "df_field.head()"
   ]
  },
  {
   "cell_type": "markdown",
   "metadata": {},
   "source": [
    "# Define Headers Dictionary"
   ]
  },
  {
   "cell_type": "code",
   "execution_count": 10,
   "metadata": {},
   "outputs": [
    {
     "name": "stdout",
     "output_type": "stream",
     "text": [
      "features:\n",
      " IntersectionId\n",
      " Latitude\n",
      " Longitude\n",
      " EntryStreetName\n",
      " ExitStreetName\n",
      " EntryHeading\n",
      " ExitHeading\n",
      " Hour\n",
      " Weekend\n",
      " Month\n",
      " Path\n",
      " City\n",
      "\n",
      "labels:\n",
      " TotalTimeStopped_p20\n",
      " TotalTimeStopped_p50\n",
      " TotalTimeStopped_p80\n",
      " DistanceToFirstStop_p20\n",
      " DistanceToFirstStop_p50\n",
      " DistanceToFirstStop_p80\n"
     ]
    }
   ],
   "source": [
    "headers_dict = {}\n",
    "headers_dict['features'] = list(df_field.columns)\n",
    "headers_dict['labels'] = [header for header in df_train.columns if ('TotalTime' in header or 'DistanceTo' in header) and ('p20' in header or 'p50' in header or 'p80' in header)]\n",
    "\n",
    "print('features:\\n','\\n '.join(headers_dict['features']))\n",
    "print('\\nlabels:\\n','\\n '.join(headers_dict['labels']))"
   ]
  },
  {
   "cell_type": "markdown",
   "metadata": {},
   "source": [
    "## Define X, y"
   ]
  },
  {
   "cell_type": "code",
   "execution_count": 11,
   "metadata": {},
   "outputs": [
    {
     "name": "stdout",
     "output_type": "stream",
     "text": [
      "------ n_uniques ------\n",
      "IntersectionId : 2539\n",
      "Latitude : 4505\n",
      "Longitude : 4541\n",
      "EntryStreetName : 1708\n",
      "ExitStreetName : 1694\n",
      "EntryHeading : 8\n",
      "\t ['E' 'N' 'NE' 'NW' 'S' 'SE' 'SW' 'W']\n",
      "ExitHeading : 8\n",
      "\t ['E' 'N' 'NE' 'NW' 'S' 'SE' 'SW' 'W']\n",
      "Hour : 24\n",
      "Weekend : 2\n",
      "\t [0 1]\n",
      "Month : 9\n",
      "\t [ 1  5  6  7  8  9 10 11 12]\n",
      "Path : 15111\n",
      "City : 4\n",
      "\t ['Atlanta' 'Boston' 'Chicago' 'Philadelphia']\n"
     ]
    }
   ],
   "source": [
    "n_uniques={}\n",
    "print('------ n_uniques ------')\n",
    "for feat in headers_dict['features']:\n",
    "    uniques = df_train[feat].compute().sort_values().unique()\n",
    "    n_uniques[feat] = len(uniques)\n",
    "    print(feat,':', n_uniques[feat])\n",
    "    if n_uniques[feat]<20:\n",
    "        print('\\t',uniques)"
   ]
  },
  {
   "cell_type": "code",
   "execution_count": 12,
   "metadata": {},
   "outputs": [
    {
     "data": {
      "text/plain": [
       "['EntryHeading',\n",
       " 'ExitHeading',\n",
       " 'Weekend',\n",
       " 'Month',\n",
       " 'City',\n",
       " 'EntryStreetName',\n",
       " 'ExitStreetName',\n",
       " 'IntersectionId',\n",
       " 'Path']"
      ]
     },
     "execution_count": 12,
     "metadata": {},
     "output_type": "execute_result"
    }
   ],
   "source": [
    "headers_dict['categorical features'] = [key for key in n_uniques.keys() if n_uniques[key]<20 ]\n",
    "headers_dict['categorical features'] = headers_dict['categorical features'] + ['EntryStreetName','ExitStreetName','IntersectionId', 'Path']\n",
    "headers_dict['categorical features']"
   ]
  },
  {
   "cell_type": "code",
   "execution_count": 13,
   "metadata": {},
   "outputs": [
    {
     "data": {
      "text/plain": [
       "['Latitude', 'Longitude', 'Hour']"
      ]
     },
     "execution_count": 13,
     "metadata": {},
     "output_type": "execute_result"
    }
   ],
   "source": [
    "headers_dict['continuous features']= [feat for feat in headers_dict['features'] if feat not in headers_dict['categorical features']]\n",
    "headers_dict['continuous features']"
   ]
  },
  {
   "cell_type": "markdown",
   "metadata": {},
   "source": [
    "# Define X and Y"
   ]
  },
  {
   "cell_type": "code",
   "execution_count": 14,
   "metadata": {},
   "outputs": [],
   "source": [
    "X = df_train[headers_dict['features']]\n",
    "y = df_train[headers_dict['labels']]"
   ]
  },
  {
   "cell_type": "markdown",
   "metadata": {},
   "source": [
    "# EDA"
   ]
  },
  {
   "cell_type": "code",
   "execution_count": 17,
   "metadata": {
    "scrolled": false
   },
   "outputs": [
    {
     "data": {
      "image/png": "[encoded data removed]",
      "text/plain": [
       "<Figure size 432x288 with 3 Axes>"
      ]
     },
     "metadata": {},
     "output_type": "display_data"
    },
    {
     "data": {
      "image/png": "[encoded data removed]",
      "text/plain": [
       "<Figure size 432x288 with 3 Axes>"
      ]
     },
     "metadata": {},
     "output_type": "display_data"
    },
    {
     "data": {
      "image/png": "[encoded data removed]",
      "text/plain": [
       "<Figure size 432x288 with 3 Axes>"
      ]
     },
     "metadata": {},
     "output_type": "display_data"
    },
    {
     "data": {
      "image/png": "[encoded data removed]",
      "text/plain": [
       "<Figure size 432x288 with 3 Axes>"
      ]
     },
     "metadata": {},
     "output_type": "display_data"
    }
   ],
   "source": [
    "importlib.reload(JLpyUtils.plot)\n",
    "JLpyUtils.plot.hist_or_bar(X, categorical_headers=headers_dict['categorical features'])"
   ]
  },
  {
   "cell_type": "code",
   "execution_count": 18,
   "metadata": {},
   "outputs": [
    {
     "data": {
      "image/png": "[encoded data removed]",
      "text/plain": [
       "<Figure size 432x288 with 3 Axes>"
      ]
     },
     "metadata": {},
     "output_type": "display_data"
    },
    {
     "data": {
      "image/png": "[encoded data removed]",
      "text/plain": [
       "<Figure size 432x288 with 3 Axes>"
      ]
     },
     "metadata": {},
     "output_type": "display_data"
    }
   ],
   "source": [
    "JLpyUtils.plot.hist_or_bar(y, xscale='log')"
   ]
  },
  {
   "cell_type": "markdown",
   "metadata": {},
   "source": [
    "# Feature Engineer"
   ]
  },
  {
   "cell_type": "code",
   "execution_count": 15,
   "metadata": {},
   "outputs": [],
   "source": [
    "feat_eng_pipe = JLpyUtils.ML.preprocessing.feat_eng_pipe(path_report_dir= path_report_dir, \n",
    "                                                         overwrite=False)"
   ]
  },
  {
   "cell_type": "code",
   "execution_count": 16,
   "metadata": {},
   "outputs": [
    {
     "data": {
      "text/plain": [
       "{'path_report_dir': '/mr3_boltprod_john_t_leonard/Data_Science_Projects./outputs/Project_Kaggle_BigQuery-Geotab_Intersection_Congestion',\n",
       " 'path_feat_eng_root_dir': '/mr3_boltprod_john_t_leonard/Data_Science_Projects./outputs/Project_Kaggle_BigQuery-Geotab_Intersection_Congestion/outputs/feat_eng',\n",
       " 'verbose': 1,\n",
       " 'overwrite': False,\n",
       " 'OneHot_cases': [False],\n",
       " 'Scalers_dict': {'MinMaxScaler': MinMaxScaler(copy=True, feature_range=(0, 1))},\n",
       " 'Imputer_categorical_dict': {'most_frequent': {None: None}},\n",
       " 'Imputer_continuous_dict': {'median': {None: None}},\n",
       " 'AbsCorrCoeff_thresholds': [0.99],\n",
       " 'save': <function JLpyUtils.file_utils.save(obj, filename, format_, path_dir)>,\n",
       " 'load': <function JLpyUtils.file_utils.load(filename, format_, path_dir, headers='infer')>}"
      ]
     },
     "execution_count": 16,
     "metadata": {},
     "output_type": "execute_result"
    }
   ],
   "source": [
    "import sklearn.preprocessing\n",
    "\n",
    "feat_eng_pipe.Scalers_dict = {'MinMaxScaler':sklearn.preprocessing.MinMaxScaler()}\n",
    "feat_eng_pipe.Imputer_continuous_dict = {'median':{None:None}}\n",
    "feat_eng_pipe.OneHot_cases = [False]\n",
    "feat_eng_pipe.__dict__"
   ]
  },
  {
   "cell_type": "markdown",
   "metadata": {},
   "source": [
    "## Fit"
   ]
  },
  {
   "cell_type": "code",
   "execution_count": 17,
   "metadata": {
    "scrolled": true
   },
   "outputs": [
    {
     "name": "stdout",
     "output_type": "stream",
     "text": [
      "-------------------------------- feat_eng_pipe fit --------------------------------\n",
      "LabelEncode\n",
      "\tScale: MinMaxScaler\n",
      "\t\tImpute Categorical Features: most_frequent [ None ]\n",
      "\t\t\tImpute Continuous Features: median [ None ]\n",
      "\t\t\t\tOne Hot Encode: [ False ]\n",
      "\t\t\t\t\tCorrCoeffThreshold: [ 0.99 ]\n",
      "------------------------------------ !Finished! ------------------------------------\n"
     ]
    }
   ],
   "source": [
    "feat_eng_pipe.fit(X, headers_dict)"
   ]
  },
  {
   "cell_type": "markdown",
   "metadata": {},
   "source": [
    "## Transform"
   ]
  },
  {
   "cell_type": "code",
   "execution_count": 17,
   "metadata": {},
   "outputs": [],
   "source": [
    "X_field = df_field[headers_dict['features']]"
   ]
  },
  {
   "cell_type": "code",
   "execution_count": 19,
   "metadata": {},
   "outputs": [
    {
     "name": "stdout",
     "output_type": "stream",
     "text": [
      "---------------------------- feat_eng_pipe transform ---------------------------\n",
      "LabelEncode\n",
      "\tScale: MinMaxScaler\n",
      "\t\tImpute Categorical Features: most_frequent [ None ]\n",
      "\t\t\tImpute Continuous Features: median [ None ]\n",
      "\t\t\t\tOne Hot Encode: [ False ]\n",
      "\t\t\t\t\tCorrCoeffThreshold: [ 0.99 ]\n",
      "------------------------------------ !Finished! ------------------------------------\n"
     ]
    }
   ],
   "source": [
    "feat_eng_pipe.transform(X_field)"
   ]
  },
  {
   "cell_type": "code",
   "execution_count": 20,
   "metadata": {},
   "outputs": [
    {
     "data": {
      "text/plain": [
       "'/mr3_boltprod_john_t_leonard/Data_Science_Projects./outputs/Project_Kaggle_BigQuery-Geotab_Intersection_Congestion/outputs/feat_eng'"
      ]
     },
     "execution_count": 20,
     "metadata": {},
     "output_type": "execute_result"
    }
   ],
   "source": [
    "feat_eng_pipe.path_feat_eng_root_dir"
   ]
  },
  {
   "cell_type": "markdown",
   "metadata": {},
   "source": [
    "# Select Feat. Eng. Case of Interest"
   ]
  },
  {
   "cell_type": "code",
   "execution_count": 18,
   "metadata": {},
   "outputs": [
    {
     "data": {
      "text/plain": [
       "'/mr3_boltprod_john_t_leonard/Data_Science_Projects./outputs/Project_Kaggle_BigQuery-Geotab_Intersection_Congestion/outputs/feat_eng/LabelEncode/Scaler_ID[MinMaxScaler]/Imputer_categorical_ID[most_frequent]/Imputer_iterator_classifier_ID[None]/Imputer_continuous_ID[median]/Imputer_iterator_regressor_ID[None]/OneHot_case[False]/CorrCoeffThreshold[0.99]'"
      ]
     },
     "execution_count": 18,
     "metadata": {},
     "output_type": "execute_result"
    }
   ],
   "source": [
    "feat_eng_case_dir = os.path.join(feat_eng_pipe.path_feat_eng_root_dir,\n",
    "                                 'LabelEncode',\n",
    "                                 'Scaler_ID[MinMaxScaler]',\n",
    "                                 'Imputer_categorical_ID[most_frequent]',\n",
    "                                 'Imputer_iterator_classifier_ID[None]',\n",
    "                                 'Imputer_continuous_ID[median]',\n",
    "                                 'Imputer_iterator_regressor_ID[None]',\n",
    "                                 'OneHot_case[False]',\n",
    "                                 'CorrCoeffThreshold[0.99]')\n",
    "feat_eng_case_dir"
   ]
  },
  {
   "cell_type": "code",
   "execution_count": 19,
   "metadata": {},
   "outputs": [
    {
     "data": {
      "text/plain": [
       "dict_keys(['features', 'labels', 'categorical features', 'continuous features', 'headers after OneHot', 'headers after CorrCoeffThreshold'])"
      ]
     },
     "execution_count": 19,
     "metadata": {},
     "output_type": "execute_result"
    }
   ],
   "source": [
    "headers_dict = JLpyUtils.file_utils.load('headers_dict','json',feat_eng_case_dir)\n",
    "headers_dict.keys()"
   ]
  },
  {
   "cell_type": "code",
   "execution_count": 20,
   "metadata": {},
   "outputs": [
    {
     "data": {
      "text/html": [
       "<div>\n",
       "<style scoped>\n",
       "    .dataframe tbody tr th:only-of-type {\n",
       "        vertical-align: middle;\n",
       "    }\n",
       "\n",
       "    .dataframe tbody tr th {\n",
       "        vertical-align: top;\n",
       "    }\n",
       "\n",
       "    .dataframe thead th {\n",
       "        text-align: right;\n",
       "    }\n",
       "</style>\n",
       "<table border=\"1\" class=\"dataframe\">\n",
       "  <thead>\n",
       "    <tr style=\"text-align: right;\">\n",
       "      <th></th>\n",
       "      <th>IntersectionId</th>\n",
       "      <th>Latitude</th>\n",
       "      <th>Longitude</th>\n",
       "      <th>EntryStreetName</th>\n",
       "      <th>ExitStreetName</th>\n",
       "      <th>EntryHeading</th>\n",
       "      <th>ExitHeading</th>\n",
       "      <th>Hour</th>\n",
       "      <th>Weekend</th>\n",
       "      <th>Month</th>\n",
       "      <th>City</th>\n",
       "    </tr>\n",
       "  </thead>\n",
       "  <tbody>\n",
       "    <tr>\n",
       "      <th>0</th>\n",
       "      <td>0.0</td>\n",
       "      <td>0.016227</td>\n",
       "      <td>0.202621</td>\n",
       "      <td>712.0</td>\n",
       "      <td>706.0</td>\n",
       "      <td>3.0</td>\n",
       "      <td>3.0</td>\n",
       "      <td>0.000000</td>\n",
       "      <td>0.0</td>\n",
       "      <td>6.0</td>\n",
       "      <td>0.0</td>\n",
       "    </tr>\n",
       "    <tr>\n",
       "      <th>1</th>\n",
       "      <td>0.0</td>\n",
       "      <td>0.016227</td>\n",
       "      <td>0.202621</td>\n",
       "      <td>712.0</td>\n",
       "      <td>706.0</td>\n",
       "      <td>5.0</td>\n",
       "      <td>5.0</td>\n",
       "      <td>0.000000</td>\n",
       "      <td>0.0</td>\n",
       "      <td>6.0</td>\n",
       "      <td>0.0</td>\n",
       "    </tr>\n",
       "    <tr>\n",
       "      <th>2</th>\n",
       "      <td>0.0</td>\n",
       "      <td>0.016227</td>\n",
       "      <td>0.202621</td>\n",
       "      <td>712.0</td>\n",
       "      <td>706.0</td>\n",
       "      <td>3.0</td>\n",
       "      <td>3.0</td>\n",
       "      <td>0.043478</td>\n",
       "      <td>0.0</td>\n",
       "      <td>6.0</td>\n",
       "      <td>0.0</td>\n",
       "    </tr>\n",
       "    <tr>\n",
       "      <th>3</th>\n",
       "      <td>0.0</td>\n",
       "      <td>0.016227</td>\n",
       "      <td>0.202621</td>\n",
       "      <td>712.0</td>\n",
       "      <td>706.0</td>\n",
       "      <td>5.0</td>\n",
       "      <td>5.0</td>\n",
       "      <td>0.043478</td>\n",
       "      <td>0.0</td>\n",
       "      <td>6.0</td>\n",
       "      <td>0.0</td>\n",
       "    </tr>\n",
       "    <tr>\n",
       "      <th>4</th>\n",
       "      <td>0.0</td>\n",
       "      <td>0.016227</td>\n",
       "      <td>0.202621</td>\n",
       "      <td>712.0</td>\n",
       "      <td>706.0</td>\n",
       "      <td>3.0</td>\n",
       "      <td>3.0</td>\n",
       "      <td>0.086957</td>\n",
       "      <td>0.0</td>\n",
       "      <td>6.0</td>\n",
       "      <td>0.0</td>\n",
       "    </tr>\n",
       "  </tbody>\n",
       "</table>\n",
       "</div>"
      ],
      "text/plain": [
       "   IntersectionId  Latitude  Longitude  EntryStreetName  ExitStreetName  \\\n",
       "0             0.0  0.016227   0.202621            712.0           706.0   \n",
       "1             0.0  0.016227   0.202621            712.0           706.0   \n",
       "2             0.0  0.016227   0.202621            712.0           706.0   \n",
       "3             0.0  0.016227   0.202621            712.0           706.0   \n",
       "4             0.0  0.016227   0.202621            712.0           706.0   \n",
       "\n",
       "   EntryHeading  ExitHeading      Hour  Weekend  Month  City  \n",
       "0           3.0          3.0  0.000000      0.0    6.0   0.0  \n",
       "1           5.0          5.0  0.000000      0.0    6.0   0.0  \n",
       "2           3.0          3.0  0.043478      0.0    6.0   0.0  \n",
       "3           5.0          5.0  0.043478      0.0    6.0   0.0  \n",
       "4           3.0          3.0  0.086957      0.0    6.0   0.0  "
      ]
     },
     "execution_count": 20,
     "metadata": {},
     "output_type": "execute_result"
    }
   ],
   "source": [
    "X = JLpyUtils.file_utils.load('X','csv',feat_eng_case_dir)\n",
    "X = X.compute()\n",
    "X.head()"
   ]
  },
  {
   "cell_type": "code",
   "execution_count": 21,
   "metadata": {},
   "outputs": [
    {
     "data": {
      "text/html": [
       "<div>\n",
       "<style scoped>\n",
       "    .dataframe tbody tr th:only-of-type {\n",
       "        vertical-align: middle;\n",
       "    }\n",
       "\n",
       "    .dataframe tbody tr th {\n",
       "        vertical-align: top;\n",
       "    }\n",
       "\n",
       "    .dataframe thead th {\n",
       "        text-align: right;\n",
       "    }\n",
       "</style>\n",
       "<table border=\"1\" class=\"dataframe\">\n",
       "  <thead>\n",
       "    <tr style=\"text-align: right;\">\n",
       "      <th></th>\n",
       "      <th>IntersectionId</th>\n",
       "      <th>Latitude</th>\n",
       "      <th>Longitude</th>\n",
       "      <th>EntryStreetName</th>\n",
       "      <th>ExitStreetName</th>\n",
       "      <th>EntryHeading</th>\n",
       "      <th>ExitHeading</th>\n",
       "      <th>Hour</th>\n",
       "      <th>Weekend</th>\n",
       "      <th>Month</th>\n",
       "      <th>City</th>\n",
       "    </tr>\n",
       "  </thead>\n",
       "  <tbody>\n",
       "    <tr>\n",
       "      <th>0</th>\n",
       "      <td>1.0</td>\n",
       "      <td>0.011563</td>\n",
       "      <td>0.204822</td>\n",
       "      <td>1029.0</td>\n",
       "      <td>753.0</td>\n",
       "      <td>6.0</td>\n",
       "      <td>5.0</td>\n",
       "      <td>0.000000</td>\n",
       "      <td>0.0</td>\n",
       "      <td>6.0</td>\n",
       "      <td>0.0</td>\n",
       "    </tr>\n",
       "    <tr>\n",
       "      <th>1</th>\n",
       "      <td>1.0</td>\n",
       "      <td>0.011563</td>\n",
       "      <td>0.204822</td>\n",
       "      <td>1029.0</td>\n",
       "      <td>1018.0</td>\n",
       "      <td>6.0</td>\n",
       "      <td>6.0</td>\n",
       "      <td>0.000000</td>\n",
       "      <td>0.0</td>\n",
       "      <td>6.0</td>\n",
       "      <td>0.0</td>\n",
       "    </tr>\n",
       "    <tr>\n",
       "      <th>2</th>\n",
       "      <td>1.0</td>\n",
       "      <td>0.011563</td>\n",
       "      <td>0.204822</td>\n",
       "      <td>1029.0</td>\n",
       "      <td>1018.0</td>\n",
       "      <td>2.0</td>\n",
       "      <td>2.0</td>\n",
       "      <td>0.043478</td>\n",
       "      <td>0.0</td>\n",
       "      <td>6.0</td>\n",
       "      <td>0.0</td>\n",
       "    </tr>\n",
       "    <tr>\n",
       "      <th>3</th>\n",
       "      <td>1.0</td>\n",
       "      <td>0.011563</td>\n",
       "      <td>0.204822</td>\n",
       "      <td>1029.0</td>\n",
       "      <td>1018.0</td>\n",
       "      <td>6.0</td>\n",
       "      <td>6.0</td>\n",
       "      <td>0.043478</td>\n",
       "      <td>0.0</td>\n",
       "      <td>6.0</td>\n",
       "      <td>0.0</td>\n",
       "    </tr>\n",
       "    <tr>\n",
       "      <th>4</th>\n",
       "      <td>1.0</td>\n",
       "      <td>0.011563</td>\n",
       "      <td>0.204822</td>\n",
       "      <td>1029.0</td>\n",
       "      <td>1018.0</td>\n",
       "      <td>2.0</td>\n",
       "      <td>2.0</td>\n",
       "      <td>0.086957</td>\n",
       "      <td>0.0</td>\n",
       "      <td>6.0</td>\n",
       "      <td>0.0</td>\n",
       "    </tr>\n",
       "  </tbody>\n",
       "</table>\n",
       "</div>"
      ],
      "text/plain": [
       "   IntersectionId  Latitude  Longitude  EntryStreetName  ExitStreetName  \\\n",
       "0             1.0  0.011563   0.204822           1029.0           753.0   \n",
       "1             1.0  0.011563   0.204822           1029.0          1018.0   \n",
       "2             1.0  0.011563   0.204822           1029.0          1018.0   \n",
       "3             1.0  0.011563   0.204822           1029.0          1018.0   \n",
       "4             1.0  0.011563   0.204822           1029.0          1018.0   \n",
       "\n",
       "   EntryHeading  ExitHeading      Hour  Weekend  Month  City  \n",
       "0           6.0          5.0  0.000000      0.0    6.0   0.0  \n",
       "1           6.0          6.0  0.000000      0.0    6.0   0.0  \n",
       "2           2.0          2.0  0.043478      0.0    6.0   0.0  \n",
       "3           6.0          6.0  0.043478      0.0    6.0   0.0  \n",
       "4           2.0          2.0  0.086957      0.0    6.0   0.0  "
      ]
     },
     "execution_count": 21,
     "metadata": {},
     "output_type": "execute_result"
    }
   ],
   "source": [
    "X_field = JLpyUtils.file_utils.load('X_field','csv',feat_eng_case_dir)\n",
    "X_field = X_field.compute()\n",
    "X_field.head()"
   ]
  },
  {
   "cell_type": "code",
   "execution_count": 22,
   "metadata": {},
   "outputs": [
    {
     "data": {
      "text/html": [
       "<div>\n",
       "<style scoped>\n",
       "    .dataframe tbody tr th:only-of-type {\n",
       "        vertical-align: middle;\n",
       "    }\n",
       "\n",
       "    .dataframe tbody tr th {\n",
       "        vertical-align: top;\n",
       "    }\n",
       "\n",
       "    .dataframe thead th {\n",
       "        text-align: right;\n",
       "    }\n",
       "</style>\n",
       "<table border=\"1\" class=\"dataframe\">\n",
       "  <thead>\n",
       "    <tr style=\"text-align: right;\">\n",
       "      <th></th>\n",
       "      <th>TotalTimeStopped_p20</th>\n",
       "      <th>TotalTimeStopped_p50</th>\n",
       "      <th>TotalTimeStopped_p80</th>\n",
       "      <th>DistanceToFirstStop_p20</th>\n",
       "      <th>DistanceToFirstStop_p50</th>\n",
       "      <th>DistanceToFirstStop_p80</th>\n",
       "    </tr>\n",
       "  </thead>\n",
       "  <tbody>\n",
       "    <tr>\n",
       "      <th>0</th>\n",
       "      <td>0.0</td>\n",
       "      <td>0.0</td>\n",
       "      <td>0.0</td>\n",
       "      <td>0.0</td>\n",
       "      <td>0.0</td>\n",
       "      <td>0.0</td>\n",
       "    </tr>\n",
       "    <tr>\n",
       "      <th>1</th>\n",
       "      <td>0.0</td>\n",
       "      <td>0.0</td>\n",
       "      <td>0.0</td>\n",
       "      <td>0.0</td>\n",
       "      <td>0.0</td>\n",
       "      <td>0.0</td>\n",
       "    </tr>\n",
       "    <tr>\n",
       "      <th>2</th>\n",
       "      <td>0.0</td>\n",
       "      <td>0.0</td>\n",
       "      <td>0.0</td>\n",
       "      <td>0.0</td>\n",
       "      <td>0.0</td>\n",
       "      <td>0.0</td>\n",
       "    </tr>\n",
       "    <tr>\n",
       "      <th>3</th>\n",
       "      <td>0.0</td>\n",
       "      <td>0.0</td>\n",
       "      <td>0.0</td>\n",
       "      <td>0.0</td>\n",
       "      <td>0.0</td>\n",
       "      <td>0.0</td>\n",
       "    </tr>\n",
       "    <tr>\n",
       "      <th>4</th>\n",
       "      <td>0.0</td>\n",
       "      <td>0.0</td>\n",
       "      <td>0.0</td>\n",
       "      <td>0.0</td>\n",
       "      <td>0.0</td>\n",
       "      <td>0.0</td>\n",
       "    </tr>\n",
       "  </tbody>\n",
       "</table>\n",
       "</div>"
      ],
      "text/plain": [
       "   TotalTimeStopped_p20  TotalTimeStopped_p50  TotalTimeStopped_p80  \\\n",
       "0                   0.0                   0.0                   0.0   \n",
       "1                   0.0                   0.0                   0.0   \n",
       "2                   0.0                   0.0                   0.0   \n",
       "3                   0.0                   0.0                   0.0   \n",
       "4                   0.0                   0.0                   0.0   \n",
       "\n",
       "   DistanceToFirstStop_p20  DistanceToFirstStop_p50  DistanceToFirstStop_p80  \n",
       "0                      0.0                      0.0                      0.0  \n",
       "1                      0.0                      0.0                      0.0  \n",
       "2                      0.0                      0.0                      0.0  \n",
       "3                      0.0                      0.0                      0.0  \n",
       "4                      0.0                      0.0                      0.0  "
      ]
     },
     "execution_count": 22,
     "metadata": {},
     "output_type": "execute_result"
    }
   ],
   "source": [
    "# Scale y to ensure multi-output weights are calculated fairly for all labels\n",
    "y = df_train[headers_dict['labels']]\n",
    "y = y.compute()\n",
    "y.head()\n",
    "\n",
    "Scaler_y = sklearn.preprocessing.MinMaxScaler()\n",
    "Scaler_y.fit(y)\n",
    "\n",
    "y = pd.DataFrame(Scaler_y.transform(y), columns=y.columns)\n",
    "y.head()"
   ]
  },
  {
   "cell_type": "code",
   "execution_count": 23,
   "metadata": {},
   "outputs": [],
   "source": [
    "test_size = 0.3\n",
    "random_state = 0\n",
    "X_train, X_test, y_train, y_test = sklearn.model_selection.train_test_split(X, y, \n",
    "                                                                            random_state=random_state, \n",
    "                                                                            test_size=test_size)\n",
    "assert(X_train.shape[0]==y_train.shape[0])"
   ]
  },
  {
   "cell_type": "markdown",
   "metadata": {},
   "source": [
    "# Model Selection"
   ]
  },
  {
   "cell_type": "code",
   "execution_count": 44,
   "metadata": {
    "scrolled": false
   },
   "outputs": [
    {
     "data": {
      "text/plain": [
       "{'XGBoost': {'model': MultiOutputRegressor(estimator=XGBRegressor(base_score=0.5, booster='gbtree',\n",
       "                                              colsample_bylevel=1,\n",
       "                                              colsample_bynode=1,\n",
       "                                              colsample_bytree=1, gamma=0,\n",
       "                                              importance_type='gain',\n",
       "                                              learning_rate=0.1, max_delta_step=0,\n",
       "                                              max_depth=3, min_child_weight=1,\n",
       "                                              missing=None, n_estimators=100,\n",
       "                                              n_jobs=-1, nthread=None,\n",
       "                                              objective='reg:linear',\n",
       "                                              random_state=0, reg_alpha=0,\n",
       "                                              reg_lambda=1, scale_pos_weight=1,\n",
       "                                              seed=None, silent=None, subsample=1,\n",
       "                                              tree_method='auto', verbosity=1),\n",
       "                       n_jobs=None),\n",
       "  'param_grid': {'estimator__max_depth': [3, 10],\n",
       "   'estimator__learning_rate': [0.01, 0.1, 1],\n",
       "   'estimator__n_estimators': [10, 100, 1000],\n",
       "   'estimator__subsample': [1, 0.9, 0.5],\n",
       "   'estimator__colsample_bytree': [1.0, 0.8, 0.5]}},\n",
       " 'DenseNet': {'model': <function JLpyUtils.ML.NeuralNet.DenseNet.model(n_features, n_labels, batch_size=None, initial_dense_unit_size='auto', layers_per_group=1, dense_scaling_factor=2, activation='elu', final_activation='elu', batch_norm_rate=None, dropout_layer_rate=None, dropout_rate=0.5, loss=<function mean_squared_error at 0x7f5f05e84b70>, learning_rate=0.001, optimizer=<class 'tensorflow.python.keras.optimizer_v2.adam.Adam'>, metrics=['mae', 'accuracy'])>,\n",
       "  'param_grid': {'n_features': [11],\n",
       "   'n_labels': [6],\n",
       "   'batch_size': [None],\n",
       "   'layers_per_group': [1, 2],\n",
       "   'initial_dense_unit_size': [11, 22],\n",
       "   'dense_scaling_factor': [1.5, 2, 3, 5],\n",
       "   'activation': ['elu', 'relu'],\n",
       "   'final_activation': ['elu'],\n",
       "   'batch_norm_rate': [None, 1, 2],\n",
       "   'dropout_layer_rate': [None, 1, 2],\n",
       "   'dropout_rate': [0.1, 0.5],\n",
       "   'loss': ['mse'],\n",
       "   'learning_rate': [0.001],\n",
       "   'optimizer': [tensorflow.python.keras.optimizer_v2.adam.Adam],\n",
       "   'metrics': [['mse', 'mae']]}},\n",
       " 'Linear': {'model': LinearRegression(copy_X=True, fit_intercept=True, n_jobs=None, normalize=False),\n",
       "  'param_grid': {'normalize': [False, True]}},\n",
       " 'KNN': {'model': KNeighborsRegressor(algorithm='auto', leaf_size=30, metric='minkowski',\n",
       "                      metric_params=None, n_jobs=None, n_neighbors=5, p=2,\n",
       "                      weights='uniform'),\n",
       "  'param_grid': {'n_neighbors': [5, 10, 100],\n",
       "   'weights': ['uniform', 'distance'],\n",
       "   'algorithm': ['ball_tree', 'kd_tree', 'brute']}},\n",
       " 'DecisionTree': {'model': DecisionTreeRegressor(criterion='mse', max_depth=None, max_features=None,\n",
       "                        max_leaf_nodes=None, min_impurity_decrease=0.0,\n",
       "                        min_impurity_split=None, min_samples_leaf=1,\n",
       "                        min_samples_split=2, min_weight_fraction_leaf=0.0,\n",
       "                        presort=False, random_state=None, splitter='best'),\n",
       "  'param_grid': {'criterion': ['mse', 'friedman_mse'],\n",
       "   'splitter': ['best', 'random'],\n",
       "   'max_depth': [None, 5, 10, 100],\n",
       "   'max_features': [None, 0.25, 0.5, 0.75]}},\n",
       " 'RandomForest': {'model': RandomForestRegressor(bootstrap=True, criterion='mse', max_depth=None,\n",
       "                        max_features='auto', max_leaf_nodes=None,\n",
       "                        min_impurity_decrease=0.0, min_impurity_split=None,\n",
       "                        min_samples_leaf=1, min_samples_split=2,\n",
       "                        min_weight_fraction_leaf=0.0, n_estimators='warn',\n",
       "                        n_jobs=None, oob_score=False, random_state=None,\n",
       "                        verbose=0, warm_start=False),\n",
       "  'param_grid': {'criterion': ['mse'],\n",
       "   'n_estimators': [10, 100],\n",
       "   'max_depth': [None, 5, 10],\n",
       "   'max_features': [None, 0.25, 0.5, 0.75]}}}"
      ]
     },
     "execution_count": 44,
     "metadata": {},
     "output_type": "execute_result"
    }
   ],
   "source": [
    "importlib.reload(JLpyUtils.ML.model_selection.default_models_dict)\n",
    "\n",
    "n_features = X.shape[1]\n",
    "n_labels = y.shape[1]\n",
    "models=['XGBoost', 'DenseNet','Linear', 'KNN', 'DecisionTree', 'RandomForest']\n",
    "\n",
    "models_dict = JLpyUtils.ML.model_selection.default_models_dict.regression(n_features, n_labels, models)\n",
    "models_dict"
   ]
  },
  {
   "cell_type": "code",
   "execution_count": 45,
   "metadata": {},
   "outputs": [],
   "source": [
    "importlib.reload(JLpyUtils.ML.model_selection)\n",
    "importlib.reload(JLpyUtils.ML.model_selection._search)\n",
    "importlib.reload(JLpyUtils.ML.model_selection)\n",
    "\n",
    "GridSearch_dir = os.path.join(feat_eng_case_dir,'GridSearchCV')\n",
    "\n",
    "GridSearchCV = JLpyUtils.ML.model_selection.GridSearchCV(models_dict,\n",
    "                                                         cv=4, \n",
    "                                                         scoring={'metric': None, 'maximize': True}, \n",
    "                                                         metrics={'r2_score': sklearn.metrics.r2_score}, \n",
    "                                                         retrain=False, \n",
    "                                                         path_root_dir=GridSearch_dir, \n",
    "                                                         n_jobs=-1, \n",
    "                                                         verbose=2)"
   ]
  },
  {
   "cell_type": "code",
   "execution_count": null,
   "metadata": {
    "scrolled": false
   },
   "outputs": [
    {
     "name": "stdout",
     "output_type": "stream",
     "text": [
      "\n",
      "---- XGBoost ----\n",
      "path_model_dir: /mr3_boltprod_john_t_leonard/Data_Science_Projects./outputs/Project_Kaggle_BigQuery-Geotab_Intersection_Congestion/outputs/feat_eng/LabelEncode/Scaler_ID[MinMaxScaler]/Imputer_categorical_ID[most_frequent]/Imputer_iterator_classifier_ID[None]/Imputer_continuous_ID[median]/Imputer_iterator_regressor_ID[None]/OneHot_case[False]/CorrCoeffThreshold[0.99]/GridSearchCV/XGBoost\n",
      "Fitting 4 folds for each of 162 candidates, totalling 648 fits\n"
     ]
    },
    {
     "name": "stderr",
     "output_type": "stream",
     "text": [
      "[Parallel(n_jobs=-1)]: Using backend LokyBackend with 30 concurrent workers.\n",
      "/opt/conda/lib/python3.7/site-packages/joblib/externals/loky/process_executor.py:706: UserWarning: A worker stopped while some jobs were given to the executor. This can be caused by a too short worker timeout or by a memory leak.\n",
      "  \"timeout or by a memory leak.\", UserWarning\n",
      "[Parallel(n_jobs=-1)]: Done 140 tasks      | elapsed: 99.2min\n",
      "[Parallel(n_jobs=-1)]: Done 390 tasks      | elapsed: 430.4min\n",
      "[Parallel(n_jobs=-1)]: Done 648 out of 648 | elapsed: 710.5min finished\n"
     ]
    },
    {
     "name": "stdout",
     "output_type": "stream",
     "text": [
      "[18:16:03] WARNING: /workspace/src/objective/regression_obj.cu:152: reg:linear is now deprecated in favor of reg:squarederror.\n",
      "[18:29:12] WARNING: /workspace/src/objective/regression_obj.cu:152: reg:linear is now deprecated in favor of reg:squarederror.\n",
      "[18:42:06] WARNING: /workspace/src/objective/regression_obj.cu:152: reg:linear is now deprecated in favor of reg:squarederror.\n",
      "[18:54:56] WARNING: /workspace/src/objective/regression_obj.cu:152: reg:linear is now deprecated in favor of reg:squarederror.\n",
      "[19:07:47] WARNING: /workspace/src/objective/regression_obj.cu:152: reg:linear is now deprecated in favor of reg:squarederror.\n",
      "[19:20:54] WARNING: /workspace/src/objective/regression_obj.cu:152: reg:linear is now deprecated in favor of reg:squarederror.\n",
      "\tbest_cv_score: 0.5213946207170558\n",
      "\tbest_pred_score: 0.5327495884609244\n",
      "\t r2_score : 0.5327495884609244\n",
      "\n",
      "---- DenseNet ----\n",
      "path_model_dir: /mr3_boltprod_john_t_leonard/Data_Science_Projects./outputs/Project_Kaggle_BigQuery-Geotab_Intersection_Congestion/outputs/feat_eng/LabelEncode/Scaler_ID[MinMaxScaler]/Imputer_categorical_ID[most_frequent]/Imputer_iterator_classifier_ID[None]/Imputer_continuous_ID[median]/Imputer_iterator_regressor_ID[None]/OneHot_case[False]/CorrCoeffThreshold[0.99]/GridSearchCV/DenseNet\n",
      "running 4 fold cross validation on 576 candidates, totalling 2304 fits\n",
      "Scoring using {'metric': 'loss', 'maximize': False}\n",
      "WARNING:tensorflow:From /opt/conda/lib/python3.7/site-packages/tensorflow/python/ops/init_ops.py:1251: calling VarianceScaling.__init__ (from tensorflow.python.ops.init_ops) with dtype is deprecated and will be removed in a future version.\n",
      "Instructions for updating:\n",
      "Call initializer instance with the dtype argument instead of passing it to the constructor\n"
     ]
    },
    {
     "name": "stderr",
     "output_type": "stream",
     "text": [
      "WARNING:tensorflow:From /opt/conda/lib/python3.7/site-packages/tensorflow/python/ops/init_ops.py:1251: calling VarianceScaling.__init__ (from tensorflow.python.ops.init_ops) with dtype is deprecated and will be removed in a future version.\n",
      "Instructions for updating:\n",
      "Call initializer instance with the dtype argument instead of passing it to the constructor\n"
     ]
    },
    {
     "name": "stdout",
     "output_type": "stream",
     "text": [
      "\tParameter sweep progress: 5.903(total time (mins):1815.14 of ~28050.56) [cv Progress: 50.0 (train time (mins): 49.33 )]]\r"
     ]
    }
   ],
   "source": [
    "GridSearchCV.fit(X_train, y_train, X_test, y_test)"
   ]
  },
  {
   "cell_type": "code",
   "execution_count": null,
   "metadata": {},
   "outputs": [],
   "source": [
    "foo"
   ]
  },
  {
   "cell_type": "markdown",
   "metadata": {},
   "source": [
    "https://ml.dask.org/examples/xgboost.html"
   ]
  },
  {
   "cell_type": "code",
   "execution_count": null,
   "metadata": {},
   "outputs": [],
   "source": []
  }
 ],
 "metadata": {
  "kernelspec": {
   "display_name": "Python 3",
   "language": "python",
   "name": "python3"
  },
  "language_info": {
   "codemirror_mode": {
    "name": "ipython",
    "version": 3
   },
   "file_extension": ".py",
   "mimetype": "text/x-python",
   "name": "python",
   "nbconvert_exporter": "python",
   "pygments_lexer": "ipython3",
   "version": "3.7.2"
  },
  "toc": {
   "base_numbering": 1,
   "nav_menu": {},
   "number_sections": true,
   "sideBar": true,
   "skip_h1_title": false,
   "title_cell": "Table of Contents",
   "title_sidebar": "Contents",
   "toc_cell": false,
   "toc_position": {},
   "toc_section_display": true,
   "toc_window_display": false
  }
 },
 "nbformat": 4,
 "nbformat_minor": 2
}
