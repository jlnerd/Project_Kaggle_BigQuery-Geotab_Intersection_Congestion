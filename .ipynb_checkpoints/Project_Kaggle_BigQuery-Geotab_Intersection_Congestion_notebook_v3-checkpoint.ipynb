{
 "cells": [
  {
   "cell_type": "markdown",
   "metadata": {},
   "source": [
    "# Install Libs"
   ]
  },
  {
   "cell_type": "code",
   "execution_count": 1,
   "metadata": {},
   "outputs": [],
   "source": [
    "!pip install --upgrade JLpyUtils \n",
    "import IPython.display\n",
    "IPython.display.clear_output()"
   ]
  },
  {
   "cell_type": "markdown",
   "metadata": {},
   "source": [
    "# Import Libs"
   ]
  },
  {
   "cell_type": "code",
   "execution_count": 1,
   "metadata": {},
   "outputs": [],
   "source": [
    "import numpy as np\n",
    "import pandas as pd\n",
    "import sys, os, importlib, gc\n",
    "import matplotlib as mpl\n",
    "import matplotlib.pyplot as plt\n",
    "import warnings\n",
    "\n",
    "import dask, dask.dataframe"
   ]
  },
  {
   "cell_type": "code",
   "execution_count": 2,
   "metadata": {},
   "outputs": [],
   "source": [
    "pd.options.display.max_columns = 1000\n",
    "mpl.rcParams['font.size']=14"
   ]
  },
  {
   "cell_type": "code",
   "execution_count": 3,
   "metadata": {},
   "outputs": [],
   "source": [
    "dev = True"
   ]
  },
  {
   "cell_type": "code",
   "execution_count": 4,
   "metadata": {},
   "outputs": [
    {
     "name": "stdout",
     "output_type": "stream",
     "text": [
      "Running in dev mode. Using local copy of JLpyUtils\n"
     ]
    },
    {
     "data": {
      "text/plain": [
       "'0.2.17'"
      ]
     },
     "execution_count": 4,
     "metadata": {},
     "output_type": "execute_result"
    }
   ],
   "source": [
    "path_desktop = os.path.abspath('..')\n",
    "if dev:\n",
    "    print('Running in dev mode. Using local copy of JLpyUtils')\n",
    "    path_dev_repo = os.path.join(path_desktop,'JLpyUtils')\n",
    "    sys.path.insert(0, path_dev_repo)\n",
    "\n",
    "import JLpyUtils\n",
    "JLpyUtils.__version__"
   ]
  },
  {
   "cell_type": "markdown",
   "metadata": {},
   "source": [
    "# Build Report Dir"
   ]
  },
  {
   "cell_type": "code",
   "execution_count": 5,
   "metadata": {},
   "outputs": [
    {
     "name": "stdout",
     "output_type": "stream",
     "text": [
      "path_report_dir:\n",
      " /mr3_boltprod_john_t_leonard/Data_Science_Projects./outputs/Project_Kaggle_BigQuery-Geotab_Intersection_Congestion\n"
     ]
    }
   ],
   "source": [
    "path_report_dir = os.path.join(path_desktop,'outputs','Project_Kaggle_BigQuery-Geotab_Intersection_Congestion')\n",
    "\n",
    "if os.path.isdir(path_report_dir)==False:\n",
    "    os.makedirs(path_report_dir)\n",
    "    \n",
    "print('path_report_dir:\\n',path_report_dir)"
   ]
  },
  {
   "cell_type": "markdown",
   "metadata": {},
   "source": [
    "# Download Data"
   ]
  },
  {
   "cell_type": "code",
   "execution_count": 6,
   "metadata": {
    "scrolled": true
   },
   "outputs": [
    {
     "data": {
      "text/plain": [
       "['BigQuery-Dataset-Access.md',\n",
       " 'test.csv',\n",
       " 'sample_submission.csv',\n",
       " 'submission_metric_map.json',\n",
       " 'train.csv']"
      ]
     },
     "execution_count": 6,
     "metadata": {},
     "output_type": "execute_result"
    }
   ],
   "source": [
    "importlib.reload(JLpyUtils.kaggle)\n",
    "\n",
    "competition = 'bigquery-geotab-intersection-congestion'\n",
    "\n",
    "#JLpyUtils.kaggle.setup_config_dir(username='jtleona01', key = 'foo')\n",
    "# JLpyUtils.kaggle.competition_download_files(competition,\n",
    "#                                             path_report_dir=path_report_dir)\n",
    "path_competition_data = os.path.join(path_report_dir,competition)\n",
    "os.listdir(path_competition_data)"
   ]
  },
  {
   "cell_type": "markdown",
   "metadata": {},
   "source": [
    "# Load Data"
   ]
  },
  {
   "cell_type": "code",
   "execution_count": 7,
   "metadata": {},
   "outputs": [],
   "source": [
    "df_train = dask.dataframe.read_csv(os.path.join(path_competition_data,'train.csv'))\n",
    "df_train = df_train.set_index('RowId')\n",
    "\n",
    "df_field = dask.dataframe.read_csv(os.path.join(path_competition_data,'test.csv'))\n",
    "df_field = df_field.set_index('RowId')"
   ]
  },
  {
   "cell_type": "code",
   "execution_count": 8,
   "metadata": {},
   "outputs": [
    {
     "data": {
      "text/html": [
       "<div>\n",
       "<style scoped>\n",
       "    .dataframe tbody tr th:only-of-type {\n",
       "        vertical-align: middle;\n",
       "    }\n",
       "\n",
       "    .dataframe tbody tr th {\n",
       "        vertical-align: top;\n",
       "    }\n",
       "\n",
       "    .dataframe thead th {\n",
       "        text-align: right;\n",
       "    }\n",
       "</style>\n",
       "<table border=\"1\" class=\"dataframe\">\n",
       "  <thead>\n",
       "    <tr style=\"text-align: right;\">\n",
       "      <th></th>\n",
       "      <th>IntersectionId</th>\n",
       "      <th>Latitude</th>\n",
       "      <th>Longitude</th>\n",
       "      <th>EntryStreetName</th>\n",
       "      <th>ExitStreetName</th>\n",
       "      <th>EntryHeading</th>\n",
       "      <th>ExitHeading</th>\n",
       "      <th>Hour</th>\n",
       "      <th>Weekend</th>\n",
       "      <th>Month</th>\n",
       "      <th>Path</th>\n",
       "      <th>TotalTimeStopped_p20</th>\n",
       "      <th>TotalTimeStopped_p40</th>\n",
       "      <th>TotalTimeStopped_p50</th>\n",
       "      <th>TotalTimeStopped_p60</th>\n",
       "      <th>TotalTimeStopped_p80</th>\n",
       "      <th>TimeFromFirstStop_p20</th>\n",
       "      <th>TimeFromFirstStop_p40</th>\n",
       "      <th>TimeFromFirstStop_p50</th>\n",
       "      <th>TimeFromFirstStop_p60</th>\n",
       "      <th>TimeFromFirstStop_p80</th>\n",
       "      <th>DistanceToFirstStop_p20</th>\n",
       "      <th>DistanceToFirstStop_p40</th>\n",
       "      <th>DistanceToFirstStop_p50</th>\n",
       "      <th>DistanceToFirstStop_p60</th>\n",
       "      <th>DistanceToFirstStop_p80</th>\n",
       "      <th>City</th>\n",
       "    </tr>\n",
       "    <tr>\n",
       "      <th>RowId</th>\n",
       "      <th></th>\n",
       "      <th></th>\n",
       "      <th></th>\n",
       "      <th></th>\n",
       "      <th></th>\n",
       "      <th></th>\n",
       "      <th></th>\n",
       "      <th></th>\n",
       "      <th></th>\n",
       "      <th></th>\n",
       "      <th></th>\n",
       "      <th></th>\n",
       "      <th></th>\n",
       "      <th></th>\n",
       "      <th></th>\n",
       "      <th></th>\n",
       "      <th></th>\n",
       "      <th></th>\n",
       "      <th></th>\n",
       "      <th></th>\n",
       "      <th></th>\n",
       "      <th></th>\n",
       "      <th></th>\n",
       "      <th></th>\n",
       "      <th></th>\n",
       "      <th></th>\n",
       "      <th></th>\n",
       "    </tr>\n",
       "  </thead>\n",
       "  <tbody>\n",
       "    <tr>\n",
       "      <th>1920335</th>\n",
       "      <td>0</td>\n",
       "      <td>33.79166</td>\n",
       "      <td>-84.43003</td>\n",
       "      <td>Marietta Boulevard Northwest</td>\n",
       "      <td>Marietta Boulevard Northwest</td>\n",
       "      <td>NW</td>\n",
       "      <td>NW</td>\n",
       "      <td>0</td>\n",
       "      <td>0</td>\n",
       "      <td>6</td>\n",
       "      <td>Marietta Boulevard Northwest_NW_Marietta Boule...</td>\n",
       "      <td>0</td>\n",
       "      <td>0</td>\n",
       "      <td>0</td>\n",
       "      <td>0</td>\n",
       "      <td>0</td>\n",
       "      <td>0</td>\n",
       "      <td>0</td>\n",
       "      <td>0</td>\n",
       "      <td>0</td>\n",
       "      <td>0</td>\n",
       "      <td>0.0</td>\n",
       "      <td>0.0</td>\n",
       "      <td>0.0</td>\n",
       "      <td>0.0</td>\n",
       "      <td>0.0</td>\n",
       "      <td>Atlanta</td>\n",
       "    </tr>\n",
       "    <tr>\n",
       "      <th>1920336</th>\n",
       "      <td>0</td>\n",
       "      <td>33.79166</td>\n",
       "      <td>-84.43003</td>\n",
       "      <td>Marietta Boulevard Northwest</td>\n",
       "      <td>Marietta Boulevard Northwest</td>\n",
       "      <td>SE</td>\n",
       "      <td>SE</td>\n",
       "      <td>0</td>\n",
       "      <td>0</td>\n",
       "      <td>6</td>\n",
       "      <td>Marietta Boulevard Northwest_SE_Marietta Boule...</td>\n",
       "      <td>0</td>\n",
       "      <td>0</td>\n",
       "      <td>0</td>\n",
       "      <td>0</td>\n",
       "      <td>0</td>\n",
       "      <td>0</td>\n",
       "      <td>0</td>\n",
       "      <td>0</td>\n",
       "      <td>0</td>\n",
       "      <td>0</td>\n",
       "      <td>0.0</td>\n",
       "      <td>0.0</td>\n",
       "      <td>0.0</td>\n",
       "      <td>0.0</td>\n",
       "      <td>0.0</td>\n",
       "      <td>Atlanta</td>\n",
       "    </tr>\n",
       "    <tr>\n",
       "      <th>1920337</th>\n",
       "      <td>0</td>\n",
       "      <td>33.79166</td>\n",
       "      <td>-84.43003</td>\n",
       "      <td>Marietta Boulevard Northwest</td>\n",
       "      <td>Marietta Boulevard Northwest</td>\n",
       "      <td>NW</td>\n",
       "      <td>NW</td>\n",
       "      <td>1</td>\n",
       "      <td>0</td>\n",
       "      <td>6</td>\n",
       "      <td>Marietta Boulevard Northwest_NW_Marietta Boule...</td>\n",
       "      <td>0</td>\n",
       "      <td>0</td>\n",
       "      <td>0</td>\n",
       "      <td>0</td>\n",
       "      <td>0</td>\n",
       "      <td>0</td>\n",
       "      <td>0</td>\n",
       "      <td>0</td>\n",
       "      <td>0</td>\n",
       "      <td>0</td>\n",
       "      <td>0.0</td>\n",
       "      <td>0.0</td>\n",
       "      <td>0.0</td>\n",
       "      <td>0.0</td>\n",
       "      <td>0.0</td>\n",
       "      <td>Atlanta</td>\n",
       "    </tr>\n",
       "    <tr>\n",
       "      <th>1920338</th>\n",
       "      <td>0</td>\n",
       "      <td>33.79166</td>\n",
       "      <td>-84.43003</td>\n",
       "      <td>Marietta Boulevard Northwest</td>\n",
       "      <td>Marietta Boulevard Northwest</td>\n",
       "      <td>SE</td>\n",
       "      <td>SE</td>\n",
       "      <td>1</td>\n",
       "      <td>0</td>\n",
       "      <td>6</td>\n",
       "      <td>Marietta Boulevard Northwest_SE_Marietta Boule...</td>\n",
       "      <td>0</td>\n",
       "      <td>0</td>\n",
       "      <td>0</td>\n",
       "      <td>0</td>\n",
       "      <td>0</td>\n",
       "      <td>0</td>\n",
       "      <td>0</td>\n",
       "      <td>0</td>\n",
       "      <td>0</td>\n",
       "      <td>0</td>\n",
       "      <td>0.0</td>\n",
       "      <td>0.0</td>\n",
       "      <td>0.0</td>\n",
       "      <td>0.0</td>\n",
       "      <td>0.0</td>\n",
       "      <td>Atlanta</td>\n",
       "    </tr>\n",
       "    <tr>\n",
       "      <th>1920339</th>\n",
       "      <td>0</td>\n",
       "      <td>33.79166</td>\n",
       "      <td>-84.43003</td>\n",
       "      <td>Marietta Boulevard Northwest</td>\n",
       "      <td>Marietta Boulevard Northwest</td>\n",
       "      <td>NW</td>\n",
       "      <td>NW</td>\n",
       "      <td>2</td>\n",
       "      <td>0</td>\n",
       "      <td>6</td>\n",
       "      <td>Marietta Boulevard Northwest_NW_Marietta Boule...</td>\n",
       "      <td>0</td>\n",
       "      <td>0</td>\n",
       "      <td>0</td>\n",
       "      <td>0</td>\n",
       "      <td>0</td>\n",
       "      <td>0</td>\n",
       "      <td>0</td>\n",
       "      <td>0</td>\n",
       "      <td>0</td>\n",
       "      <td>0</td>\n",
       "      <td>0.0</td>\n",
       "      <td>0.0</td>\n",
       "      <td>0.0</td>\n",
       "      <td>0.0</td>\n",
       "      <td>0.0</td>\n",
       "      <td>Atlanta</td>\n",
       "    </tr>\n",
       "  </tbody>\n",
       "</table>\n",
       "</div>"
      ],
      "text/plain": [
       "         IntersectionId  Latitude  Longitude               EntryStreetName  \\\n",
       "RowId                                                                        \n",
       "1920335               0  33.79166  -84.43003  Marietta Boulevard Northwest   \n",
       "1920336               0  33.79166  -84.43003  Marietta Boulevard Northwest   \n",
       "1920337               0  33.79166  -84.43003  Marietta Boulevard Northwest   \n",
       "1920338               0  33.79166  -84.43003  Marietta Boulevard Northwest   \n",
       "1920339               0  33.79166  -84.43003  Marietta Boulevard Northwest   \n",
       "\n",
       "                       ExitStreetName EntryHeading ExitHeading  Hour  Weekend  \\\n",
       "RowId                                                                           \n",
       "1920335  Marietta Boulevard Northwest           NW          NW     0        0   \n",
       "1920336  Marietta Boulevard Northwest           SE          SE     0        0   \n",
       "1920337  Marietta Boulevard Northwest           NW          NW     1        0   \n",
       "1920338  Marietta Boulevard Northwest           SE          SE     1        0   \n",
       "1920339  Marietta Boulevard Northwest           NW          NW     2        0   \n",
       "\n",
       "         Month                                               Path  \\\n",
       "RowId                                                               \n",
       "1920335      6  Marietta Boulevard Northwest_NW_Marietta Boule...   \n",
       "1920336      6  Marietta Boulevard Northwest_SE_Marietta Boule...   \n",
       "1920337      6  Marietta Boulevard Northwest_NW_Marietta Boule...   \n",
       "1920338      6  Marietta Boulevard Northwest_SE_Marietta Boule...   \n",
       "1920339      6  Marietta Boulevard Northwest_NW_Marietta Boule...   \n",
       "\n",
       "         TotalTimeStopped_p20  TotalTimeStopped_p40  TotalTimeStopped_p50  \\\n",
       "RowId                                                                       \n",
       "1920335                     0                     0                     0   \n",
       "1920336                     0                     0                     0   \n",
       "1920337                     0                     0                     0   \n",
       "1920338                     0                     0                     0   \n",
       "1920339                     0                     0                     0   \n",
       "\n",
       "         TotalTimeStopped_p60  TotalTimeStopped_p80  TimeFromFirstStop_p20  \\\n",
       "RowId                                                                        \n",
       "1920335                     0                     0                      0   \n",
       "1920336                     0                     0                      0   \n",
       "1920337                     0                     0                      0   \n",
       "1920338                     0                     0                      0   \n",
       "1920339                     0                     0                      0   \n",
       "\n",
       "         TimeFromFirstStop_p40  TimeFromFirstStop_p50  TimeFromFirstStop_p60  \\\n",
       "RowId                                                                          \n",
       "1920335                      0                      0                      0   \n",
       "1920336                      0                      0                      0   \n",
       "1920337                      0                      0                      0   \n",
       "1920338                      0                      0                      0   \n",
       "1920339                      0                      0                      0   \n",
       "\n",
       "         TimeFromFirstStop_p80  DistanceToFirstStop_p20  \\\n",
       "RowId                                                     \n",
       "1920335                      0                      0.0   \n",
       "1920336                      0                      0.0   \n",
       "1920337                      0                      0.0   \n",
       "1920338                      0                      0.0   \n",
       "1920339                      0                      0.0   \n",
       "\n",
       "         DistanceToFirstStop_p40  DistanceToFirstStop_p50  \\\n",
       "RowId                                                       \n",
       "1920335                      0.0                      0.0   \n",
       "1920336                      0.0                      0.0   \n",
       "1920337                      0.0                      0.0   \n",
       "1920338                      0.0                      0.0   \n",
       "1920339                      0.0                      0.0   \n",
       "\n",
       "         DistanceToFirstStop_p60  DistanceToFirstStop_p80     City  \n",
       "RowId                                                               \n",
       "1920335                      0.0                      0.0  Atlanta  \n",
       "1920336                      0.0                      0.0  Atlanta  \n",
       "1920337                      0.0                      0.0  Atlanta  \n",
       "1920338                      0.0                      0.0  Atlanta  \n",
       "1920339                      0.0                      0.0  Atlanta  "
      ]
     },
     "execution_count": 8,
     "metadata": {},
     "output_type": "execute_result"
    }
   ],
   "source": [
    "df_train.head()"
   ]
  },
  {
   "cell_type": "code",
   "execution_count": 9,
   "metadata": {},
   "outputs": [
    {
     "data": {
      "text/html": [
       "<div>\n",
       "<style scoped>\n",
       "    .dataframe tbody tr th:only-of-type {\n",
       "        vertical-align: middle;\n",
       "    }\n",
       "\n",
       "    .dataframe tbody tr th {\n",
       "        vertical-align: top;\n",
       "    }\n",
       "\n",
       "    .dataframe thead th {\n",
       "        text-align: right;\n",
       "    }\n",
       "</style>\n",
       "<table border=\"1\" class=\"dataframe\">\n",
       "  <thead>\n",
       "    <tr style=\"text-align: right;\">\n",
       "      <th></th>\n",
       "      <th>IntersectionId</th>\n",
       "      <th>Latitude</th>\n",
       "      <th>Longitude</th>\n",
       "      <th>EntryStreetName</th>\n",
       "      <th>ExitStreetName</th>\n",
       "      <th>EntryHeading</th>\n",
       "      <th>ExitHeading</th>\n",
       "      <th>Hour</th>\n",
       "      <th>Weekend</th>\n",
       "      <th>Month</th>\n",
       "      <th>Path</th>\n",
       "      <th>City</th>\n",
       "    </tr>\n",
       "    <tr>\n",
       "      <th>RowId</th>\n",
       "      <th></th>\n",
       "      <th></th>\n",
       "      <th></th>\n",
       "      <th></th>\n",
       "      <th></th>\n",
       "      <th></th>\n",
       "      <th></th>\n",
       "      <th></th>\n",
       "      <th></th>\n",
       "      <th></th>\n",
       "      <th></th>\n",
       "      <th></th>\n",
       "    </tr>\n",
       "  </thead>\n",
       "  <tbody>\n",
       "    <tr>\n",
       "      <th>0</th>\n",
       "      <td>1</td>\n",
       "      <td>33.75094</td>\n",
       "      <td>-84.39303</td>\n",
       "      <td>Peachtree Street Southwest</td>\n",
       "      <td>Mitchell Street Southwest</td>\n",
       "      <td>SW</td>\n",
       "      <td>SE</td>\n",
       "      <td>0</td>\n",
       "      <td>0</td>\n",
       "      <td>6</td>\n",
       "      <td>Peachtree Street Southwest_SW_Mitchell Street ...</td>\n",
       "      <td>Atlanta</td>\n",
       "    </tr>\n",
       "    <tr>\n",
       "      <th>1</th>\n",
       "      <td>1</td>\n",
       "      <td>33.75094</td>\n",
       "      <td>-84.39303</td>\n",
       "      <td>Peachtree Street Southwest</td>\n",
       "      <td>Peachtree Street Southwest</td>\n",
       "      <td>SW</td>\n",
       "      <td>SW</td>\n",
       "      <td>0</td>\n",
       "      <td>0</td>\n",
       "      <td>6</td>\n",
       "      <td>Peachtree Street Southwest_SW_Peachtree Street...</td>\n",
       "      <td>Atlanta</td>\n",
       "    </tr>\n",
       "    <tr>\n",
       "      <th>2</th>\n",
       "      <td>1</td>\n",
       "      <td>33.75094</td>\n",
       "      <td>-84.39303</td>\n",
       "      <td>Peachtree Street Southwest</td>\n",
       "      <td>Peachtree Street Southwest</td>\n",
       "      <td>NE</td>\n",
       "      <td>NE</td>\n",
       "      <td>1</td>\n",
       "      <td>0</td>\n",
       "      <td>6</td>\n",
       "      <td>Peachtree Street Southwest_NE_Peachtree Street...</td>\n",
       "      <td>Atlanta</td>\n",
       "    </tr>\n",
       "    <tr>\n",
       "      <th>3</th>\n",
       "      <td>1</td>\n",
       "      <td>33.75094</td>\n",
       "      <td>-84.39303</td>\n",
       "      <td>Peachtree Street Southwest</td>\n",
       "      <td>Peachtree Street Southwest</td>\n",
       "      <td>SW</td>\n",
       "      <td>SW</td>\n",
       "      <td>1</td>\n",
       "      <td>0</td>\n",
       "      <td>6</td>\n",
       "      <td>Peachtree Street Southwest_SW_Peachtree Street...</td>\n",
       "      <td>Atlanta</td>\n",
       "    </tr>\n",
       "    <tr>\n",
       "      <th>4</th>\n",
       "      <td>1</td>\n",
       "      <td>33.75094</td>\n",
       "      <td>-84.39303</td>\n",
       "      <td>Peachtree Street Southwest</td>\n",
       "      <td>Peachtree Street Southwest</td>\n",
       "      <td>NE</td>\n",
       "      <td>NE</td>\n",
       "      <td>2</td>\n",
       "      <td>0</td>\n",
       "      <td>6</td>\n",
       "      <td>Peachtree Street Southwest_NE_Peachtree Street...</td>\n",
       "      <td>Atlanta</td>\n",
       "    </tr>\n",
       "  </tbody>\n",
       "</table>\n",
       "</div>"
      ],
      "text/plain": [
       "       IntersectionId  Latitude  Longitude             EntryStreetName  \\\n",
       "RowId                                                                    \n",
       "0                   1  33.75094  -84.39303  Peachtree Street Southwest   \n",
       "1                   1  33.75094  -84.39303  Peachtree Street Southwest   \n",
       "2                   1  33.75094  -84.39303  Peachtree Street Southwest   \n",
       "3                   1  33.75094  -84.39303  Peachtree Street Southwest   \n",
       "4                   1  33.75094  -84.39303  Peachtree Street Southwest   \n",
       "\n",
       "                   ExitStreetName EntryHeading ExitHeading  Hour  Weekend  \\\n",
       "RowId                                                                       \n",
       "0       Mitchell Street Southwest           SW          SE     0        0   \n",
       "1      Peachtree Street Southwest           SW          SW     0        0   \n",
       "2      Peachtree Street Southwest           NE          NE     1        0   \n",
       "3      Peachtree Street Southwest           SW          SW     1        0   \n",
       "4      Peachtree Street Southwest           NE          NE     2        0   \n",
       "\n",
       "       Month                                               Path     City  \n",
       "RowId                                                                     \n",
       "0          6  Peachtree Street Southwest_SW_Mitchell Street ...  Atlanta  \n",
       "1          6  Peachtree Street Southwest_SW_Peachtree Street...  Atlanta  \n",
       "2          6  Peachtree Street Southwest_NE_Peachtree Street...  Atlanta  \n",
       "3          6  Peachtree Street Southwest_SW_Peachtree Street...  Atlanta  \n",
       "4          6  Peachtree Street Southwest_NE_Peachtree Street...  Atlanta  "
      ]
     },
     "execution_count": 9,
     "metadata": {},
     "output_type": "execute_result"
    }
   ],
   "source": [
    "df_field.head()"
   ]
  },
  {
   "cell_type": "markdown",
   "metadata": {},
   "source": [
    "# Define Headers Dictionary"
   ]
  },
  {
   "cell_type": "code",
   "execution_count": 10,
   "metadata": {},
   "outputs": [
    {
     "name": "stdout",
     "output_type": "stream",
     "text": [
      "features:\n",
      " IntersectionId\n",
      " Latitude\n",
      " Longitude\n",
      " EntryStreetName\n",
      " ExitStreetName\n",
      " EntryHeading\n",
      " ExitHeading\n",
      " Hour\n",
      " Weekend\n",
      " Month\n",
      " Path\n",
      " City\n",
      "\n",
      "labels:\n",
      " TotalTimeStopped_p20\n",
      " TotalTimeStopped_p50\n",
      " TotalTimeStopped_p80\n",
      " DistanceToFirstStop_p20\n",
      " DistanceToFirstStop_p50\n",
      " DistanceToFirstStop_p80\n"
     ]
    }
   ],
   "source": [
    "headers_dict = {}\n",
    "headers_dict['features'] = list(df_field.columns)\n",
    "headers_dict['labels'] = [header for header in df_train.columns if ('TotalTime' in header or 'DistanceTo' in header) and ('p20' in header or 'p50' in header or 'p80' in header)]\n",
    "\n",
    "print('features:\\n','\\n '.join(headers_dict['features']))\n",
    "print('\\nlabels:\\n','\\n '.join(headers_dict['labels']))"
   ]
  },
  {
   "cell_type": "markdown",
   "metadata": {},
   "source": [
    "## Inspect Uniques"
   ]
  },
  {
   "cell_type": "code",
   "execution_count": 12,
   "metadata": {},
   "outputs": [
    {
     "name": "stdout",
     "output_type": "stream",
     "text": [
      "\n",
      "------ df_train n_uniques ------\n",
      "IntersectionId : 2539\n",
      "Latitude : 4505\n",
      "Longitude : 4541\n",
      "EntryStreetName : 1708\n",
      "ExitStreetName : 1694\n",
      "EntryHeading : 8\n",
      "\t ['E' 'N' 'NE' 'NW' 'S' 'SE' 'SW' 'W']\n",
      "ExitHeading : 8\n",
      "\t ['E' 'N' 'NE' 'NW' 'S' 'SE' 'SW' 'W']\n",
      "Hour : 24\n",
      "Weekend : 2\n",
      "\t [0 1]\n",
      "Month : 9\n",
      "\t [ 1  5  6  7  8  9 10 11 12]\n",
      "Path : 15111\n",
      "City : 4\n",
      "\t ['Atlanta' 'Boston' 'Chicago' 'Philadelphia']\n",
      "\n",
      "------ df_field n_uniques ------\n",
      "IntersectionId : 2768\n",
      "Latitude : 5613\n",
      "Longitude : 5614\n",
      "EntryStreetName : 2137\n",
      "ExitStreetName : 2118\n",
      "EntryHeading : 8\n",
      "\t ['E' 'N' 'NE' 'NW' 'S' 'SE' 'SW' 'W']\n",
      "ExitHeading : 8\n",
      "\t ['E' 'N' 'NE' 'NW' 'S' 'SE' 'SW' 'W']\n",
      "Hour : 24\n",
      "Weekend : 2\n",
      "\t [0 1]\n",
      "Month : 9\n",
      "\t [ 1  5  6  7  8  9 10 11 12]\n",
      "Path : 19855\n",
      "City : 4\n",
      "\t ['Atlanta' 'Boston' 'Chicago' 'Philadelphia']\n"
     ]
    }
   ],
   "source": [
    "n_uniques={}\n",
    "for label, df in [['df_train',df_train],\n",
    "                  ['df_field',df_field]]:\n",
    "    \n",
    "    print('\\n------ '+label +' n_uniques ------')\n",
    "    for feat in headers_dict['features']:\n",
    "        uniques = df[feat].compute().sort_values().unique()\n",
    "        n_uniques[feat] = len(uniques)\n",
    "        print(feat,':', n_uniques[feat])\n",
    "        if n_uniques[feat]<20:\n",
    "            print('\\t',uniques)"
   ]
  },
  {
   "cell_type": "markdown",
   "metadata": {},
   "source": [
    "# Vectorize Multi-Word Text"
   ]
  },
  {
   "cell_type": "code",
   "execution_count": 13,
   "metadata": {},
   "outputs": [
    {
     "data": {
      "text/plain": [
       "['EntryHeading',\n",
       " 'ExitHeading',\n",
       " 'Weekend',\n",
       " 'Month',\n",
       " 'City',\n",
       " 'EntryStreetName',\n",
       " 'ExitStreetName',\n",
       " 'Path']"
      ]
     },
     "execution_count": 13,
     "metadata": {},
     "output_type": "execute_result"
    }
   ],
   "source": [
    "headers_dict['categorical features'] = [key for key in n_uniques.keys() if n_uniques[key]<20 ]\n",
    "headers_dict['categorical features'] = headers_dict['categorical features'] + [feat for feat in df_train.columns if df_train[feat].dtype=='O' and feat not in headers_dict['categorical features']]\n",
    "headers_dict['categorical features']"
   ]
  },
  {
   "cell_type": "code",
   "execution_count": 14,
   "metadata": {},
   "outputs": [
    {
     "data": {
      "text/plain": [
       "['IntersectionId', 'Latitude', 'Longitude', 'Hour']"
      ]
     },
     "execution_count": 14,
     "metadata": {},
     "output_type": "execute_result"
    }
   ],
   "source": [
    "headers_dict['continuous features']= [feat for feat in headers_dict['features'] if feat not in headers_dict['categorical features']]\n",
    "headers_dict['continuous features']"
   ]
  },
  {
   "cell_type": "markdown",
   "metadata": {},
   "source": [
    "# Define X and Y"
   ]
  },
  {
   "cell_type": "code",
   "execution_count": 15,
   "metadata": {},
   "outputs": [],
   "source": [
    "X = df_train[headers_dict['features']]\n",
    "y = df_train[headers_dict['labels']]\n",
    "X_field = df_field[headers_dict['features']]"
   ]
  },
  {
   "cell_type": "markdown",
   "metadata": {},
   "source": [
    "# EDA"
   ]
  },
  {
   "cell_type": "code",
   "execution_count": 18,
   "metadata": {
    "scrolled": false
   },
   "outputs": [
    {
     "data": {
      "image/png": "[encoded data removed]",
      "text/plain": [
       "<Figure size 432x288 with 3 Axes>"
      ]
     },
     "metadata": {},
     "output_type": "display_data"
    },
    {
     "data": {
      "image/png": "[encoded data removed]",
      "text/plain": [
       "<Figure size 432x288 with 3 Axes>"
      ]
     },
     "metadata": {},
     "output_type": "display_data"
    },
    {
     "data": {
      "image/png": "[encoded data removed]",
      "text/plain": [
       "<Figure size 432x288 with 3 Axes>"
      ]
     },
     "metadata": {},
     "output_type": "display_data"
    },
    {
     "data": {
      "image/png": "[encoded data removed]",
      "text/plain": [
       "<Figure size 432x288 with 3 Axes>"
      ]
     },
     "metadata": {},
     "output_type": "display_data"
    }
   ],
   "source": [
    "importlib.reload(JLpyUtils.plot)\n",
    "JLpyUtils.plot.hist_or_bar(X, categorical_headers=headers_dict['categorical features'])"
   ]
  },
  {
   "cell_type": "code",
   "execution_count": 19,
   "metadata": {},
   "outputs": [
    {
     "data": {
      "image/png": "[encoded data removed]",
      "text/plain": [
       "<Figure size 432x288 with 3 Axes>"
      ]
     },
     "metadata": {},
     "output_type": "display_data"
    },
    {
     "data": {
      "image/png": "[encoded data removed]",
      "text/plain": [
       "<Figure size 432x288 with 3 Axes>"
      ]
     },
     "metadata": {},
     "output_type": "display_data"
    }
   ],
   "source": [
    "JLpyUtils.plot.hist_or_bar(y, xscale='log')"
   ]
  },
  {
   "cell_type": "markdown",
   "metadata": {},
   "source": [
    "# Feature Engineer"
   ]
  },
  {
   "cell_type": "code",
   "execution_count": null,
   "metadata": {},
   "outputs": [],
   "source": [
    "for i in range(2):\n",
    "    importlib.reload(JLpyUtils)\n",
    "    importlib.reload(JLpyUtils.ML)\n",
    "    importlib.reload(JLpyUtils.ML.preprocessing)\n",
    "    importlib.reload(JLpyUtils.ML.NeuralNet)\n",
    "    importlib.reload(JLpyUtils.ML.NeuralNet.Bert)\n",
    "    importlib.reload(JLpyUtils.ML.preprocessing._feat_eng_pipe)\n",
    "\n",
    "path_feat_eng_root_dir = os.path.join(path_report_dir, 'feat_eng')\n",
    "feat_eng_pipe = JLpyUtils.ML.preprocessing.feat_eng_pipe(path_feat_eng_root_dir, \n",
    "                                                         overwrite=False)"
   ]
  },
  {
   "cell_type": "code",
   "execution_count": null,
   "metadata": {},
   "outputs": [
    {
     "data": {
      "text/plain": [
       "{'path_feat_eng_root_dir': '/mr3_boltprod_john_t_leonard/Data_Science_Projects./outputs/Project_Kaggle_BigQuery-Geotab_Intersection_Congestion/feat_eng',\n",
       " 'verbose': 1,\n",
       " 'overwrite': False,\n",
       " 'BertWord2VecPCA_args': {'n_unique_threshold': 20,\n",
       "  'PCA_vect_length': 20,\n",
       "  'bert_model_ID': 'bert-base-uncased'},\n",
       " 'OneHot_cases': [True],\n",
       " 'Scalers_dict': {'MinMaxScaler': MinMaxScaler(copy=True, feature_range=(0, 1))},\n",
       " 'Imputer_categorical_dict': {'most_frequent': {None: None}},\n",
       " 'Imputer_continuous_dict': {'median': {None: None}},\n",
       " 'AbsCorrCoeff_thresholds': [0.99],\n",
       " 'save': <function JLpyUtils.file_utils.save(obj, filename, format_, path_dir)>,\n",
       " 'load': <function JLpyUtils.file_utils.load(filename, format_, path_dir, headers='infer')>}"
      ]
     },
     "execution_count": 17,
     "metadata": {},
     "output_type": "execute_result"
    }
   ],
   "source": [
    "import sklearn.preprocessing\n",
    "\n",
    "feat_eng_pipe.Scalers_dict = {'MinMaxScaler':sklearn.preprocessing.MinMaxScaler()}\n",
    "feat_eng_pipe.Imputer_continuous_dict = {'median':{None:None}}\n",
    "feat_eng_pipe.OneHot_cases = [True]\n",
    "feat_eng_pipe.__dict__"
   ]
  },
  {
   "cell_type": "markdown",
   "metadata": {},
   "source": [
    "## Fit"
   ]
  },
  {
   "cell_type": "code",
   "execution_count": null,
   "metadata": {
    "scrolled": false
   },
   "outputs": [
    {
     "name": "stdout",
     "output_type": "stream",
     "text": [
      "-------------------------------- feat_eng_pipe fit --------------------------------\n",
      "BertWord2VecPCA\n",
      "Total Progress: 16.667 %. EntryStreetName Vectorizing Progress: 0.351 %\r"
     ]
    },
    {
     "name": "stderr",
     "output_type": "stream",
     "text": [
      "/opt/conda/lib/python3.7/socket.py:660: ResourceWarning: unclosed <socket.socket fd=46, family=AddressFamily.AF_INET, type=SocketKind.SOCK_STREAM, proto=6, laddr=('172.17.0.2', 56544), raddr=('52.216.137.30', 443)>\n",
      "  self._sock = None\n",
      "ResourceWarning: Enable tracemalloc to get the object allocation traceback\n"
     ]
    },
    {
     "name": "stdout",
     "output_type": "stream",
     "text": [
      "Total Progress: 16.667 %. EntryStreetName Vectorizing Progress: 28.162 %\r"
     ]
    },
    {
     "name": "stderr",
     "output_type": "stream",
     "text": [
      "/opt/conda/lib/python3.7/socket.py:660: ResourceWarning: unclosed <socket.socket fd=46, family=AddressFamily.AF_INET, type=SocketKind.SOCK_STREAM, proto=6, laddr=('172.17.0.2', 53062), raddr=('52.216.144.189', 443)>\n",
      "  self._sock = None\n",
      "ResourceWarning: Enable tracemalloc to get the object allocation traceback\n"
     ]
    },
    {
     "name": "stdout",
     "output_type": "stream",
     "text": [
      "Total Progress: 16.667 %. EntryStreetName Vectorizing Progress: 43.677 %\r"
     ]
    },
    {
     "name": "stderr",
     "output_type": "stream",
     "text": [
      "/opt/conda/lib/python3.7/socket.py:660: ResourceWarning: unclosed <socket.socket fd=46, family=AddressFamily.AF_INET, type=SocketKind.SOCK_STREAM, proto=6, laddr=('172.17.0.2', 37568), raddr=('52.216.204.165', 443)>\n",
      "  self._sock = None\n",
      "ResourceWarning: Enable tracemalloc to get the object allocation traceback\n"
     ]
    },
    {
     "name": "stdout",
     "output_type": "stream",
     "text": [
      "Total Progress: 16.667 %. EntryStreetName Vectorizing Progress: 49.824 %\r"
     ]
    },
    {
     "name": "stderr",
     "output_type": "stream",
     "text": [
      "/opt/conda/lib/python3.7/socket.py:660: ResourceWarning: unclosed <socket.socket fd=46, family=AddressFamily.AF_INET, type=SocketKind.SOCK_STREAM, proto=6, laddr=('172.17.0.2', 35942), raddr=('52.216.170.5', 443)>\n",
      "  self._sock = None\n",
      "ResourceWarning: Enable tracemalloc to get the object allocation traceback\n"
     ]
    },
    {
     "name": "stdout",
     "output_type": "stream",
     "text": [
      "Total Progress: 33.333 %. ExitStreetName Vectorizing Progress: 35.183 %%\r"
     ]
    },
    {
     "name": "stderr",
     "output_type": "stream",
     "text": [
      "/opt/conda/lib/python3.7/socket.py:660: ResourceWarning: unclosed <socket.socket fd=46, family=AddressFamily.AF_INET, type=SocketKind.SOCK_STREAM, proto=6, laddr=('172.17.0.2', 53738), raddr=('52.216.81.195', 443)>\n",
      "  self._sock = None\n",
      "ResourceWarning: Enable tracemalloc to get the object allocation traceback\n"
     ]
    },
    {
     "name": "stdout",
     "output_type": "stream",
     "text": [
      "Total Progress: 33.333 %. ExitStreetName Vectorizing Progress: 58.501 %\r"
     ]
    },
    {
     "name": "stderr",
     "output_type": "stream",
     "text": [
      "/opt/conda/lib/python3.7/socket.py:660: ResourceWarning: unclosed <socket.socket fd=46, family=AddressFamily.AF_INET, type=SocketKind.SOCK_STREAM, proto=6, laddr=('172.17.0.2', 57568), raddr=('52.216.139.45', 443)>\n",
      "  self._sock = None\n",
      "ResourceWarning: Enable tracemalloc to get the object allocation traceback\n"
     ]
    },
    {
     "name": "stdout",
     "output_type": "stream",
     "text": [
      "Total Progress: 33.333 %. ExitStreetName Vectorizing Progress: 100.0 %%\r"
     ]
    },
    {
     "name": "stderr",
     "output_type": "stream",
     "text": [
      "/opt/conda/lib/python3.7/socket.py:660: ResourceWarning: unclosed <socket.socket fd=46, family=AddressFamily.AF_INET, type=SocketKind.SOCK_STREAM, proto=6, laddr=('172.17.0.2', 44580), raddr=('52.217.0.45', 443)>\n",
      "  self._sock = None\n",
      "ResourceWarning: Enable tracemalloc to get the object allocation traceback\n"
     ]
    },
    {
     "name": "stdout",
     "output_type": "stream",
     "text": [
      "Total Progress: 83.333 %. Path Vectorizing Progress: 0.375 %\r"
     ]
    },
    {
     "name": "stderr",
     "output_type": "stream",
     "text": [
      "/opt/conda/lib/python3.7/socket.py:660: ResourceWarning: unclosed <socket.socket fd=46, family=AddressFamily.AF_INET, type=SocketKind.SOCK_STREAM, proto=6, laddr=('172.17.0.2', 45962), raddr=('52.217.37.254', 443)>\n",
      "  self._sock = None\n",
      "ResourceWarning: Enable tracemalloc to get the object allocation traceback\n"
     ]
    },
    {
     "name": "stdout",
     "output_type": "stream",
     "text": [
      "Total Progress: 83.333 %. Path Vectorizing Progress: 0.505 %\r"
     ]
    },
    {
     "name": "stderr",
     "output_type": "stream",
     "text": [
      "/opt/conda/lib/python3.7/socket.py:660: ResourceWarning: unclosed <socket.socket fd=46, family=AddressFamily.AF_INET, type=SocketKind.SOCK_STREAM, proto=6, laddr=('172.17.0.2', 53076), raddr=('52.216.18.91', 443)>\n",
      "  self._sock = None\n",
      "ResourceWarning: Enable tracemalloc to get the object allocation traceback\n"
     ]
    },
    {
     "name": "stdout",
     "output_type": "stream",
     "text": [
      "Total Progress: 83.333 %. Path Vectorizing Progress: 3.003 %\r"
     ]
    },
    {
     "name": "stderr",
     "output_type": "stream",
     "text": [
      "/opt/conda/lib/python3.7/socket.py:660: ResourceWarning: unclosed <socket.socket fd=46, family=AddressFamily.AF_INET, type=SocketKind.SOCK_STREAM, proto=6, laddr=('172.17.0.2', 37748), raddr=('52.216.138.181', 443)>\n",
      "  self._sock = None\n",
      "ResourceWarning: Enable tracemalloc to get the object allocation traceback\n"
     ]
    },
    {
     "name": "stdout",
     "output_type": "stream",
     "text": [
      "Total Progress: 83.333 %. Path Vectorizing Progress: 4.621 %\r"
     ]
    },
    {
     "name": "stderr",
     "output_type": "stream",
     "text": [
      "/opt/conda/lib/python3.7/socket.py:660: ResourceWarning: unclosed <socket.socket fd=46, family=AddressFamily.AF_INET, type=SocketKind.SOCK_STREAM, proto=6, laddr=('172.17.0.2', 35952), raddr=('52.217.38.190', 443)>\n",
      "  self._sock = None\n",
      "ResourceWarning: Enable tracemalloc to get the object allocation traceback\n"
     ]
    },
    {
     "name": "stdout",
     "output_type": "stream",
     "text": [
      "Total Progress: 83.333 %. Path Vectorizing Progress: 8.061 %\r"
     ]
    },
    {
     "name": "stderr",
     "output_type": "stream",
     "text": [
      "/opt/conda/lib/python3.7/socket.py:660: ResourceWarning: unclosed <socket.socket fd=46, family=AddressFamily.AF_INET, type=SocketKind.SOCK_STREAM, proto=6, laddr=('172.17.0.2', 47808), raddr=('52.216.10.29', 443)>\n",
      "  self._sock = None\n",
      "ResourceWarning: Enable tracemalloc to get the object allocation traceback\n"
     ]
    },
    {
     "name": "stdout",
     "output_type": "stream",
     "text": [
      "Total Progress: 83.333 %. Path Vectorizing Progress: 8.921 %\r"
     ]
    },
    {
     "name": "stderr",
     "output_type": "stream",
     "text": [
      "/opt/conda/lib/python3.7/socket.py:660: ResourceWarning: unclosed <socket.socket fd=46, family=AddressFamily.AF_INET, type=SocketKind.SOCK_STREAM, proto=6, laddr=('172.17.0.2', 51172), raddr=('52.216.113.45', 443)>\n",
      "  self._sock = None\n",
      "ResourceWarning: Enable tracemalloc to get the object allocation traceback\n"
     ]
    },
    {
     "name": "stdout",
     "output_type": "stream",
     "text": [
      "Total Progress: 83.333 %. Path Vectorizing Progress: 8.962 %\r"
     ]
    },
    {
     "name": "stderr",
     "output_type": "stream",
     "text": [
      "/opt/conda/lib/python3.7/socket.py:660: ResourceWarning: unclosed <socket.socket fd=46, family=AddressFamily.AF_INET, type=SocketKind.SOCK_STREAM, proto=6, laddr=('172.17.0.2', 33684), raddr=('52.216.94.149', 443)>\n",
      "  self._sock = None\n",
      "ResourceWarning: Enable tracemalloc to get the object allocation traceback\n"
     ]
    },
    {
     "name": "stdout",
     "output_type": "stream",
     "text": [
      "Total Progress: 83.333 %. Path Vectorizing Progress: 11.576 %\r"
     ]
    },
    {
     "name": "stderr",
     "output_type": "stream",
     "text": [
      "/opt/conda/lib/python3.7/socket.py:660: ResourceWarning: unclosed <socket.socket fd=46, family=AddressFamily.AF_INET, type=SocketKind.SOCK_STREAM, proto=6, laddr=('172.17.0.2', 50736), raddr=('52.217.9.30', 443)>\n",
      "  self._sock = None\n",
      "ResourceWarning: Enable tracemalloc to get the object allocation traceback\n"
     ]
    },
    {
     "name": "stdout",
     "output_type": "stream",
     "text": [
      "Total Progress: 83.333 %. Path Vectorizing Progress: 11.678 %\r"
     ]
    },
    {
     "name": "stderr",
     "output_type": "stream",
     "text": [
      "/opt/conda/lib/python3.7/socket.py:660: ResourceWarning: unclosed <socket.socket fd=46, family=AddressFamily.AF_INET, type=SocketKind.SOCK_STREAM, proto=6, laddr=('172.17.0.2', 42544), raddr=('54.231.82.84', 443)>\n",
      "  self._sock = None\n",
      "ResourceWarning: Enable tracemalloc to get the object allocation traceback\n"
     ]
    },
    {
     "name": "stdout",
     "output_type": "stream",
     "text": [
      "Total Progress: 83.333 %. Path Vectorizing Progress: 12.504 %\r"
     ]
    },
    {
     "name": "stderr",
     "output_type": "stream",
     "text": [
      "/opt/conda/lib/python3.7/socket.py:660: ResourceWarning: unclosed <socket.socket fd=46, family=AddressFamily.AF_INET, type=SocketKind.SOCK_STREAM, proto=6, laddr=('172.17.0.2', 32882), raddr=('52.216.10.141', 443)>\n",
      "  self._sock = None\n",
      "ResourceWarning: Enable tracemalloc to get the object allocation traceback\n"
     ]
    },
    {
     "name": "stdout",
     "output_type": "stream",
     "text": [
      "Total Progress: 83.333 %. Path Vectorizing Progress: 12.661 %\r"
     ]
    },
    {
     "name": "stderr",
     "output_type": "stream",
     "text": [
      "/opt/conda/lib/python3.7/socket.py:660: ResourceWarning: unclosed <socket.socket fd=46, family=AddressFamily.AF_INET, type=SocketKind.SOCK_STREAM, proto=6, laddr=('172.17.0.2', 48404), raddr=('52.216.86.13', 443)>\n",
      "  self._sock = None\n",
      "ResourceWarning: Enable tracemalloc to get the object allocation traceback\n"
     ]
    },
    {
     "name": "stdout",
     "output_type": "stream",
     "text": [
      "Total Progress: 83.333 %. Path Vectorizing Progress: 19.296 %\r"
     ]
    }
   ],
   "source": [
    "feat_eng_pipe.fit(X, headers_dict)"
   ]
  },
  {
   "cell_type": "markdown",
   "metadata": {},
   "source": [
    "## Transform"
   ]
  },
  {
   "cell_type": "code",
   "execution_count": null,
   "metadata": {},
   "outputs": [],
   "source": [
    "feat_eng_pipe.transform(X_field)"
   ]
  },
  {
   "cell_type": "markdown",
   "metadata": {},
   "source": [
    "# Select Feat. Eng. Case of Interest"
   ]
  },
  {
   "cell_type": "code",
   "execution_count": null,
   "metadata": {},
   "outputs": [],
   "source": [
    "feat_eng_case_dir = feat_eng_pipe.path_feat_eng_dirs[0]\n",
    "feat_eng_case_dir"
   ]
  },
  {
   "cell_type": "code",
   "execution_count": null,
   "metadata": {},
   "outputs": [],
   "source": [
    "headers_dict = JLpyUtils.file_utils.load('headers_dict','json',feat_eng_case_dir)\n",
    "headers_dict.keys()"
   ]
  },
  {
   "cell_type": "code",
   "execution_count": null,
   "metadata": {},
   "outputs": [],
   "source": [
    "X = JLpyUtils.file_utils.load('X','csv',feat_eng_case_dir)\n",
    "X = X.compute()\n",
    "X.head()"
   ]
  },
  {
   "cell_type": "code",
   "execution_count": null,
   "metadata": {},
   "outputs": [],
   "source": [
    "X_field = JLpyUtils.file_utils.load('X_field','csv',feat_eng_case_dir)\n",
    "X_field = X_field.compute()\n",
    "X_field.head()"
   ]
  },
  {
   "cell_type": "code",
   "execution_count": 27,
   "metadata": {},
   "outputs": [
    {
     "ename": "ValueError",
     "evalue": "Found input variables with inconsistent numbers of samples: [844259, 857409]",
     "output_type": "error",
     "traceback": [
      "\u001b[0;31m---------------------------------------------------------------------------\u001b[0m",
      "\u001b[0;31mValueError\u001b[0m                                Traceback (most recent call last)",
      "\u001b[0;32m<ipython-input-27-551cdb4550b6>\u001b[0m in \u001b[0;36m<module>\u001b[0;34m\u001b[0m\n\u001b[1;32m      3\u001b[0m X_train, X_test, y_train, y_test = sklearn.model_selection.train_test_split(X, y, \n\u001b[1;32m      4\u001b[0m                                                                             \u001b[0mrandom_state\u001b[0m\u001b[0;34m=\u001b[0m\u001b[0mrandom_state\u001b[0m\u001b[0;34m,\u001b[0m\u001b[0;34m\u001b[0m\u001b[0;34m\u001b[0m\u001b[0m\n\u001b[0;32m----> 5\u001b[0;31m                                                                             test_size=test_size)\n\u001b[0m\u001b[1;32m      6\u001b[0m \u001b[0;32massert\u001b[0m\u001b[0;34m(\u001b[0m\u001b[0mX_train\u001b[0m\u001b[0;34m.\u001b[0m\u001b[0mshape\u001b[0m\u001b[0;34m[\u001b[0m\u001b[0;36m0\u001b[0m\u001b[0;34m]\u001b[0m\u001b[0;34m==\u001b[0m\u001b[0my_train\u001b[0m\u001b[0;34m.\u001b[0m\u001b[0mshape\u001b[0m\u001b[0;34m[\u001b[0m\u001b[0;36m0\u001b[0m\u001b[0;34m]\u001b[0m\u001b[0;34m)\u001b[0m\u001b[0;34m\u001b[0m\u001b[0;34m\u001b[0m\u001b[0m\n",
      "\u001b[0;32m/opt/conda/lib/python3.7/site-packages/sklearn/model_selection/_split.py\u001b[0m in \u001b[0;36mtrain_test_split\u001b[0;34m(*arrays, **options)\u001b[0m\n\u001b[1;32m   2094\u001b[0m         \u001b[0;32mraise\u001b[0m \u001b[0mTypeError\u001b[0m\u001b[0;34m(\u001b[0m\u001b[0;34m\"Invalid parameters passed: %s\"\u001b[0m \u001b[0;34m%\u001b[0m \u001b[0mstr\u001b[0m\u001b[0;34m(\u001b[0m\u001b[0moptions\u001b[0m\u001b[0;34m)\u001b[0m\u001b[0;34m)\u001b[0m\u001b[0;34m\u001b[0m\u001b[0;34m\u001b[0m\u001b[0m\n\u001b[1;32m   2095\u001b[0m \u001b[0;34m\u001b[0m\u001b[0m\n\u001b[0;32m-> 2096\u001b[0;31m     \u001b[0marrays\u001b[0m \u001b[0;34m=\u001b[0m \u001b[0mindexable\u001b[0m\u001b[0;34m(\u001b[0m\u001b[0;34m*\u001b[0m\u001b[0marrays\u001b[0m\u001b[0;34m)\u001b[0m\u001b[0;34m\u001b[0m\u001b[0;34m\u001b[0m\u001b[0m\n\u001b[0m\u001b[1;32m   2097\u001b[0m \u001b[0;34m\u001b[0m\u001b[0m\n\u001b[1;32m   2098\u001b[0m     \u001b[0mn_samples\u001b[0m \u001b[0;34m=\u001b[0m \u001b[0m_num_samples\u001b[0m\u001b[0;34m(\u001b[0m\u001b[0marrays\u001b[0m\u001b[0;34m[\u001b[0m\u001b[0;36m0\u001b[0m\u001b[0;34m]\u001b[0m\u001b[0;34m)\u001b[0m\u001b[0;34m\u001b[0m\u001b[0;34m\u001b[0m\u001b[0m\n",
      "\u001b[0;32m/opt/conda/lib/python3.7/site-packages/sklearn/utils/validation.py\u001b[0m in \u001b[0;36mindexable\u001b[0;34m(*iterables)\u001b[0m\n\u001b[1;32m    228\u001b[0m         \u001b[0;32melse\u001b[0m\u001b[0;34m:\u001b[0m\u001b[0;34m\u001b[0m\u001b[0;34m\u001b[0m\u001b[0m\n\u001b[1;32m    229\u001b[0m             \u001b[0mresult\u001b[0m\u001b[0;34m.\u001b[0m\u001b[0mappend\u001b[0m\u001b[0;34m(\u001b[0m\u001b[0mnp\u001b[0m\u001b[0;34m.\u001b[0m\u001b[0marray\u001b[0m\u001b[0;34m(\u001b[0m\u001b[0mX\u001b[0m\u001b[0;34m)\u001b[0m\u001b[0;34m)\u001b[0m\u001b[0;34m\u001b[0m\u001b[0;34m\u001b[0m\u001b[0m\n\u001b[0;32m--> 230\u001b[0;31m     \u001b[0mcheck_consistent_length\u001b[0m\u001b[0;34m(\u001b[0m\u001b[0;34m*\u001b[0m\u001b[0mresult\u001b[0m\u001b[0;34m)\u001b[0m\u001b[0;34m\u001b[0m\u001b[0;34m\u001b[0m\u001b[0m\n\u001b[0m\u001b[1;32m    231\u001b[0m     \u001b[0;32mreturn\u001b[0m \u001b[0mresult\u001b[0m\u001b[0;34m\u001b[0m\u001b[0;34m\u001b[0m\u001b[0m\n\u001b[1;32m    232\u001b[0m \u001b[0;34m\u001b[0m\u001b[0m\n",
      "\u001b[0;32m/opt/conda/lib/python3.7/site-packages/sklearn/utils/validation.py\u001b[0m in \u001b[0;36mcheck_consistent_length\u001b[0;34m(*arrays)\u001b[0m\n\u001b[1;32m    203\u001b[0m     \u001b[0;32mif\u001b[0m \u001b[0mlen\u001b[0m\u001b[0;34m(\u001b[0m\u001b[0muniques\u001b[0m\u001b[0;34m)\u001b[0m \u001b[0;34m>\u001b[0m \u001b[0;36m1\u001b[0m\u001b[0;34m:\u001b[0m\u001b[0;34m\u001b[0m\u001b[0;34m\u001b[0m\u001b[0m\n\u001b[1;32m    204\u001b[0m         raise ValueError(\"Found input variables with inconsistent numbers of\"\n\u001b[0;32m--> 205\u001b[0;31m                          \" samples: %r\" % [int(l) for l in lengths])\n\u001b[0m\u001b[1;32m    206\u001b[0m \u001b[0;34m\u001b[0m\u001b[0m\n\u001b[1;32m    207\u001b[0m \u001b[0;34m\u001b[0m\u001b[0m\n",
      "\u001b[0;31mValueError\u001b[0m: Found input variables with inconsistent numbers of samples: [844259, 857409]"
     ]
    }
   ],
   "source": [
    "test_size = 0.3\n",
    "random_state = 0\n",
    "X_train, X_test, y_train, y_test = sklearn.model_selection.train_test_split(X.compute(), y.compute(), \n",
    "                                                                            random_state=random_state, \n",
    "                                                                            test_size=test_size)\n",
    "assert(X_train.shape[0]==y_train.shape[0])"
   ]
  },
  {
   "cell_type": "markdown",
   "metadata": {},
   "source": [
    "# Model Selection"
   ]
  },
  {
   "cell_type": "code",
   "execution_count": null,
   "metadata": {
    "scrolled": false
   },
   "outputs": [],
   "source": [
    "importlib.reload(JLpyUtils.ML.model_selection.default_models_dict)\n",
    "\n",
    "n_features = X.shape[1]\n",
    "n_labels = y.shape[1]\n",
    "models=['XGBoost','Linear',  'DecisionTree', 'RandomForest']#'DenseNet''KNN',\n",
    "\n",
    "models_dict = JLpyUtils.ML.model_selection.default_models_dict.regression(n_features, n_labels, models)\n",
    "models_dict"
   ]
  },
  {
   "cell_type": "code",
   "execution_count": null,
   "metadata": {},
   "outputs": [],
   "source": [
    "importlib.reload(JLpyUtils.ML.model_selection)\n",
    "importlib.reload(JLpyUtils.ML.model_selection._search)\n",
    "importlib.reload(JLpyUtils.ML.model_selection)\n",
    "importlib.reload(JLpyUtils.ML.model_selection._search)\n",
    "\n",
    "GridSearch_dir = os.path.join(feat_eng_case_dir,'GridSearchCV(y_MinMax_log1p_Scaled)')\n",
    "\n",
    "metrics = {'r2_score': sklearn.metrics.r2_score}\n",
    "GridSearchCV = JLpyUtils.ML.model_selection.GridSearchCV(models_dict,\n",
    "                                                         cv=4, \n",
    "                                                         scoring={'metric': None, \n",
    "                                                                  'maximize': True}, \n",
    "                                                         metrics=metrics, \n",
    "                                                         retrain=False, \n",
    "                                                         path_root_dir=GridSearch_dir, \n",
    "                                                         n_jobs=-1, \n",
    "                                                         verbose=2)"
   ]
  },
  {
   "cell_type": "code",
   "execution_count": null,
   "metadata": {
    "scrolled": false
   },
   "outputs": [],
   "source": [
    "GridSearchCV.fit(X_train, y_train, X_test, y_test)"
   ]
  },
  {
   "cell_type": "markdown",
   "metadata": {},
   "source": [
    "https://ml.dask.org/examples/xgboost.html"
   ]
  },
  {
   "cell_type": "code",
   "execution_count": null,
   "metadata": {},
   "outputs": [],
   "source": [
    "importlib.reload(JLpyUtils.ML.inspection.compare)\n",
    "\n",
    "metrics = {'r2_score': sklearn.metrics.r2_score,\n",
    "           'mse':sklearn.metrics.mean_squared_error,\n",
    "           'mae':sklearn.metrics.mean_absolute_error}\n",
    "\n",
    "_, df_metrics = JLpyUtils.ML.inspection.compare.model_metrics(GridSearchCV.models_dict, metrics, X_test, y_test)"
   ]
  },
  {
   "cell_type": "markdown",
   "metadata": {},
   "source": [
    "# Fetch BoB model"
   ]
  },
  {
   "cell_type": "code",
   "execution_count": null,
   "metadata": {},
   "outputs": [],
   "source": [
    "BoB_model_ID = df_metrics['model'].iloc[-1]\n",
    "BoB_model_ID"
   ]
  },
  {
   "cell_type": "code",
   "execution_count": null,
   "metadata": {},
   "outputs": [],
   "source": [
    "BoB_model = GridSearchCV.models_dict[best_model_ID]['best_model']\n",
    "BoB_model"
   ]
  },
  {
   "cell_type": "markdown",
   "metadata": {},
   "source": [
    "# Evaluate on Field Data"
   ]
  },
  {
   "cell_type": "code",
   "execution_count": null,
   "metadata": {
    "scrolled": true
   },
   "outputs": [],
   "source": [
    "y_field = BoB_model.predict(X_field)\n",
    "y_field = pd.DataFrame(Scaler_y.inverse_transform(y_field), columns = list(y.columns))\n",
    "\n",
    "#ensure no values outside physical limits\n",
    "for header in y_field.columns:\n",
    "    y_field[y_field[header]<0] = 0\n",
    "\n",
    "y_field.head()"
   ]
  },
  {
   "cell_type": "code",
   "execution_count": null,
   "metadata": {},
   "outputs": [],
   "source": [
    "def reformat_field_preds_for_submission(y_field):\n",
    "    submission_metric_map = JLpyUtils.file_utils.load('submission_metric_map','json',\n",
    "                                                      path_competition_data)\n",
    "    \n",
    "    # ensure consistant ordering of columns\n",
    "    y_field = y_field[[submission_metric_map[key] for key in submission_metric_map.keys()]]\n",
    "    y_field = np.array(y_field)\n",
    "    \n",
    "    n_rows = y_field.shape[0]*y_field.shape[1]\n",
    "    \n",
    "    y_field_formatted = {'TargetID':['empty' for val in range(n_rows)],\n",
    "                         'Target': [0 for val in range(n_rows)] \n",
    "                        }\n",
    "    \n",
    "    \n",
    "    r = 0\n",
    "    for i in range(y_field.shape[0]):\n",
    "        for j in range(y_field.shape[1]):\n",
    "            y_field_formatted['TargetID'][r] = str(i)+'_'+str(j)\n",
    "            y_field_formatted['Target'][r] = y_field[i,j]\n",
    "            r+=1\n",
    "    \n",
    "    y_field_formatted = pd.DataFrame.from_dict(y_field_formatted)\n",
    "    \n",
    "    return y_field_formatted\n",
    "                      \n",
    "y_field_formatted = reformat_field_preds_for_submission(y_field)\n",
    "y_field_formatted.head()"
   ]
  },
  {
   "cell_type": "code",
   "execution_count": null,
   "metadata": {},
   "outputs": [],
   "source": [
    "y_field_formatted.tail()"
   ]
  },
  {
   "cell_type": "code",
   "execution_count": null,
   "metadata": {},
   "outputs": [],
   "source": [
    "y_field_formatted.to_csv(os.path.join(GridSearch_dir, 'y_field_formatted.csv'),\n",
    "                         index=False)"
   ]
  },
  {
   "cell_type": "code",
   "execution_count": null,
   "metadata": {},
   "outputs": [],
   "source": [
    "GridSearch_dir"
   ]
  },
  {
   "cell_type": "code",
   "execution_count": null,
   "metadata": {},
   "outputs": [],
   "source": []
  }
 ],
 "metadata": {
  "kernelspec": {
   "display_name": "Python 3",
   "language": "python",
   "name": "python3"
  },
  "language_info": {
   "codemirror_mode": {
    "name": "ipython",
    "version": 3
   },
   "file_extension": ".py",
   "mimetype": "text/x-python",
   "name": "python",
   "nbconvert_exporter": "python",
   "pygments_lexer": "ipython3",
   "version": "3.7.2"
  },
  "toc": {
   "base_numbering": 1,
   "nav_menu": {},
   "number_sections": true,
   "sideBar": true,
   "skip_h1_title": false,
   "title_cell": "Table of Contents",
   "title_sidebar": "Contents",
   "toc_cell": false,
   "toc_position": {},
   "toc_section_display": true,
   "toc_window_display": false
  }
 },
 "nbformat": 4,
 "nbformat_minor": 2
}
